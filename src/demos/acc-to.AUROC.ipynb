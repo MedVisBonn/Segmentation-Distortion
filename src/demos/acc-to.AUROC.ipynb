{
 "cells": [
  {
   "cell_type": "code",
   "execution_count": 49,
   "id": "b8f3bcbf",
   "metadata": {},
   "outputs": [],
   "source": [
    "# core\n",
    "import os, sys\n",
    "from typing import Iterable, Dict, List, Callable, Tuple, Union, List\n",
    "\n",
    "# third party\n",
    "import numpy as np\n",
    "import matplotlib.pyplot as plt\n",
    "import torch\n",
    "from torch import nn, Tensor\n",
    "from torch.utils.data import DataLoader, default_collate\n",
    "import torch.nn.functional as F\n",
    "from torchmetrics import SpearmanCorrCoef, AUROC\n",
    "from sklearn.covariance import LedoitWolf #\n",
    "# custom\n",
    "sys.path.append('../')\n",
    "from dataset import (\n",
    "    ACDCDataset, \n",
    "    MNMDataset)\n",
    "from model.unet import UNet2D, UNetEnsemble\n",
    "from model.ae import AE\n",
    "from model.wrapper import Frankenstein\n",
    "from losses import DiceScoreCalgary, DiceScoreMMS #\n",
    "from utils import UMapGenerator\n"
   ]
  },
  {
   "cell_type": "code",
   "execution_count": 3,
   "id": "b5ae3dfc",
   "metadata": {},
   "outputs": [
    {
     "name": "stdout",
     "output_type": "stream",
     "text": [
      "loading dataset\n",
      "loading all case properties\n",
      "loading dataset\n",
      "loading all case properties\n",
      "loading dataset\n",
      "loading all case properties\n"
     ]
    }
   ],
   "source": [
    "### Data - M&M only\n",
    "### - datasets\n",
    "debug = False\n",
    "batch_size = 1\n",
    "test_vendor = 'A'\n",
    "\n",
    "loader = {}\n",
    "# - ACDC train\n",
    "acdc_train = ACDCDataset(data='train', debug=debug)\n",
    "acdc_train_loader = DataLoader(acdc_train, batch_size=batch_size, shuffle=False, drop_last=False)\n",
    "loader['train'] = acdc_train_loader\n",
    "# - ACDC val\n",
    "acdc_val = ACDCDataset(data='val', debug=debug)\n",
    "acdc_val_loader = DataLoader(acdc_val, batch_size=batch_size, shuffle=False, drop_last=False)\n",
    "loader['val'] = acdc_val_loader\n",
    "# - M&M A\n",
    "mnm_a = MNMDataset(vendor=test_vendor, debug=debug)\n",
    "mnm_a_loader = DataLoader(mnm_a, batch_size=batch_size, shuffle=False, drop_last=False)\n",
    "loader['test'] = mnm_a_loader\n",
    "\n"
   ]
  },
  {
   "cell_type": "code",
   "execution_count": 4,
   "id": "23197536",
   "metadata": {},
   "outputs": [
    {
     "name": "stdout",
     "output_type": "stream",
     "text": [
      "\n"
     ]
    }
   ],
   "source": [
    "### Model\n",
    "# segmentation distortion, gonzales\n",
    "# - path\n",
    "root = '../../'\n",
    "# U-Nets\n",
    "middle = 'unet8_' \n",
    "pre = 'acdc'   \n",
    "unet_name = f'{pre}_{middle}{0}'\n",
    "\n",
    "model_path = f'{root}pre-trained-tmp/trained_UNets/{unet_name}_best.pt'\n",
    "state_dict = torch.load(model_path)['model_state_dict']\n",
    "n_chans_out = 4 \n",
    "unet = UNet2D(n_chans_in=1, \n",
    "              n_chans_out=n_chans_out, \n",
    "              n_filters_init=8, \n",
    "              dropout=False)\n",
    "unet.load_state_dict(state_dict)\n",
    "unet.cuda()\n",
    "\n",
    "\n",
    "# - instantiate transformations\n",
    "layer_ids = ['shortcut0', 'shortcut1', 'shortcut2', 'up3']\n",
    "disabled_ids = ['shortcut0', 'shortcut1', 'shortcut2']\n",
    "\n",
    "                   #    channel, spatial, latent,  depth, block \n",
    "ae_map   = {'up3': [        64,      32,    128,     2,      4]}\n",
    "\n",
    "\n",
    "AEs = nn.ModuleDict({'up3': AE(in_channels = ae_map['up3'][0], \n",
    "                                    in_dim      = ae_map['up3'][1],\n",
    "                                    latent_dim  = ae_map['up3'][2],\n",
    "                                    depth       = ae_map['up3'][3],\n",
    "                                    block_size  = ae_map['up3'][4])})\n",
    "\n",
    "for layer_id in disabled_ids:\n",
    "     AEs[layer_id] = nn.Identity()\n",
    "\n",
    "model = Frankenstein(unet, \n",
    "                     AEs, \n",
    "                     disabled_ids=disabled_ids,\n",
    "                     copy=True)\n",
    "model.cuda()\n",
    "print()"
   ]
  },
  {
   "cell_type": "code",
   "execution_count": 62,
   "id": "02a8b97d",
   "metadata": {},
   "outputs": [],
   "source": [
    "### eval functions to wirte in\n",
    "\n",
    "class PoolingMahalabonisDetector(nn.Module):\n",
    "    \"\"\"\n",
    "    Evaluation class for OOD and ESCE tasks based on https://arxiv.org/abs/2107.05975.\n",
    "    \"\"\"\n",
    "    \n",
    "    def __init__(\n",
    "        self, \n",
    "        model: nn.Module, \n",
    "        layer_ids: List[str], \n",
    "        train_loader: DataLoader, \n",
    "        valid_loader: DataLoader,\n",
    "        net_out: str,\n",
    "        criterion: nn.Module = DiceScoreCalgary(),\n",
    "        device: str = 'cuda:0'\n",
    "    ):\n",
    "        super().__init__()\n",
    "        self.device       = device\n",
    "        self.model        = model.to(device)\n",
    "        self.model.eval()\n",
    "        self.layer_ids    = layer_ids\n",
    "        self.train_loader = train_loader\n",
    "        self.valid_loader = valid_loader\n",
    "        self.net_out      = net_out\n",
    "        self.criterion    = criterion\n",
    "        self.pool         = nn.AvgPool3d(kernel_size=(2,2,2), stride=(2,2,2))\n",
    "        self.auroc        = AUROC(task = 'binary')\n",
    "        \n",
    "        # Init score dict for each layer:\n",
    "        self.latents   = {layer_id: [] for layer_id in self.layer_ids}\n",
    "        self.mu        = {layer_id: None for layer_id in self.layer_ids}\n",
    "        self.sigma_inv = {layer_id: None for layer_id in self.layer_ids}\n",
    "        self.dist      = {layer_id : 0 for layer_id in self.layer_ids}\n",
    "        \n",
    "        self._get_latents()\n",
    "        self._fit_gaussian_to_latents()\n",
    "        \n",
    "        \n",
    "    @torch.no_grad()\n",
    "    def _get_hook_fn(self, layer_id: str, mode: str = 'collect') -> Callable:\n",
    "        \n",
    "        def hook_fn(module: nn.Module, x: Tuple[Tensor]):\n",
    "            x = x[0]\n",
    "            while torch.prod(torch.tensor(x.shape[1:])) > 1e4:\n",
    "                x = self.pool(x)\n",
    "            x = self.pool(x)\n",
    "            batch_size = x.shape[0]\n",
    "\n",
    "            if mode == 'collect':\n",
    "                self.latents[layer_id].append(x.view(batch_size, -1).detach().cpu())\n",
    "            elif mode == 'single':\n",
    "                self.dist[layer_id] = x.view(batch_size, -1).to(self.device)\n",
    "                \n",
    "        return hook_fn\n",
    "    \n",
    "    \n",
    "    @torch.no_grad()        \n",
    "    def _get_latents(self) -> None:\n",
    "        handles = {}\n",
    "        for layer_id in self.layer_ids:\n",
    "            layer = self.model.get_submodule(layer_id)\n",
    "            hook  = self._get_hook_fn(layer_id, mode='collect')\n",
    "            handles[layer_id] = layer.register_forward_pre_hook(hook)\n",
    "\n",
    "        for batch in self.train_loader:\n",
    "            input_ = batch['input'].to(self.device)\n",
    "            _ = self.model(input_)\n",
    "                \n",
    "        for layer_id in handles:\n",
    "            self.latents[layer_id] = torch.cat(self.latents[layer_id], dim=0)\n",
    "            handles[layer_id].remove()\n",
    "        \n",
    "        \n",
    "    @torch.no_grad()         \n",
    "    def _fit_gaussian_to_latents(self) -> None:\n",
    "        for layer_id in self.layer_ids:\n",
    "            self.mu[layer_id] = self.latents[layer_id].mean(0, keepdims=True).to(self.device)\n",
    "            latents_centered = (self.latents[layer_id] - self.mu[layer_id].cpu()).detach().numpy()\n",
    "            sigma = torch.from_numpy(LedoitWolf().fit(latents_centered).covariance_)\n",
    "            self.sigma_inv[layer_id] = torch.linalg.inv(sigma).unsqueeze(0).to(self.device)\n",
    "            \n",
    "            \n",
    "    @torch.no_grad()\n",
    "    def testset_ood_detection(self, test_loader: DataLoader) -> Dict[str, torch.Tensor]:\n",
    "        \n",
    "        self.pred = {}\n",
    "        self.target = {}\n",
    "        \n",
    "        valid_dists = {layer_id : [] for layer_id in self.layer_ids}\n",
    "        for batch in self.valid_loader:\n",
    "            input_ = batch['input']\n",
    "            #print(input_.shape)\n",
    "            if self.net_out == 'calgary':\n",
    "                dist_volume = []\n",
    "                for input_chunk in input_:\n",
    "                    dist, _ = self.forward(input_chunk.unsqueeze(0).to(self.device))\n",
    "                    dist_volume.append(dist.copy())\n",
    "                dist = default_collate(dist_volume)\n",
    "            elif self.net_out == 'mms': \n",
    "                dist, _ = self.forward(input_.to(self.device))\n",
    "            for layer_id in self.layer_ids:\n",
    "                if self.net_out == 'calgary':\n",
    "                    valid_dists[layer_id].append(dist[layer_id].mean())\n",
    "                elif self.net_out == 'mms':\n",
    "                    valid_dists[layer_id].append(dist[layer_id])\n",
    "        self.valid_dists = valid_dists\n",
    "        self.valid_labels = {layer_id: torch.zeros(len(self.valid_dists[layer_id]), dtype=torch.uint8) \n",
    "                             for layer_id in self.layer_ids}\n",
    "        #print(len(self.valid_dists['up3']), len(self.valid_labels['up3']))\n",
    "            \n",
    "#             self.thresholds = {layer_id : 0 for layer_id in self.layer_ids}\n",
    "#             for layer_id in self.layer_ids:\n",
    "#                 if self.net_out == 'calgary':\n",
    "#                     valid_dists[layer_id] = torch.tensor(valid_dists[layer_id]).cpu()\n",
    "#                 elif self.net_out == 'mms':\n",
    "#                     valid_dists[layer_id] = torch.cat(valid_dists[layer_id], dim=0).cpu()\n",
    "#                 self.thresholds[layer_id] = torch.sort(valid_dists[layer_id])[0][len(valid_dists[layer_id]) - (len(valid_dists[layer_id]) // 20) - 1]\n",
    "                \n",
    "                    \n",
    "        test_dists = {layer_id : [] for layer_id in self.layer_ids}\n",
    "        for batch in test_loader:\n",
    "            input_ = batch['input']\n",
    "            if self.net_out == 'calgary':\n",
    "                dist_volume = []\n",
    "                for input_chunk in input_:\n",
    "                    dist, _ = self.forward(input_chunk.unsqueeze(0).to(self.device))\n",
    "                    dist_volume.append(dist.copy())\n",
    "                dist = default_collate(dist_volume)\n",
    "            elif self.net_out == 'mms': \n",
    "                dist, _ = self.forward(input_.to(self.device))\n",
    "            for layer_id in self.layer_ids:\n",
    "                if self.net_out == 'calgary':\n",
    "                    test_dists[layer_id].append(dist[layer_id].mean())\n",
    "                elif self.net_out == 'mms':    \n",
    "                    test_dists[layer_id].append(dist[layer_id])\n",
    "        \n",
    "        self.test_dists = test_dists\n",
    "        self.test_labels = {layer_id: torch.ones(len(self.test_dists[layer_id]), dtype=torch.uint8) \n",
    "                             for layer_id in self.layer_ids}\n",
    "            \n",
    "            \n",
    "        AUROC = {layer_id : 0 for layer_id in self.layer_ids}\n",
    "        for layer_id in self.layer_ids:\n",
    "            if self.net_out == 'calgary':\n",
    "                self.valid_dists[layer_id] = torch.tensor(self.valid_dists[layer_id]).cpu()\n",
    "                self.test_dists[layer_id]  = torch.tensor(self.test_dists[layer_id]).cpu()\n",
    "            elif self.net_out == 'mms':\n",
    "                self.valid_dists[layer_id] = torch.cat(self.valid_dists[layer_id], dim=0).cpu()\n",
    "                self.test_dists[layer_id]  = torch.cat(self.test_dists[layer_id], dim=0).cpu()\n",
    "            self.pred[layer_id]   = torch.cat([self.valid_dists[layer_id], self.test_dists[layer_id]]).squeeze()\n",
    "            self.target[layer_id] = torch.cat([self.valid_labels[layer_id], self.test_labels[layer_id]]).squeeze()\n",
    "            \n",
    "            print(self.pred[layer_id].shape, self.target[layer_id].shape)\n",
    "            \n",
    "            AUROC[layer_id] = self.auroc(self.pred[layer_id], self.target[layer_id])\n",
    "            #accuracy[layer_id] = ((test_dists[layer_id] > self.thresholds[layer_id]).sum() / len(test_dists[layer_id]))\n",
    "                \n",
    "        return AUROC\n",
    "    \n",
    "    \n",
    "    \n",
    "    @torch.no_grad()        \n",
    "    def testset_correlation(self, test_loader: DataLoader) -> Dict[str, torch.Tensor]:\n",
    "        corr_coeffs = {layer_id: SpearmanCorrCoef() for layer_id in self.layer_ids}\n",
    "        for batch in test_loader:\n",
    "            input_ = batch['input']\n",
    "            target = batch['target']\n",
    "            if self.net_out == 'calgary':\n",
    "                dist_volume = []\n",
    "                net_out_volume = []\n",
    "                for input_chunk in input_:\n",
    "                    dist, net_out = self.forward(input_chunk.unsqueeze(0).to(self.device))\n",
    "                    dist_volume.append(dist.copy())\n",
    "                    net_out_volume.append(net_out.cpu())\n",
    "                dist = default_collate(dist_volume)            \n",
    "                net_out = torch.cat(net_out_volume, dim=0)\n",
    "            \n",
    "            if self.net_out == 'mms':\n",
    "                target[target == -1] = 0\n",
    "                # convert to one-hot encoding\n",
    "                target = F.one_hot(target.long(), num_classes=4).squeeze(1).permute(0,3,1,2)\n",
    "                dist, net_out = self.forward(input_.to(self.device))            \n",
    "            loss = self.criterion(net_out.cpu(), target)\n",
    "\n",
    "            loss = loss.mean().float().cpu()\n",
    "            for layer_id in self.layer_ids:\n",
    "                corr_coeffs[layer_id].update(dist[layer_id].cpu().mean(), 1-loss)\n",
    "\n",
    "        return corr_coeffs\n",
    "\n",
    "\n",
    "    @torch.no_grad()  \n",
    "    def forward(self, input_: torch.Tensor) -> torch.Tensor:\n",
    "        \n",
    "        handles = {}\n",
    "        for layer_id in self.layer_ids:\n",
    "            layer = self.model.get_submodule(layer_id)\n",
    "            hook  = self._get_hook_fn(layer_id, mode='single')\n",
    "            handles[layer_id] = layer.register_forward_pre_hook(hook)\n",
    "        \n",
    "        net_out = self.model(input_)\n",
    "        \n",
    "        for layer_id in self.layer_ids:\n",
    "            latent_centered = self.dist[layer_id].view(self.dist[layer_id].shape[0], 1, -1) - \\\n",
    "                self.mu[layer_id].unsqueeze(0)\n",
    "            self.dist[layer_id] = latent_centered @ self.sigma_inv[layer_id] @ \\\n",
    "                latent_centered.permute(0,2,1)\n",
    "            handles[layer_id].remove()\n",
    "            \n",
    "        return self.dist, net_out"
   ]
  },
  {
   "cell_type": "code",
   "execution_count": 63,
   "id": "91c53498",
   "metadata": {},
   "outputs": [
    {
     "name": "stderr",
     "output_type": "stream",
     "text": [
      "/home/lennartz/anaconda3/envs/default/lib/python3.8/site-packages/torchmetrics/utilities/prints.py:36: UserWarning: Metric `AUROC` will save all targets and predictions in buffer. For large datasets this may lead to large memory footprint.\n",
      "  warnings.warn(*args, **kwargs)\n"
     ]
    }
   ],
   "source": [
    "detector = PoolingMahalabonisDetector(\n",
    "        model=unet, \n",
    "        layer_ids=['up3'], \n",
    "        train_loader=loader['train'], \n",
    "        valid_loader=loader['val'],\n",
    "        net_out='mms',\n",
    "        criterion=DiceScoreMMS(),\n",
    "        device='cuda:0'\n",
    "    )"
   ]
  },
  {
   "cell_type": "code",
   "execution_count": 64,
   "id": "a99693c7",
   "metadata": {},
   "outputs": [
    {
     "name": "stdout",
     "output_type": "stream",
     "text": [
      "torch.Size([2580]) torch.Size([2580])\n"
     ]
    },
    {
     "data": {
      "text/plain": [
       "{'up3': tensor(0.9740)}"
      ]
     },
     "execution_count": 64,
     "metadata": {},
     "output_type": "execute_result"
    }
   ],
   "source": [
    "detector.testset_ood_detection(loader['test'])"
   ]
  },
  {
   "cell_type": "code",
   "execution_count": 65,
   "id": "be016214",
   "metadata": {},
   "outputs": [],
   "source": [
    "class AEMahalabonisDetector(nn.Module):\n",
    "    \"\"\"\n",
    "    Evaluation class for OOD and ESCE tasks based on AEs.\n",
    "    \"\"\"\n",
    "    \n",
    "    def __init__(\n",
    "        self, \n",
    "        model: nn.Module, \n",
    "        layer_ids: dict, \n",
    "        train_loader: DataLoader, \n",
    "        valid_loader: DataLoader,\n",
    "        net_out: str,\n",
    "        criterion: nn.Module = DiceScoreCalgary(),\n",
    "        device: str = 'cuda:0'\n",
    "    ):\n",
    "        super().__init__()\n",
    "        self.device       = device\n",
    "        self.model        = model.to(device)\n",
    "        self.layer_ids    = layer_ids\n",
    "        self.train_loader = train_loader\n",
    "        self.valid_loader = valid_loader\n",
    "        self.net_out      = net_out\n",
    "        self.criterion    = criterion\n",
    "        self.auroc        = AUROC(task = 'binary')\n",
    "        \n",
    "        # Remove training hooks if necessary\n",
    "        self.model.remove_all_hooks()\n",
    "    \n",
    "        # Put model in evaluation state\n",
    "        self.model.to(device)\n",
    "        self.model.eval()\n",
    "        self.model.freeze_seg_model()\n",
    "        \n",
    "        # Init score dict for each layer:\n",
    "        self.latents = {layer_id: [] for layer_id in self.layer_ids}\n",
    "        self.mu = {layer_id: None for layer_id in self.layer_ids}\n",
    "        self.sigma_inv = {layer_id: None for layer_id in self.layer_ids}\n",
    "        self.dist = {layer_id : 0 for layer_id in self.layer_ids}\n",
    "        \n",
    "        self._get_latents()\n",
    "        self._fit_gaussian_to_latents()\n",
    "\n",
    "    \n",
    "    @torch.no_grad()\n",
    "    def _get_hook_fn(self, layer_id: str, mode: str = 'collect') -> Callable:\n",
    "        \n",
    "        def hook_fn(module: nn.Module, x: Tuple[Tensor]):\n",
    "            #print(x[0].shape)\n",
    "            #latent = self.model.transformations[layer_id](x[0])\n",
    "            latent = self.model.transformations[layer_id].get_latent(x[0]).detach().cpu()\n",
    "            #latent = torch.cat([mu, log_var], dim=-1).detach().cpu()\n",
    "            if mode == 'collect':\n",
    "                self.latents[layer_id].append(latent)\n",
    "            elif mode == 'single':\n",
    "                self.dist[layer_id] = latent.to(self.device)\n",
    "\n",
    "        return hook_fn\n",
    "        \n",
    "        \n",
    "    @torch.no_grad()        \n",
    "    def _get_latents(self) -> None:\n",
    "        handles = {}\n",
    "        for layer_id in self.layer_ids:\n",
    "            layer = self.model.seg_model.get_submodule(layer_id)\n",
    "            hook  = self._get_hook_fn(layer_id, mode='collect')\n",
    "            handles[layer_id] = layer.register_forward_pre_hook(hook)\n",
    "\n",
    "        for batch in self.train_loader:\n",
    "            input_ = batch['input'].to(self.device)\n",
    "            _ = self.model.seg_model(input_)\n",
    "                \n",
    "        for layer_id in handles:\n",
    "            self.latents[layer_id] = torch.cat(self.latents[layer_id], dim=0)\n",
    "            handles[layer_id].remove()\n",
    "        \n",
    "        \n",
    "    @torch.no_grad()         \n",
    "    def _fit_gaussian_to_latents(self) -> None:\n",
    "        for layer_id in self.layer_ids:\n",
    "            self.mu[layer_id] = self.latents[layer_id].mean(0, keepdims=True).to(self.device)\n",
    "            latents_centered = (self.latents[layer_id] - self.mu[layer_id].cpu()).detach().numpy()\n",
    "            sigma = torch.from_numpy(LedoitWolf().fit(latents_centered).covariance_)\n",
    "            self.sigma_inv[layer_id] = torch.linalg.inv(sigma).unsqueeze(0).to(self.device)\n",
    "            \n",
    "            \n",
    "    @torch.no_grad()\n",
    "    def testset_ood_detection(self, test_loader: DataLoader) -> Dict[str, torch.Tensor]:\n",
    "        \n",
    "        self.pred = {}\n",
    "        self.target = {}\n",
    "        if not hasattr(self, 'valid_dists'):\n",
    "            valid_dists = {layer_id : [] for layer_id in self.layer_ids}\n",
    "            for batch in self.valid_loader:\n",
    "                input_ = batch['input']\n",
    "                #print(input_.shape)\n",
    "                if self.net_out == 'calgary':\n",
    "                    dist_volume = []\n",
    "                    for input_chunk in input_:\n",
    "                        dist, _ = self.forward(input_chunk.unsqueeze(0).to(self.device))\n",
    "                        dist_volume.append(dist.copy())\n",
    "                    dist = default_collate(dist_volume)\n",
    "                elif self.net_out == 'mms': \n",
    "                    dist, _ = self.forward(input_.to(self.device))\n",
    "                for layer_id in self.layer_ids:\n",
    "                    if self.net_out == 'calgary':\n",
    "                        valid_dists[layer_id].append(dist[layer_id].mean())\n",
    "                    elif self.net_out == 'mms':\n",
    "                        valid_dists[layer_id].append(dist[layer_id])\n",
    "            self.valid_dists = valid_dists\n",
    "            self.valid_labels = {layer_id: torch.zeros(len(self.valid_dists[layer_id]), dtype=torch.uint8) \n",
    "                                 for layer_id in self.layer_ids}\n",
    "        #print(len(self.valid_dists['up3']), len(self.valid_labels['up3']))\n",
    "            \n",
    "#             self.thresholds = {layer_id : 0 for layer_id in self.layer_ids}\n",
    "#             for layer_id in self.layer_ids:\n",
    "#                 if self.net_out == 'calgary':\n",
    "#                     valid_dists[layer_id] = torch.tensor(valid_dists[layer_id]).cpu()\n",
    "#                 elif self.net_out == 'mms':\n",
    "#                     valid_dists[layer_id] = torch.cat(valid_dists[layer_id], dim=0).cpu()\n",
    "#                 self.thresholds[layer_id] = torch.sort(valid_dists[layer_id])[0][len(valid_dists[layer_id]) - (len(valid_dists[layer_id]) // 20) - 1]\n",
    "                \n",
    "                    \n",
    "        test_dists = {layer_id : [] for layer_id in self.layer_ids}\n",
    "        for batch in test_loader:\n",
    "            input_ = batch['input']\n",
    "            if self.net_out == 'calgary':\n",
    "                dist_volume = []\n",
    "                for input_chunk in input_:\n",
    "                    dist, _ = self.forward(input_chunk.unsqueeze(0).to(self.device))\n",
    "                    dist_volume.append(dist.copy())\n",
    "                dist = default_collate(dist_volume)\n",
    "            elif self.net_out == 'mms': \n",
    "                dist, _ = self.forward(input_.to(self.device))\n",
    "            for layer_id in self.layer_ids:\n",
    "                if self.net_out == 'calgary':\n",
    "                    test_dists[layer_id].append(dist[layer_id].mean())\n",
    "                elif self.net_out == 'mms':    \n",
    "                    test_dists[layer_id].append(dist[layer_id])\n",
    "        \n",
    "        self.test_dists = test_dists\n",
    "        self.test_labels = {layer_id: torch.ones(len(self.test_dists[layer_id]), dtype=torch.uint8) \n",
    "                             for layer_id in self.layer_ids}\n",
    "            \n",
    "            \n",
    "        AUROC = {layer_id : 0 for layer_id in self.layer_ids}\n",
    "        for layer_id in self.layer_ids:\n",
    "            if self.net_out == 'calgary':\n",
    "                self.valid_dists[layer_id] = torch.tensor(self.valid_dists[layer_id]).cpu()\n",
    "                self.test_dists[layer_id]  = torch.tensor(self.test_dists[layer_id]).cpu()\n",
    "            elif self.net_out == 'mms':\n",
    "                self.valid_dists[layer_id] = torch.cat(self.valid_dists[layer_id], dim=0).cpu()\n",
    "                self.test_dists[layer_id]  = torch.cat(self.test_dists[layer_id], dim=0).cpu()\n",
    "            self.pred[layer_id]   = torch.cat([self.valid_dists[layer_id], self.test_dists[layer_id]]).squeeze()\n",
    "            self.target[layer_id] = torch.cat([self.valid_labels[layer_id], self.test_labels[layer_id]]).squeeze()\n",
    "            #print(self.pred[layer_id].shape, self.target[layer_id].shape)\n",
    "            AUROC[layer_id] = self.auroc(self.pred[layer_id], self.target[layer_id])\n",
    "            #accuracy[layer_id] = ((test_dists[layer_id] > self.thresholds[layer_id]).sum() / len(test_dists[layer_id]))\n",
    "                \n",
    "        return AUROC\n",
    "    \n",
    "    \n",
    "    @torch.no_grad()        \n",
    "    def testset_correlation(self, test_loader: DataLoader) -> Dict[str, torch.Tensor]:\n",
    "        corr_coeffs = {layer_id: SpearmanCorrCoef() for layer_id in self.layer_ids}\n",
    "        for batch in test_loader:\n",
    "            input_ = batch['input']\n",
    "            target = batch['target']\n",
    "            if self.net_out == 'calgary':\n",
    "                dist_volume = []\n",
    "                net_out_volume = []\n",
    "                for input_chunk in input_:\n",
    "                    dist, net_out = self.forward(input_chunk.unsqueeze(0).to(self.device))\n",
    "                    dist_volume.append(dist.copy())\n",
    "                    net_out_volume.append(net_out.cpu())\n",
    "                dist = default_collate(dist_volume)            \n",
    "                net_out = torch.cat(net_out_volume, dim=0)\n",
    "            \n",
    "            elif self.net_out == 'mms': \n",
    "                target[target == -1] = 0\n",
    "                # convert to one-hot encoding\n",
    "                target = F.one_hot(target.long(), num_classes=4).squeeze(1).permute(0,3,1,2)\n",
    "                dist, net_out = self.forward(input_.to(self.device))            \n",
    "            loss = self.criterion(net_out.cpu(), target)\n",
    "            loss = loss.mean().float().cpu()\n",
    "            for layer_id in self.layer_ids:\n",
    "                corr_coeffs[layer_id].update(dist[layer_id].cpu().mean(), 1-loss)\n",
    "\n",
    "        return corr_coeffs\n",
    "\n",
    "\n",
    "    @torch.no_grad()  \n",
    "    def forward(self, input_: torch.Tensor) -> Union[dict, torch.Tensor]:\n",
    "        \n",
    "        handles = {}\n",
    "        for layer_id in self.layer_ids:\n",
    "            layer = self.model.seg_model.get_submodule(layer_id)\n",
    "            hook  = self._get_hook_fn(layer_id, mode='single')\n",
    "            handles[layer_id] = layer.register_forward_pre_hook(hook)\n",
    "            \n",
    "        net_out = self.model.seg_model(input_)\n",
    "        \n",
    "        for layer_id in self.layer_ids:\n",
    "            latent_centered = self.dist[layer_id].view(self.dist[layer_id].shape[0], 1, -1) - self.mu[layer_id].unsqueeze(0)\n",
    "            self.dist[layer_id] = latent_centered @ self.sigma_inv[layer_id] @ latent_centered.permute(0,2,1)\n",
    "            handles[layer_id].remove()\n",
    "            \n",
    "        return self.dist, net_out"
   ]
  },
  {
   "cell_type": "code",
   "execution_count": 66,
   "id": "21edaa2e",
   "metadata": {},
   "outputs": [
    {
     "name": "stderr",
     "output_type": "stream",
     "text": [
      "/home/lennartz/anaconda3/envs/default/lib/python3.8/site-packages/torchmetrics/utilities/prints.py:36: UserWarning: Metric `AUROC` will save all targets and predictions in buffer. For large datasets this may lead to large memory footprint.\n",
      "  warnings.warn(*args, **kwargs)\n"
     ]
    }
   ],
   "source": [
    "detector = AEMahalabonisDetector(\n",
    "        model=model, \n",
    "        layer_ids=['up3'], \n",
    "        train_loader=loader['train'], \n",
    "        valid_loader=loader['val'],\n",
    "        net_out='mms',\n",
    "        criterion=DiceScoreMMS(),\n",
    "        device='cuda:0'\n",
    "    )"
   ]
  },
  {
   "cell_type": "code",
   "execution_count": 67,
   "id": "41e5d8bb",
   "metadata": {},
   "outputs": [
    {
     "name": "stdout",
     "output_type": "stream",
     "text": [
      "torch.Size([2580]) torch.Size([2580])\n"
     ]
    },
    {
     "data": {
      "text/plain": [
       "{'up3': tensor(0.7612)}"
      ]
     },
     "execution_count": 67,
     "metadata": {},
     "output_type": "execute_result"
    }
   ],
   "source": [
    "detector.testset_ood_detection(loader['test'])"
   ]
  },
  {
   "cell_type": "code",
   "execution_count": 75,
   "id": "8b5fcd1c",
   "metadata": {},
   "outputs": [],
   "source": [
    "class MeanDistSamplesDetector(nn.Module):\n",
    "    \"\"\"\n",
    "    Evaluation class for OOD and ESCE tasks based on VAEs.\n",
    "    \"\"\"\n",
    "    \n",
    "    def __init__(\n",
    "        self,\n",
    "        model: nn.Module, \n",
    "        n_samples: int,\n",
    "        net_out: str,\n",
    "        valid_loader: DataLoader,\n",
    "        criterion: nn.Module, # e.g. DiceScoreCalgary()\n",
    "        device: str = 'cuda:0',\n",
    "        method: str = 'vae'\n",
    "    ):\n",
    "        super().__init__()\n",
    "        self.device = device\n",
    "        self.model = model.to(device)\n",
    "        self.net_out  = net_out\n",
    "        # Remove trainiung hooks, add evaluation hooks\n",
    "        self.model.remove_all_hooks()        \n",
    "        self.model.hook_transformations(self.model.transformations,\n",
    "                                        n_samples=n_samples)\n",
    "        \n",
    "        self.model.eval()\n",
    "        self.model.freeze_seg_model()\n",
    "        \n",
    "        self.valid_loader = valid_loader\n",
    "        self.criterion = criterion\n",
    "        self.auroc = AUROC(task = 'binary')\n",
    "        self.umap_generator = UMapGenerator(method=method,\n",
    "                                            net_out=net_out)\n",
    "        \n",
    "    @torch.no_grad()\n",
    "    def testset_ood_detection(self, test_loader: DataLoader) -> Dict[str, torch.Tensor]:\n",
    "        if not hasattr(self, 'threshold'):\n",
    "            valid_dists = []\n",
    "            for batch in self.valid_loader:\n",
    "                input_ = batch['input'].to(0)\n",
    "                \n",
    "                if self.net_out == 'calgary':\n",
    "                    net_out_volume = []\n",
    "                    umap_volume  = []\n",
    "\n",
    "                    for input_chunk in input_:\n",
    "                        umap, net_out = self.forward(input_chunk.unsqueeze(0).to(self.device))\n",
    "                        net_out_volume.append(net_out[:1].detach().cpu())\n",
    "                        umap_volume.append(umap)\n",
    "\n",
    "                    net_out = torch.cat(net_out_volume, dim=0)\n",
    "                    umap = torch.cat(umap_volume, dim=0)\n",
    "                    \n",
    "                if self.net_out == 'mms':\n",
    "                    umap, net_out = self.forward(input_.to(self.device))\n",
    "                score = torch.norm(umap).cpu()\n",
    "                valid_dists.append(score)\n",
    "                \n",
    "            self.valid_dists = torch.tensor(valid_dists)\n",
    "            self.valid_labels = torch.zeros(len(self.valid_dists), dtype=torch.uint8)\n",
    "        \n",
    "        test_dists = []\n",
    "        for batch in test_loader:\n",
    "            input_ = batch['input']\n",
    "\n",
    "            if self.net_out == 'calgary':\n",
    "                net_out_volume = []\n",
    "                umap_volume  = []\n",
    "\n",
    "                for input_chunk in input_:\n",
    "                    umap, net_out = self.forward(input_chunk.unsqueeze(0).to(self.device))\n",
    "                    net_out_volume.append(net_out[:1].detach().cpu())\n",
    "                    umap_volume.append(umap)\n",
    "\n",
    "                net_out = torch.cat(net_out_volume, dim=0)\n",
    "                umap = torch.cat(umap_volume, dim=0)\n",
    "\n",
    "            if self.net_out == 'mms':\n",
    "                umap, net_out = self.forward(input_.to(self.device))\n",
    "\n",
    "            score = torch.norm(umap).cpu()\n",
    "            test_dists.append(score)\n",
    "        self.test_dists = torch.tensor(test_dists).cpu()\n",
    "        self.test_labels = torch.ones(len(self.test_dists), dtype=torch.uint8)\n",
    "        \n",
    "        self.pred =  torch.cat([self.valid_dists, self.test_dists]).squeeze()\n",
    "        self.target = torch.cat([self.valid_labels, self.test_labels]).squeeze()\n",
    "        print(self.pred.shape, self.target.shape)\n",
    "        AUROC = self.auroc(self.pred, self.target)\n",
    "        \n",
    "        return AUROC    \n",
    "        \n",
    "    \n",
    "    @torch.no_grad()\n",
    "    def testset_correlation(self, test_loader: DataLoader) -> Dict[str, torch.Tensor]:\n",
    "        corr_coeff = SpearmanCorrCoef()\n",
    "        losses = []\n",
    "        for batch in test_loader:\n",
    "            input_ = batch['input']\n",
    "            target = batch['target']\n",
    "            \n",
    "            if self.net_out == 'calgary':\n",
    "                net_out_volume = []\n",
    "                umap_volume  = []\n",
    "\n",
    "                for input_chunk in input_:\n",
    "                    umap, net_out = self.forward(input_chunk.unsqueeze(0).to(self.device))\n",
    "                    net_out_volume.append(net_out[:1].detach().cpu())\n",
    "                    umap_volume.append(umap)\n",
    "                    \n",
    "                net_out = torch.cat(net_out_volume, dim=0)\n",
    "                umap = torch.cat(umap_volume, dim=0)\n",
    "            \n",
    "            if self.net_out == 'mms':\n",
    "                target[target == -1] = 0\n",
    "                # convert to one-hot encoding\n",
    "                target = F.one_hot(target.long(), num_classes=4).squeeze(1).permute(0,3,1,2)\n",
    "                umap, net_out = self.forward(input_.to(self.device))\n",
    "            \n",
    "            \n",
    "            loss = self.criterion(net_out, target)\n",
    "            \n",
    "            loss = loss.mean().float()\n",
    "                    \n",
    "            score = torch.norm(umap)\n",
    "            losses.append(1-loss.view(1))\n",
    "            corr_coeff.update(score.cpu(), 1-loss)\n",
    "            \n",
    "        return corr_coeff\n",
    "\n",
    "    \n",
    "    @torch.no_grad()  \n",
    "    def forward(self, input_: torch.Tensor) -> torch.Tensor:\n",
    "        net_out = self.model(input_).cpu()\n",
    "        umap    = self.umap_generator(net_out).cpu()\n",
    "        return umap, net_out[:1]"
   ]
  },
  {
   "cell_type": "code",
   "execution_count": 76,
   "id": "86ab1565",
   "metadata": {},
   "outputs": [],
   "source": [
    "detector = MeanDistSamplesDetector(\n",
    "        model=model, \n",
    "        n_samples=1,\n",
    "        net_out='mms',\n",
    "        valid_loader=loader['val'],\n",
    "        criterion=DiceScoreMMS())"
   ]
  },
  {
   "cell_type": "code",
   "execution_count": 81,
   "id": "21c6ee38",
   "metadata": {},
   "outputs": [
    {
     "name": "stdout",
     "output_type": "stream",
     "text": [
      "torch.Size([2580]) torch.Size([2580])\n"
     ]
    },
    {
     "data": {
      "text/plain": [
       "tensor(0.4271)"
      ]
     },
     "execution_count": 81,
     "metadata": {},
     "output_type": "execute_result"
    }
   ],
   "source": [
    "detector.testset_ood_detection(loader['test'])"
   ]
  },
  {
   "cell_type": "code",
   "execution_count": 85,
   "id": "9011ab58",
   "metadata": {},
   "outputs": [],
   "source": [
    "class EntropyDetector(nn.Module):\n",
    "    \"\"\"\n",
    "    Evaluation class for OOD and ESCE tasks based on AEs.\n",
    "    \"\"\"\n",
    "    \n",
    "    def __init__(\n",
    "        self, \n",
    "        model: nn.Module, \n",
    "        net_out: str,\n",
    "        valid_loader: DataLoader,\n",
    "        criterion: nn.Module,\n",
    "        device: str = 'cuda:0'\n",
    "    ):\n",
    "        super().__init__()\n",
    "        self.net_out = net_out\n",
    "        self.device = device\n",
    "        self.model = model.to(device)\n",
    "        # Remove trainiung hooks, add evaluation hooks\n",
    "        # self.model.remove_all_hooks()        \n",
    "        \n",
    "        self.valid_loader = valid_loader\n",
    "        self.criterion = criterion\n",
    "        self.auroc = AUROC(task = 'binary')\n",
    "        self.umap_generator = UMapGenerator(method='probs',\n",
    "                                            net_out=net_out)\n",
    "        \n",
    "        \n",
    "    @torch.no_grad()\n",
    "    def testset_ood_detection(self, test_loader: DataLoader) -> Dict[str, torch.Tensor]:\n",
    "        if not hasattr(self, 'valid_dists'):\n",
    "            valid_dists = []\n",
    "            for batch in self.valid_loader:\n",
    "                input_ = batch['input'].to(0)\n",
    "                \n",
    "                if self.net_out == 'calgary':\n",
    "                    net_out_volume = []\n",
    "                    umap_volume  = []\n",
    "\n",
    "                    for input_chunk in input_:\n",
    "                        umap, net_out = self.forward(input_chunk.unsqueeze(0).to(self.device))\n",
    "                        net_out_volume.append(net_out.detach().cpu())\n",
    "                        umap_volume.append(umap)\n",
    "\n",
    "                    net_out = torch.cat(net_out_volume, dim=0)\n",
    "                    umap = torch.cat(umap_volume, dim=0)\n",
    "                    \n",
    "                if self.net_out == 'mms':\n",
    "                    umap, net_out = self.forward(input_.to(self.device))\n",
    "                score = torch.norm(umap).cpu()\n",
    "                valid_dists.append(score)\n",
    "                \n",
    "            self.valid_dists = torch.tensor(valid_dists)\n",
    "            self.valid_labels = torch.zeros(len(self.valid_dists), dtype=torch.uint8)\n",
    "        \n",
    "        test_dists = []\n",
    "        for batch in test_loader:\n",
    "            input_ = batch['input']\n",
    "\n",
    "            if self.net_out == 'calgary':\n",
    "                net_out_volume = []\n",
    "                umap_volume  = []\n",
    "\n",
    "                for input_chunk in input_:\n",
    "                    umap, net_out = self.forward(input_chunk.unsqueeze(0).to(self.device))\n",
    "                    net_out_volume.append(net_out.detach().cpu())\n",
    "                    umap_volume.append(umap)\n",
    "\n",
    "                net_out = torch.cat(net_out_volume, dim=0)\n",
    "                umap = torch.cat(umap_volume, dim=0)\n",
    "\n",
    "            if self.net_out == 'mms':\n",
    "                umap, net_out = self.forward(input_.to(self.device))\n",
    "\n",
    "            score = torch.norm(umap).cpu()\n",
    "            test_dists.append(score)\n",
    "        self.test_dists = torch.tensor(test_dists).cpu()\n",
    "        self.test_labels = torch.ones(len(self.test_dists), dtype=torch.uint8)\n",
    "        \n",
    "        self.pred =  torch.cat([self.valid_dists, self.test_dists]).squeeze()\n",
    "        self.target = torch.cat([self.valid_labels, self.test_labels]).squeeze()\n",
    "        print(self.pred.shape, self.target.shape)\n",
    "        AUROC = self.auroc(self.pred, self.target)\n",
    "        \n",
    "        return AUROC     \n",
    "        \n",
    "    \n",
    "    @torch.no_grad()\n",
    "    def testset_correlation(self, test_loader: DataLoader) -> Dict[str, torch.Tensor]:\n",
    "        corr_coeff = SpearmanCorrCoef()\n",
    "        losses = []\n",
    "        for batch in test_loader:\n",
    "            input_ = batch['input'].to(0)\n",
    "            target = batch['target']\n",
    "            \n",
    "            if self.net_out == 'calgary':\n",
    "                net_out_volume = []\n",
    "                umap_volume  = []\n",
    "\n",
    "                for input_chunk in input_:\n",
    "                    umap, net_out = self.forward(input_chunk.unsqueeze(0).to(self.device))\n",
    "                    net_out_volume.append(net_out[:1].detach().cpu())\n",
    "                    umap_volume.append(umap)\n",
    "                    \n",
    "                net_out = torch.cat(net_out_volume, dim=0)\n",
    "                umap = torch.cat(umap_volume, dim=0)\n",
    "            \n",
    "            if self.net_out == 'mms':\n",
    "                target[target == -1] = 0\n",
    "                # convert to one-hot encoding\n",
    "                target = F.one_hot(target.long(), num_classes=4).squeeze(1).permute(0,3,1,2)\n",
    "                umap, net_out = self.forward(input_.to(self.device))\n",
    "            \n",
    "            \n",
    "            loss = self.criterion(net_out.cpu(), target.cpu())\n",
    "            loss = loss.mean().cpu().float()\n",
    "                    \n",
    "            score = torch.norm(umap)\n",
    "            losses.append(1-loss.view(1))\n",
    "            corr_coeff.update(score.cpu(), 1-loss)\n",
    "            \n",
    "        return corr_coeff\n",
    "\n",
    "    \n",
    "    @torch.no_grad()  \n",
    "    def forward(self, input_: torch.Tensor) -> torch.Tensor:\n",
    "        self.model.eval()\n",
    "        net_out = self.model(input_)\n",
    "        umap = self.umap_generator(net_out)\n",
    "        #score = torch.linalg.norm(umap, dim=(-2, -1))\n",
    "        return umap, net_out\n",
    "    "
   ]
  },
  {
   "cell_type": "code",
   "execution_count": 86,
   "id": "56f0c84c",
   "metadata": {},
   "outputs": [],
   "source": [
    "detector = EntropyDetector(\n",
    "        model=unet, \n",
    "        net_out='mms',\n",
    "        valid_loader=loader['val'],\n",
    "        criterion=DiceScoreMMS())"
   ]
  },
  {
   "cell_type": "code",
   "execution_count": 87,
   "id": "a9ff6082",
   "metadata": {},
   "outputs": [
    {
     "name": "stdout",
     "output_type": "stream",
     "text": [
      "torch.Size([2580]) torch.Size([2580])\n"
     ]
    },
    {
     "data": {
      "text/plain": [
       "tensor(0.7241)"
      ]
     },
     "execution_count": 87,
     "metadata": {},
     "output_type": "execute_result"
    }
   ],
   "source": [
    "detector.testset_ood_detection(loader['test'])"
   ]
  },
  {
   "cell_type": "code",
   "execution_count": 5,
   "id": "69860682",
   "metadata": {},
   "outputs": [],
   "source": [
    "class EnsembleEntropyDetector(nn.Module):\n",
    "    \"\"\"\n",
    "    Evaluation class for OOD and ESCE tasks based on AEs.\n",
    "    \"\"\"\n",
    "    \n",
    "    def __init__(\n",
    "        self, \n",
    "        model: nn.Module, \n",
    "        net_out: str,\n",
    "        valid_loader: DataLoader,\n",
    "        criterion: nn.Module,\n",
    "        device: str = 'cuda:0'\n",
    "    ):\n",
    "        super().__init__()\n",
    "        self.net_out = net_out\n",
    "        self.device = device\n",
    "        self.model = model.to(device)\n",
    "        torch.manual_seed(42)\n",
    "        self.ensemble_compositions = torch.cat([torch.arange(10).view(10,1), \n",
    "                                                torch.randint(0, 9, (10, 4))],\n",
    "                                               dim=1)\n",
    "        # Remove trainiung hooks, add evaluation hooks\n",
    "        # self.model.remove_all_hooks()        \n",
    "        \n",
    "        self.valid_loader = valid_loader\n",
    "        self.criterion = criterion\n",
    "        self.auroc = AUROC(task = 'binary')\n",
    "        self.umap_generator = UMapGenerator(method='probs',\n",
    "                                            net_out=net_out)\n",
    "        \n",
    "        \n",
    "    @torch.no_grad()\n",
    "    def testset_ood_detection(self, test_loader: DataLoader) -> Dict[str, torch.Tensor]:\n",
    "        \n",
    "        if not hasattr(self, 'valid_dists'):\n",
    "            valid_dists = []\n",
    "            for batch in self.valid_loader:\n",
    "                input_ = batch['input'].to(0)\n",
    "                net_out = self.forward(input_.to(self.device))\n",
    "                umap = self.umap_generator(net_out)\n",
    "                scores = (umap**2).mean(dim=(1,2)).cpu()\n",
    "                valid_dists.append(scores)\n",
    "            self.valid_dists = torch.stack(valid_dists, dim=0)\n",
    "            self.valid_labels = torch.zeros(len(self.valid_dists), dtype=torch.uint8)\n",
    "            \n",
    "        test_dists = []\n",
    "        for batch in test_loader:\n",
    "            input_ = batch['input']\n",
    "            net_out = self.forward(input_.to(self.device))\n",
    "            umap = self.umap_generator(net_out)\n",
    "            scores = (umap**2).sum(dim=(1,2)).cpu()\n",
    "            test_dists.append(scores)\n",
    "            \n",
    "        self.test_dists = torch.stack(test_dists, dim=0).cpu()\n",
    "        self.test_labels = torch.ones(len(self.test_dists), dtype=torch.uint8)\n",
    "        \n",
    "        \n",
    "        self.pred = torch.cat([self.valid_dists, self.test_dists], dim=0).T\n",
    "        self.target = torch.cat([self.valid_labels, self.test_labels])\n",
    "        \n",
    "        print(ensemble_compositions[0], self.pred[ensemble_compositions[0]].mean(0).shape, self.target.shape)\n",
    "        \n",
    "        AUROC = [self.auroc(self.pred[self.ensemble_compositions[i]].mean(0), self.target) \n",
    "                 for i in range(10)]\n",
    "        \n",
    "        return AUROC\n",
    "        #accuracy = (test_dists > self.thresholds).sum(dim=0) / len(test_dists)\n",
    "        \n",
    "        #return accuracy       \n",
    "        \n",
    "    \n",
    "    @torch.no_grad()\n",
    "    def testset_correlation(self, test_loader: DataLoader) -> Dict[str, torch.Tensor]:\n",
    "        corr_coeffs = [SpearmanCorrCoef() for _ in range(10)]\n",
    "        losses = []\n",
    "        for batch in tqdm(test_loader):\n",
    "            input_ = batch['input'].to(0)\n",
    "            target = batch['target']\n",
    "            \n",
    "            if self.net_out == 'calgary':\n",
    "                net_out_volume = []\n",
    "\n",
    "                for input_chunk in input_:\n",
    "                    net_out = self.forward(input_chunk.unsqueeze(0).to(self.device))\n",
    "                    net_out_volume.append(net_out.detach().cpu())\n",
    "                net_out = torch.stack(net_out_volume, dim=0)\n",
    "\n",
    "            if self.net_out == 'mms':\n",
    "                target[target == -1] = 0\n",
    "                # convert to one-hot encoding\n",
    "                target = F.one_hot(target.long(), num_classes=4).squeeze(1).permute(0,3,1,2)\n",
    "                net_out = self.forward(input_.to(self.device))\n",
    "            \n",
    "            \n",
    "            for i, corr_coeff in enumerate(corr_coeffs):\n",
    "                ensemble_idxs = self.ensemble_compositions[i]\n",
    "                \n",
    "                if self.net_out == 'calgary':\n",
    "                    loss = self.criterion(net_out[:, i:i+1].cpu(), target.cpu())\n",
    "                    umap_volume  = []\n",
    "                    for slc in net_out:\n",
    "                        umap = self.umap_generator(slc[ensemble_idxs].mean(0, keepdim=True))\n",
    "                        umap_volume.append(umap)\n",
    "                    umap = torch.cat(umap_volume, dim=0)\n",
    "                \n",
    "                if self.net_out == 'mms':\n",
    "                    #loss = self.criterion(net_out[i:i+1].cpu(), target.cpu())\n",
    "                    loss = self.criterion(net_out[ensemble_idxs].mean(dim=0, keepdim=True).cpu(), target.cpu())\n",
    "                    umap = self.umap_generator(net_out[ensemble_idxs].mean(0, keepdim=True))\n",
    "                    \n",
    "                score = torch.norm(umap).cpu()    \n",
    "                loss = loss.mean().cpu().float()\n",
    "                corr_coeff.update(score, 1-loss)\n",
    "            \n",
    "        return corr_coeffs\n",
    "\n",
    "    \n",
    "    @torch.no_grad()  \n",
    "    def forward(self, input_: torch.Tensor) -> torch.Tensor:\n",
    "        self.model.eval()\n",
    "        net_out = self.model(input_)\n",
    "        return net_out"
   ]
  },
  {
   "cell_type": "code",
   "execution_count": 6,
   "id": "dcb2ee69",
   "metadata": {},
   "outputs": [],
   "source": [
    "# - get indices for unet ensemble\n",
    "torch.manual_seed(42)\n",
    "ensemble_compositions = torch.cat([torch.arange(10).view(10,1), \n",
    "                                    torch.randint(0, 9, (10, 4))],\n",
    "                                   dim=1)\n",
    "\n",
    "# - path\n",
    "root = '../../'\n",
    "# U-Nets\n",
    "middle = 'unet8_' #c\n",
    "pre = 'acdc'   #c\n",
    "unet_names = [f'{pre}_{middle}{i}' for i in range(10)] #TODO\n",
    "unets = []\n",
    "for name in unet_names:\n",
    "    model_path = f'{root}pre-trained-tmp/trained_UNets/{name}_best.pt' #c\n",
    "    state_dict = torch.load(model_path)['model_state_dict']\n",
    "    n_chans_out = 4 #c\n",
    "    unet = UNet2D(n_chans_in=1, \n",
    "                  n_chans_out=n_chans_out, \n",
    "                  n_filters_init=8, \n",
    "                  dropout=False)\n",
    "    unet.load_state_dict(state_dict)\n",
    "    unet.cuda()\n",
    "    unets.append(unet)"
   ]
  },
  {
   "cell_type": "code",
   "execution_count": 7,
   "id": "cd5287b4",
   "metadata": {},
   "outputs": [],
   "source": [
    "ensemble = UNetEnsemble(unets)"
   ]
  },
  {
   "cell_type": "code",
   "execution_count": 8,
   "id": "f6bec507",
   "metadata": {},
   "outputs": [
    {
     "name": "stderr",
     "output_type": "stream",
     "text": [
      "/home/lennartz/anaconda3/envs/default/lib/python3.8/site-packages/torchmetrics/utilities/prints.py:36: UserWarning: Metric `AUROC` will save all targets and predictions in buffer. For large datasets this may lead to large memory footprint.\n",
      "  warnings.warn(*args, **kwargs)\n"
     ]
    }
   ],
   "source": [
    "detector = EnsembleEntropyDetector(\n",
    "        model=ensemble, \n",
    "        net_out='mms',\n",
    "        valid_loader=loader['val'],\n",
    "        criterion=DiceScoreMMS())"
   ]
  },
  {
   "cell_type": "code",
   "execution_count": 9,
   "id": "22d20057",
   "metadata": {},
   "outputs": [
    {
     "name": "stdout",
     "output_type": "stream",
     "text": [
      "tensor([0, 6, 5, 7, 4]) torch.Size([2580]) torch.Size([2580])\n"
     ]
    },
    {
     "data": {
      "text/plain": [
       "[tensor(1.),\n",
       " tensor(1.),\n",
       " tensor(1.),\n",
       " tensor(1.),\n",
       " tensor(1.),\n",
       " tensor(1.),\n",
       " tensor(1.),\n",
       " tensor(1.),\n",
       " tensor(1.),\n",
       " tensor(1.)]"
      ]
     },
     "execution_count": 9,
     "metadata": {},
     "output_type": "execute_result"
    }
   ],
   "source": [
    "detector.testset_ood_detection(loader['test'])"
   ]
  },
  {
   "cell_type": "code",
   "execution_count": 15,
   "id": "e0e14c26",
   "metadata": {},
   "outputs": [
    {
     "data": {
      "text/plain": [
       "[<matplotlib.lines.Line2D at 0x7fe8044d3850>]"
      ]
     },
     "execution_count": 15,
     "metadata": {},
     "output_type": "execute_result"
    },
    {
     "data": {
      "image/png": "[encoded data removed]",
      "text/plain": [
       "<Figure size 432x288 with 1 Axes>"
      ]
     },
     "metadata": {
      "needs_background": "light"
     },
     "output_type": "display_data"
    }
   ],
   "source": [
    "plt.plot(detector.pred[0], detector.target, '.')"
   ]
  },
  {
   "cell_type": "code",
   "execution_count": 51,
   "id": "7cb54c92",
   "metadata": {
    "collapsed": true,
    "jupyter": {
     "outputs_hidden": true
    }
   },
   "outputs": [
    {
     "data": {
      "text/plain": [
       "(array([ 0.,  0.,  0.,  0.,  0.,  0.,  0.,  0.,  0.,  0.,  0.,  0.,  0.,\n",
       "         0.,  0.,  0.,  0.,  0.,  2.,  1.,  2.,  0.,  0.,  2.,  0.,  1.,\n",
       "         1.,  0.,  1.,  0.,  1.,  1.,  0.,  0.,  0.,  1.,  3.,  1.,  0.,\n",
       "         1.,  3.,  3.,  1.,  0.,  0.,  0.,  0.,  1.,  1.,  1.,  0.,  2.,\n",
       "         0.,  1.,  1.,  0.,  0.,  1.,  1.,  0.,  1.,  0.,  1.,  0.,  3.,\n",
       "         0.,  2.,  0.,  1.,  2.,  0.,  0.,  1.,  0.,  2.,  1.,  0.,  1.,\n",
       "         2.,  0.,  0.,  1.,  1.,  1.,  0.,  0.,  2.,  1.,  1.,  0.,  2.,\n",
       "         0.,  1.,  0.,  2.,  0.,  3.,  1.,  1.,  1.,  3.,  1.,  3.,  1.,\n",
       "         0.,  1.,  1.,  1.,  1.,  2.,  3.,  1.,  2.,  2.,  2.,  1.,  0.,\n",
       "         1.,  3.,  0.,  1.,  2.,  0.,  1.,  0.,  0.,  3.,  0.,  1.,  1.,\n",
       "         0.,  0.,  1.,  2.,  1.,  5.,  2.,  1.,  0.,  4.,  1.,  2.,  3.,\n",
       "         0.,  1.,  0.,  1.,  1.,  2.,  1.,  4.,  0.,  0.,  3.,  0.,  1.,\n",
       "         5.,  0.,  2.,  2.,  1.,  3.,  3.,  2.,  1.,  0.,  4.,  1.,  0.,\n",
       "         0.,  2.,  1.,  1.,  0.,  2.,  1.,  4.,  1.,  1.,  2.,  4.,  1.,\n",
       "         2.,  2.,  1.,  2.,  2.,  0.,  2.,  2.,  4.,  2.,  2.,  2.,  1.,\n",
       "         2.,  0.,  3.,  2.,  1.,  4.,  0.,  2.,  2.,  2.,  0.,  1.,  0.,\n",
       "         0.,  1.,  3.,  0.,  0.,  1.,  1.,  4.,  0.,  3.,  2.,  0.,  0.,\n",
       "         1.,  1.,  1.,  1.,  4.,  0.,  3.,  0.,  1.,  1.,  0.,  0.,  1.,\n",
       "         0.,  1.,  1.,  0.,  0.,  1.,  2.,  0.,  0.,  1.,  2.,  1.,  4.,\n",
       "         1.,  1.,  1.,  1.,  5.,  1.,  2.,  1.,  3.,  2.,  3.,  3.,  3.,\n",
       "         0.,  1.,  2.,  2.,  1.,  3.,  2.,  0.,  0.,  2.,  1.,  0.,  0.,\n",
       "         3.,  1.,  2.,  0.,  0.,  2.,  0.,  2.,  1.,  2.,  1.,  1.,  2.,\n",
       "         1.,  2.,  0.,  2.,  2.,  2.,  2.,  0.,  0.,  1.,  0.,  3.,  0.,\n",
       "         1.,  4.,  2.,  1.,  0.,  1.,  1.,  2.,  1.,  0.,  4.,  2.,  1.,\n",
       "         0.,  1.,  2.,  3.,  2.,  4.,  2.,  5.,  0.,  6.,  2.,  3.,  4.,\n",
       "         3.,  4.,  3.,  2.,  5.,  3.,  5.,  7.,  2.,  7.,  3.,  5.,  6.,\n",
       "         2.,  3.,  6.,  5.,  5.,  6.,  5.,  3.,  4.,  4.,  4., 10.,  8.,\n",
       "         5.,  4.,  4.,  4.,  8.,  1.,  4.,  3.,  4.,  7., 10.,  3.,  3.,\n",
       "         2.,  7.,  9.,  7., 11.,  8.,  9.,  6.,  9.,  6.,  9.,  8.,  8.,\n",
       "        10.,  7., 10.,  4.,  8.,  6.,  9., 12.,  9.,  6., 11., 14., 10.,\n",
       "         5., 10.,  8.,  5.,  4.,  8.,  8.,  8., 12.,  6., 13.,  9., 14.,\n",
       "        10., 16.,  5.,  4.,  9., 11., 12., 13.,  9., 14., 12., 12., 12.,\n",
       "        10.,  6., 10., 12.,  8., 10.,  8.,  8.,  8., 12.,  9.,  7., 15.,\n",
       "        12., 11.,  9., 12., 17.,  4., 12.,  8.,  8., 11.,  9., 12.,  4.,\n",
       "         8., 14., 12.,  7.,  8., 13.,  7.,  8., 11., 10., 10., 10., 10.,\n",
       "         8.,  6.,  9.,  8.,  4.,  5., 10.,  8., 13.,  5.,  4., 12.,  9.,\n",
       "         8.,  7., 10.,  6.,  7., 15.,  2.,  9., 12.,  5.,  7.,  6.,  7.,\n",
       "        13.,  4.,  7.,  3.,  6.,  9.,  7.,  7.,  6.,  8.,  6.,  2.,  2.,\n",
       "         2.,  8.,  6.,  4.,  6.,  2.,  3.,  8.,  2.,  5.,  2., 11.,  7.,\n",
       "         6.,  0.,  5.,  3.,  5.,  6.,  0.,  5.,  4.,  5.,  2.,  2.,  2.,\n",
       "         1.,  3.,  1.,  6.,  1.,  3.,  1.,  3.,  2.,  1.,  7.,  2.,  3.,\n",
       "         5.,  5.,  2.,  2.,  1.,  5.,  5.,  3.,  4.,  5.,  1.,  4.,  3.,\n",
       "         4.,  4.,  3.,  4.,  4.,  3.,  3.,  2.,  0.,  2.,  1.,  3.,  3.,\n",
       "         3.,  3.,  4.,  2.,  4.,  2.,  3.,  5.,  3.,  2.,  5.,  3.,  1.,\n",
       "         3.,  2.,  1.,  3.,  3.,  2.,  3.,  2.,  0.,  4.,  0.,  3.,  2.,\n",
       "         1.,  2.,  4.,  0.,  2.,  4.,  1.,  2.,  1.,  3.,  3.,  2.,  0.,\n",
       "         1.,  2.,  3.,  2.,  3.,  2.,  1.,  0.,  1.,  2.,  5.,  0.,  1.,\n",
       "         1.,  2.,  1.,  0.,  3.,  2.,  1.,  0.,  2.,  2.,  1.,  2.,  2.,\n",
       "         3.,  0.,  0.,  3.,  2.,  0.,  4.,  0.,  2.,  0.,  0.,  2.,  2.,\n",
       "         0.,  2.,  3.,  3.,  1.,  1.,  0.,  2.,  1.,  0.,  1.,  2.,  4.,\n",
       "         4.,  0.,  0.,  1.,  1.,  1.,  0.,  1.,  3.,  0.,  0.,  1.,  2.,\n",
       "         0.,  0.,  3.,  3.,  0.,  1.,  1.,  1.,  1.,  2.,  0.,  2.,  2.,\n",
       "         4.,  0.,  0.,  1.,  0.,  1.,  2.,  1.,  0.,  2.,  0.,  1.,  1.,\n",
       "         1.,  1.,  1.,  0.,  2.,  0.,  0.,  1.,  0.,  0.,  1.,  0.,  1.,\n",
       "         1.,  0.,  0.,  0.,  0.,  0.,  1.,  0.,  0.,  1.,  1.,  0.,  0.,\n",
       "         0.,  0.,  0.,  0.,  1.,  1.,  0.,  0.,  2.,  1.,  0.,  1.,  0.,\n",
       "         2.,  0.,  0.,  0.,  0.,  1.,  0.,  0.,  0.,  1.,  0.,  1.,  0.,\n",
       "         0.,  0.,  0.,  1.,  0.,  0.,  0.,  0.,  1.,  0.,  1.,  0.,  0.,\n",
       "         0.,  0.,  0.,  1.,  0.,  0.,  1.,  0.,  0.,  1.,  1.,  1.,  0.,\n",
       "         0.,  0.,  0.,  0.,  0.,  0.,  0.,  0.,  0.,  0.,  0.,  0.,  0.,\n",
       "         0.,  1.,  2.,  0.,  0.,  0.,  0.,  0.,  0.,  0.,  0.,  0.,  0.,\n",
       "         0.,  0.,  0.,  1.,  0.,  0.,  0.,  1.,  0.,  0.,  0.,  0.,  1.,\n",
       "         0.,  0.,  0.,  1.,  0.,  0.,  1.,  0.,  1.,  0.,  0.,  0.,  0.,\n",
       "         0.,  0.,  0.,  0.,  0.,  0.,  0.,  0.,  0.,  0.,  0.,  0.,  0.,\n",
       "         0.,  0.,  0.,  0.,  0.,  0.,  0.,  0.,  0.,  0.,  0.,  0.,  0.,\n",
       "         0.,  0.,  0.,  0.,  0.,  0.,  0.,  0.,  0.,  0.,  0.,  0.,  1.,\n",
       "         0.,  0.,  0.,  0.,  0.,  0.,  0.,  0.,  0.,  0.,  0.,  0.,  0.,\n",
       "         0.,  0.,  0.,  0.,  0.,  0.,  0.,  0.,  0.,  0.,  0.,  0.,  0.,\n",
       "         0.,  0.,  0.,  0.,  0.,  0.,  0.,  1.,  0.,  0.,  0.,  0.,  0.,\n",
       "         0.,  0.,  0.,  0.,  0.,  1.,  0.,  0.,  0.,  0.,  0.,  0.,  0.,\n",
       "         0.,  0.,  0.,  0.,  0.,  0.,  0.,  0.,  0.,  0.,  0.,  0.,  0.,\n",
       "         0.,  0.,  0.,  0.,  0.,  0.,  0.,  0.,  0.,  1.,  0.,  0.,  0.,\n",
       "         0.,  0.,  1.,  0.,  0.,  1.,  0.,  0.,  0.,  0.,  0.,  0.,  0.,\n",
       "         0.,  0.,  0.,  0.,  0.,  0.,  0.,  0.,  0.,  0.,  0.,  0.,  1.,\n",
       "         0.,  0.,  0.,  0.,  0.,  0.,  0.,  0.,  0.,  0.,  0.,  0.,  0.,\n",
       "         0.,  0.,  0.,  1.,  0.,  0.,  0.,  0.,  0.,  0.,  0.,  0.,  0.,\n",
       "         0.,  0.,  0.,  0.,  0.,  0.,  0.,  0.,  0.,  0.,  0.]),\n",
       " array([ 0.        ,  0.04004004,  0.08008008,  0.12012012,  0.16016016,\n",
       "         0.2002002 ,  0.24024024,  0.28028028,  0.32032032,  0.36036036,\n",
       "         0.4004004 ,  0.44044044,  0.48048048,  0.52052052,  0.56056056,\n",
       "         0.6006006 ,  0.64064064,  0.68068068,  0.72072072,  0.76076076,\n",
       "         0.8008008 ,  0.84084084,  0.88088088,  0.92092092,  0.96096096,\n",
       "         1.001001  ,  1.04104104,  1.08108108,  1.12112112,  1.16116116,\n",
       "         1.2012012 ,  1.24124124,  1.28128128,  1.32132132,  1.36136136,\n",
       "         1.4014014 ,  1.44144144,  1.48148148,  1.52152152,  1.56156156,\n",
       "         1.6016016 ,  1.64164164,  1.68168168,  1.72172172,  1.76176176,\n",
       "         1.8018018 ,  1.84184184,  1.88188188,  1.92192192,  1.96196196,\n",
       "         2.002002  ,  2.04204204,  2.08208208,  2.12212212,  2.16216216,\n",
       "         2.2022022 ,  2.24224224,  2.28228228,  2.32232232,  2.36236236,\n",
       "         2.4024024 ,  2.44244244,  2.48248248,  2.52252252,  2.56256256,\n",
       "         2.6026026 ,  2.64264264,  2.68268268,  2.72272272,  2.76276276,\n",
       "         2.8028028 ,  2.84284284,  2.88288288,  2.92292292,  2.96296296,\n",
       "         3.003003  ,  3.04304304,  3.08308308,  3.12312312,  3.16316316,\n",
       "         3.2032032 ,  3.24324324,  3.28328328,  3.32332332,  3.36336336,\n",
       "         3.4034034 ,  3.44344344,  3.48348348,  3.52352352,  3.56356356,\n",
       "         3.6036036 ,  3.64364364,  3.68368368,  3.72372372,  3.76376376,\n",
       "         3.8038038 ,  3.84384384,  3.88388388,  3.92392392,  3.96396396,\n",
       "         4.004004  ,  4.04404404,  4.08408408,  4.12412412,  4.16416416,\n",
       "         4.2042042 ,  4.24424424,  4.28428428,  4.32432432,  4.36436436,\n",
       "         4.4044044 ,  4.44444444,  4.48448448,  4.52452452,  4.56456456,\n",
       "         4.6046046 ,  4.64464464,  4.68468468,  4.72472472,  4.76476476,\n",
       "         4.8048048 ,  4.84484484,  4.88488488,  4.92492492,  4.96496496,\n",
       "         5.00500501,  5.04504505,  5.08508509,  5.12512513,  5.16516517,\n",
       "         5.20520521,  5.24524525,  5.28528529,  5.32532533,  5.36536537,\n",
       "         5.40540541,  5.44544545,  5.48548549,  5.52552553,  5.56556557,\n",
       "         5.60560561,  5.64564565,  5.68568569,  5.72572573,  5.76576577,\n",
       "         5.80580581,  5.84584585,  5.88588589,  5.92592593,  5.96596597,\n",
       "         6.00600601,  6.04604605,  6.08608609,  6.12612613,  6.16616617,\n",
       "         6.20620621,  6.24624625,  6.28628629,  6.32632633,  6.36636637,\n",
       "         6.40640641,  6.44644645,  6.48648649,  6.52652653,  6.56656657,\n",
       "         6.60660661,  6.64664665,  6.68668669,  6.72672673,  6.76676677,\n",
       "         6.80680681,  6.84684685,  6.88688689,  6.92692693,  6.96696697,\n",
       "         7.00700701,  7.04704705,  7.08708709,  7.12712713,  7.16716717,\n",
       "         7.20720721,  7.24724725,  7.28728729,  7.32732733,  7.36736737,\n",
       "         7.40740741,  7.44744745,  7.48748749,  7.52752753,  7.56756757,\n",
       "         7.60760761,  7.64764765,  7.68768769,  7.72772773,  7.76776777,\n",
       "         7.80780781,  7.84784785,  7.88788789,  7.92792793,  7.96796797,\n",
       "         8.00800801,  8.04804805,  8.08808809,  8.12812813,  8.16816817,\n",
       "         8.20820821,  8.24824825,  8.28828829,  8.32832833,  8.36836837,\n",
       "         8.40840841,  8.44844845,  8.48848849,  8.52852853,  8.56856857,\n",
       "         8.60860861,  8.64864865,  8.68868869,  8.72872873,  8.76876877,\n",
       "         8.80880881,  8.84884885,  8.88888889,  8.92892893,  8.96896897,\n",
       "         9.00900901,  9.04904905,  9.08908909,  9.12912913,  9.16916917,\n",
       "         9.20920921,  9.24924925,  9.28928929,  9.32932933,  9.36936937,\n",
       "         9.40940941,  9.44944945,  9.48948949,  9.52952953,  9.56956957,\n",
       "         9.60960961,  9.64964965,  9.68968969,  9.72972973,  9.76976977,\n",
       "         9.80980981,  9.84984985,  9.88988989,  9.92992993,  9.96996997,\n",
       "        10.01001001, 10.05005005, 10.09009009, 10.13013013, 10.17017017,\n",
       "        10.21021021, 10.25025025, 10.29029029, 10.33033033, 10.37037037,\n",
       "        10.41041041, 10.45045045, 10.49049049, 10.53053053, 10.57057057,\n",
       "        10.61061061, 10.65065065, 10.69069069, 10.73073073, 10.77077077,\n",
       "        10.81081081, 10.85085085, 10.89089089, 10.93093093, 10.97097097,\n",
       "        11.01101101, 11.05105105, 11.09109109, 11.13113113, 11.17117117,\n",
       "        11.21121121, 11.25125125, 11.29129129, 11.33133133, 11.37137137,\n",
       "        11.41141141, 11.45145145, 11.49149149, 11.53153153, 11.57157157,\n",
       "        11.61161161, 11.65165165, 11.69169169, 11.73173173, 11.77177177,\n",
       "        11.81181181, 11.85185185, 11.89189189, 11.93193193, 11.97197197,\n",
       "        12.01201201, 12.05205205, 12.09209209, 12.13213213, 12.17217217,\n",
       "        12.21221221, 12.25225225, 12.29229229, 12.33233233, 12.37237237,\n",
       "        12.41241241, 12.45245245, 12.49249249, 12.53253253, 12.57257257,\n",
       "        12.61261261, 12.65265265, 12.69269269, 12.73273273, 12.77277277,\n",
       "        12.81281281, 12.85285285, 12.89289289, 12.93293293, 12.97297297,\n",
       "        13.01301301, 13.05305305, 13.09309309, 13.13313313, 13.17317317,\n",
       "        13.21321321, 13.25325325, 13.29329329, 13.33333333, 13.37337337,\n",
       "        13.41341341, 13.45345345, 13.49349349, 13.53353353, 13.57357357,\n",
       "        13.61361361, 13.65365365, 13.69369369, 13.73373373, 13.77377377,\n",
       "        13.81381381, 13.85385385, 13.89389389, 13.93393393, 13.97397397,\n",
       "        14.01401401, 14.05405405, 14.09409409, 14.13413413, 14.17417417,\n",
       "        14.21421421, 14.25425425, 14.29429429, 14.33433433, 14.37437437,\n",
       "        14.41441441, 14.45445445, 14.49449449, 14.53453453, 14.57457457,\n",
       "        14.61461461, 14.65465465, 14.69469469, 14.73473473, 14.77477477,\n",
       "        14.81481481, 14.85485485, 14.89489489, 14.93493493, 14.97497497,\n",
       "        15.01501502, 15.05505506, 15.0950951 , 15.13513514, 15.17517518,\n",
       "        15.21521522, 15.25525526, 15.2952953 , 15.33533534, 15.37537538,\n",
       "        15.41541542, 15.45545546, 15.4954955 , 15.53553554, 15.57557558,\n",
       "        15.61561562, 15.65565566, 15.6956957 , 15.73573574, 15.77577578,\n",
       "        15.81581582, 15.85585586, 15.8958959 , 15.93593594, 15.97597598,\n",
       "        16.01601602, 16.05605606, 16.0960961 , 16.13613614, 16.17617618,\n",
       "        16.21621622, 16.25625626, 16.2962963 , 16.33633634, 16.37637638,\n",
       "        16.41641642, 16.45645646, 16.4964965 , 16.53653654, 16.57657658,\n",
       "        16.61661662, 16.65665666, 16.6966967 , 16.73673674, 16.77677678,\n",
       "        16.81681682, 16.85685686, 16.8968969 , 16.93693694, 16.97697698,\n",
       "        17.01701702, 17.05705706, 17.0970971 , 17.13713714, 17.17717718,\n",
       "        17.21721722, 17.25725726, 17.2972973 , 17.33733734, 17.37737738,\n",
       "        17.41741742, 17.45745746, 17.4974975 , 17.53753754, 17.57757758,\n",
       "        17.61761762, 17.65765766, 17.6976977 , 17.73773774, 17.77777778,\n",
       "        17.81781782, 17.85785786, 17.8978979 , 17.93793794, 17.97797798,\n",
       "        18.01801802, 18.05805806, 18.0980981 , 18.13813814, 18.17817818,\n",
       "        18.21821822, 18.25825826, 18.2982983 , 18.33833834, 18.37837838,\n",
       "        18.41841842, 18.45845846, 18.4984985 , 18.53853854, 18.57857858,\n",
       "        18.61861862, 18.65865866, 18.6986987 , 18.73873874, 18.77877878,\n",
       "        18.81881882, 18.85885886, 18.8988989 , 18.93893894, 18.97897898,\n",
       "        19.01901902, 19.05905906, 19.0990991 , 19.13913914, 19.17917918,\n",
       "        19.21921922, 19.25925926, 19.2992993 , 19.33933934, 19.37937938,\n",
       "        19.41941942, 19.45945946, 19.4994995 , 19.53953954, 19.57957958,\n",
       "        19.61961962, 19.65965966, 19.6996997 , 19.73973974, 19.77977978,\n",
       "        19.81981982, 19.85985986, 19.8998999 , 19.93993994, 19.97997998,\n",
       "        20.02002002, 20.06006006, 20.1001001 , 20.14014014, 20.18018018,\n",
       "        20.22022022, 20.26026026, 20.3003003 , 20.34034034, 20.38038038,\n",
       "        20.42042042, 20.46046046, 20.5005005 , 20.54054054, 20.58058058,\n",
       "        20.62062062, 20.66066066, 20.7007007 , 20.74074074, 20.78078078,\n",
       "        20.82082082, 20.86086086, 20.9009009 , 20.94094094, 20.98098098,\n",
       "        21.02102102, 21.06106106, 21.1011011 , 21.14114114, 21.18118118,\n",
       "        21.22122122, 21.26126126, 21.3013013 , 21.34134134, 21.38138138,\n",
       "        21.42142142, 21.46146146, 21.5015015 , 21.54154154, 21.58158158,\n",
       "        21.62162162, 21.66166166, 21.7017017 , 21.74174174, 21.78178178,\n",
       "        21.82182182, 21.86186186, 21.9019019 , 21.94194194, 21.98198198,\n",
       "        22.02202202, 22.06206206, 22.1021021 , 22.14214214, 22.18218218,\n",
       "        22.22222222, 22.26226226, 22.3023023 , 22.34234234, 22.38238238,\n",
       "        22.42242242, 22.46246246, 22.5025025 , 22.54254254, 22.58258258,\n",
       "        22.62262262, 22.66266266, 22.7027027 , 22.74274274, 22.78278278,\n",
       "        22.82282282, 22.86286286, 22.9029029 , 22.94294294, 22.98298298,\n",
       "        23.02302302, 23.06306306, 23.1031031 , 23.14314314, 23.18318318,\n",
       "        23.22322322, 23.26326326, 23.3033033 , 23.34334334, 23.38338338,\n",
       "        23.42342342, 23.46346346, 23.5035035 , 23.54354354, 23.58358358,\n",
       "        23.62362362, 23.66366366, 23.7037037 , 23.74374374, 23.78378378,\n",
       "        23.82382382, 23.86386386, 23.9039039 , 23.94394394, 23.98398398,\n",
       "        24.02402402, 24.06406406, 24.1041041 , 24.14414414, 24.18418418,\n",
       "        24.22422422, 24.26426426, 24.3043043 , 24.34434434, 24.38438438,\n",
       "        24.42442442, 24.46446446, 24.5045045 , 24.54454454, 24.58458458,\n",
       "        24.62462462, 24.66466466, 24.7047047 , 24.74474474, 24.78478478,\n",
       "        24.82482482, 24.86486486, 24.9049049 , 24.94494494, 24.98498498,\n",
       "        25.02502503, 25.06506507, 25.10510511, 25.14514515, 25.18518519,\n",
       "        25.22522523, 25.26526527, 25.30530531, 25.34534535, 25.38538539,\n",
       "        25.42542543, 25.46546547, 25.50550551, 25.54554555, 25.58558559,\n",
       "        25.62562563, 25.66566567, 25.70570571, 25.74574575, 25.78578579,\n",
       "        25.82582583, 25.86586587, 25.90590591, 25.94594595, 25.98598599,\n",
       "        26.02602603, 26.06606607, 26.10610611, 26.14614615, 26.18618619,\n",
       "        26.22622623, 26.26626627, 26.30630631, 26.34634635, 26.38638639,\n",
       "        26.42642643, 26.46646647, 26.50650651, 26.54654655, 26.58658659,\n",
       "        26.62662663, 26.66666667, 26.70670671, 26.74674675, 26.78678679,\n",
       "        26.82682683, 26.86686687, 26.90690691, 26.94694695, 26.98698699,\n",
       "        27.02702703, 27.06706707, 27.10710711, 27.14714715, 27.18718719,\n",
       "        27.22722723, 27.26726727, 27.30730731, 27.34734735, 27.38738739,\n",
       "        27.42742743, 27.46746747, 27.50750751, 27.54754755, 27.58758759,\n",
       "        27.62762763, 27.66766767, 27.70770771, 27.74774775, 27.78778779,\n",
       "        27.82782783, 27.86786787, 27.90790791, 27.94794795, 27.98798799,\n",
       "        28.02802803, 28.06806807, 28.10810811, 28.14814815, 28.18818819,\n",
       "        28.22822823, 28.26826827, 28.30830831, 28.34834835, 28.38838839,\n",
       "        28.42842843, 28.46846847, 28.50850851, 28.54854855, 28.58858859,\n",
       "        28.62862863, 28.66866867, 28.70870871, 28.74874875, 28.78878879,\n",
       "        28.82882883, 28.86886887, 28.90890891, 28.94894895, 28.98898899,\n",
       "        29.02902903, 29.06906907, 29.10910911, 29.14914915, 29.18918919,\n",
       "        29.22922923, 29.26926927, 29.30930931, 29.34934935, 29.38938939,\n",
       "        29.42942943, 29.46946947, 29.50950951, 29.54954955, 29.58958959,\n",
       "        29.62962963, 29.66966967, 29.70970971, 29.74974975, 29.78978979,\n",
       "        29.82982983, 29.86986987, 29.90990991, 29.94994995, 29.98998999,\n",
       "        30.03003003, 30.07007007, 30.11011011, 30.15015015, 30.19019019,\n",
       "        30.23023023, 30.27027027, 30.31031031, 30.35035035, 30.39039039,\n",
       "        30.43043043, 30.47047047, 30.51051051, 30.55055055, 30.59059059,\n",
       "        30.63063063, 30.67067067, 30.71071071, 30.75075075, 30.79079079,\n",
       "        30.83083083, 30.87087087, 30.91091091, 30.95095095, 30.99099099,\n",
       "        31.03103103, 31.07107107, 31.11111111, 31.15115115, 31.19119119,\n",
       "        31.23123123, 31.27127127, 31.31131131, 31.35135135, 31.39139139,\n",
       "        31.43143143, 31.47147147, 31.51151151, 31.55155155, 31.59159159,\n",
       "        31.63163163, 31.67167167, 31.71171171, 31.75175175, 31.79179179,\n",
       "        31.83183183, 31.87187187, 31.91191191, 31.95195195, 31.99199199,\n",
       "        32.03203203, 32.07207207, 32.11211211, 32.15215215, 32.19219219,\n",
       "        32.23223223, 32.27227227, 32.31231231, 32.35235235, 32.39239239,\n",
       "        32.43243243, 32.47247247, 32.51251251, 32.55255255, 32.59259259,\n",
       "        32.63263263, 32.67267267, 32.71271271, 32.75275275, 32.79279279,\n",
       "        32.83283283, 32.87287287, 32.91291291, 32.95295295, 32.99299299,\n",
       "        33.03303303, 33.07307307, 33.11311311, 33.15315315, 33.19319319,\n",
       "        33.23323323, 33.27327327, 33.31331331, 33.35335335, 33.39339339,\n",
       "        33.43343343, 33.47347347, 33.51351351, 33.55355355, 33.59359359,\n",
       "        33.63363363, 33.67367367, 33.71371371, 33.75375375, 33.79379379,\n",
       "        33.83383383, 33.87387387, 33.91391391, 33.95395395, 33.99399399,\n",
       "        34.03403403, 34.07407407, 34.11411411, 34.15415415, 34.19419419,\n",
       "        34.23423423, 34.27427427, 34.31431431, 34.35435435, 34.39439439,\n",
       "        34.43443443, 34.47447447, 34.51451451, 34.55455455, 34.59459459,\n",
       "        34.63463463, 34.67467467, 34.71471471, 34.75475475, 34.79479479,\n",
       "        34.83483483, 34.87487487, 34.91491491, 34.95495495, 34.99499499,\n",
       "        35.03503504, 35.07507508, 35.11511512, 35.15515516, 35.1951952 ,\n",
       "        35.23523524, 35.27527528, 35.31531532, 35.35535536, 35.3953954 ,\n",
       "        35.43543544, 35.47547548, 35.51551552, 35.55555556, 35.5955956 ,\n",
       "        35.63563564, 35.67567568, 35.71571572, 35.75575576, 35.7957958 ,\n",
       "        35.83583584, 35.87587588, 35.91591592, 35.95595596, 35.995996  ,\n",
       "        36.03603604, 36.07607608, 36.11611612, 36.15615616, 36.1961962 ,\n",
       "        36.23623624, 36.27627628, 36.31631632, 36.35635636, 36.3963964 ,\n",
       "        36.43643644, 36.47647648, 36.51651652, 36.55655656, 36.5965966 ,\n",
       "        36.63663664, 36.67667668, 36.71671672, 36.75675676, 36.7967968 ,\n",
       "        36.83683684, 36.87687688, 36.91691692, 36.95695696, 36.996997  ,\n",
       "        37.03703704, 37.07707708, 37.11711712, 37.15715716, 37.1971972 ,\n",
       "        37.23723724, 37.27727728, 37.31731732, 37.35735736, 37.3973974 ,\n",
       "        37.43743744, 37.47747748, 37.51751752, 37.55755756, 37.5975976 ,\n",
       "        37.63763764, 37.67767768, 37.71771772, 37.75775776, 37.7977978 ,\n",
       "        37.83783784, 37.87787788, 37.91791792, 37.95795796, 37.997998  ,\n",
       "        38.03803804, 38.07807808, 38.11811812, 38.15815816, 38.1981982 ,\n",
       "        38.23823824, 38.27827828, 38.31831832, 38.35835836, 38.3983984 ,\n",
       "        38.43843844, 38.47847848, 38.51851852, 38.55855856, 38.5985986 ,\n",
       "        38.63863864, 38.67867868, 38.71871872, 38.75875876, 38.7987988 ,\n",
       "        38.83883884, 38.87887888, 38.91891892, 38.95895896, 38.998999  ,\n",
       "        39.03903904, 39.07907908, 39.11911912, 39.15915916, 39.1991992 ,\n",
       "        39.23923924, 39.27927928, 39.31931932, 39.35935936, 39.3993994 ,\n",
       "        39.43943944, 39.47947948, 39.51951952, 39.55955956, 39.5995996 ,\n",
       "        39.63963964, 39.67967968, 39.71971972, 39.75975976, 39.7997998 ,\n",
       "        39.83983984, 39.87987988, 39.91991992, 39.95995996, 40.        ]),\n",
       " <BarContainer object of 999 artists>)"
      ]
     },
     "execution_count": 51,
     "metadata": {},
     "output_type": "execute_result"
    },
    {
     "data": {
      "image/png": "[encoded data removed]",
      "text/plain": [
       "<Figure size 432x288 with 1 Axes>"
      ]
     },
     "metadata": {
      "needs_background": "light"
     },
     "output_type": "display_data"
    }
   ],
   "source": [
    "bins = np.linspace(0, 40, 1000)\n",
    "plt.hist(detector.valid_dists.mean(1).numpy(), bins=bins, color='r', alpha=1)\n",
    "plt.hist(detector.test_dists.mean(1).numpy(), bins=bins, color='b', alpha=0.5)"
   ]
  },
  {
   "cell_type": "code",
   "execution_count": 45,
   "id": "847040cc",
   "metadata": {},
   "outputs": [
    {
     "data": {
      "text/plain": [
       "(array([ 4.,  1., 10., 14., 31., 46., 45., 61., 63., 43., 25., 10., 10.,\n",
       "         8.,  3.,  3.,  1.,  1.,  0.,  1.,  0.,  0.,  0.,  2.,  0.,  1.,\n",
       "         0.,  0.,  0.,  0.,  0.,  1.]),\n",
       " array([1.2167661e-05, 3.8396247e-04, 7.5575727e-04, 1.1275520e-03,\n",
       "        1.4993468e-03, 1.8711417e-03, 2.2429365e-03, 2.6147312e-03,\n",
       "        2.9865261e-03, 3.3583208e-03, 3.7301157e-03, 4.1019106e-03,\n",
       "        4.4737053e-03, 4.8455000e-03, 5.2172947e-03, 5.5890898e-03,\n",
       "        5.9608845e-03, 6.3326792e-03, 6.7044739e-03, 7.0762690e-03,\n",
       "        7.4480637e-03, 7.8198584e-03, 8.1916535e-03, 8.5634477e-03,\n",
       "        8.9352429e-03, 9.3070380e-03, 9.6788323e-03, 1.0050627e-02,\n",
       "        1.0422422e-02, 1.0794217e-02, 1.1166012e-02, 1.1537806e-02,\n",
       "        1.1909601e-02], dtype=float32),\n",
       " <BarContainer object of 32 artists>)"
      ]
     },
     "execution_count": 45,
     "metadata": {},
     "output_type": "execute_result"
    },
    {
     "data": {
      "image/png": "[encoded data removed]",
      "text/plain": [
       "<Figure size 432x288 with 1 Axes>"
      ]
     },
     "metadata": {
      "needs_background": "light"
     },
     "output_type": "display_data"
    }
   ],
   "source": [
    "plt.hist(detector.valid_dists.mean(1).numpy(), bins=32, color='r', alpha=0.5)\n"
   ]
  },
  {
   "cell_type": "code",
   "execution_count": 55,
   "id": "792b65d5",
   "metadata": {},
   "outputs": [
    {
     "data": {
      "image/png": "[encoded data removed]",
      "text/plain": [
       "<Figure size 432x288 with 1 Axes>"
      ]
     },
     "metadata": {
      "needs_background": "light"
     },
     "output_type": "display_data"
    },
    {
     "data": {
      "image/png": "[encoded data removed]",
      "text/plain": [
       "<Figure size 432x288 with 1 Axes>"
      ]
     },
     "metadata": {
      "needs_background": "light"
     },
     "output_type": "display_data"
    },
    {
     "data": {
      "image/png": "[encoded data removed]",
      "text/plain": [
       "<Figure size 432x288 with 1 Axes>"
      ]
     },
     "metadata": {
      "needs_background": "light"
     },
     "output_type": "display_data"
    },
    {
     "data": {
      "image/png": "[encoded data removed]",
      "text/plain": [
       "<Figure size 432x288 with 1 Axes>"
      ]
     },
     "metadata": {
      "needs_background": "light"
     },
     "output_type": "display_data"
    },
    {
     "data": {
      "image/png": "[encoded data removed]",
      "text/plain": [
       "<Figure size 432x288 with 1 Axes>"
      ]
     },
     "metadata": {
      "needs_background": "light"
     },
     "output_type": "display_data"
    },
    {
     "data": {
      "image/png": "[encoded data removed]",
      "text/plain": [
       "<Figure size 432x288 with 1 Axes>"
      ]
     },
     "metadata": {
      "needs_background": "light"
     },
     "output_type": "display_data"
    },
    {
     "data": {
      "image/png": "[encoded data removed]",
      "text/plain": [
       "<Figure size 432x288 with 1 Axes>"
      ]
     },
     "metadata": {
      "needs_background": "light"
     },
     "output_type": "display_data"
    },
    {
     "data": {
      "image/png": "[encoded data removed]",
      "text/plain": [
       "<Figure size 432x288 with 1 Axes>"
      ]
     },
     "metadata": {
      "needs_background": "light"
     },
     "output_type": "display_data"
    },
    {
     "data": {
      "image/png": "[encoded data removed]",
      "text/plain": [
       "<Figure size 432x288 with 1 Axes>"
      ]
     },
     "metadata": {
      "needs_background": "light"
     },
     "output_type": "display_data"
    },
    {
     "data": {
      "image/png": "[encoded data removed]",
      "text/plain": [
       "<Figure size 432x288 with 1 Axes>"
      ]
     },
     "metadata": {
      "needs_background": "light"
     },
     "output_type": "display_data"
    }
   ],
   "source": [
    "ensemble_compositions = torch.cat([torch.arange(10).view(10,1), \n",
    "                                                torch.randint(0, 9, (10, 4))],\n",
    "                                               dim=1)\n",
    "bins = np.linspace(0, 40, 250)\n",
    "for i in range(10):\n",
    "    plt.hist(detector.valid_dists[:, ensemble_compositions[i]].mean(1).numpy(), bins=bins, color='r', alpha=1)\n",
    "    plt.hist(detector.test_dists[:, ensemble_compositions[i]].mean(1).numpy(), bins=bins, color='b', alpha=0.5)\n",
    "    plt.show()"
   ]
  },
  {
   "cell_type": "code",
   "execution_count": 64,
   "id": "8d3c82c0",
   "metadata": {},
   "outputs": [
    {
     "name": "stdout",
     "output_type": "stream",
     "text": [
      "tensor(1.)\n",
      "tensor(1.)\n",
      "tensor(1.)\n",
      "tensor(1.)\n",
      "tensor(1.)\n",
      "tensor(1.)\n",
      "tensor(1.)\n",
      "tensor(1.)\n",
      "tensor(1.)\n",
      "tensor(1.)\n"
     ]
    }
   ],
   "source": [
    "auroc = AUROC(task = 'binary')\n",
    "for i in range(10):\n",
    "    print(auroc(detector.pred[i], detector.target))"
   ]
  },
  {
   "cell_type": "code",
   "execution_count": 57,
   "id": "b8f62597",
   "metadata": {},
   "outputs": [
    {
     "data": {
      "image/png": "[encoded data removed]",
      "text/plain": [
       "<Figure size 432x288 with 1 Axes>"
      ]
     },
     "metadata": {
      "needs_background": "light"
     },
     "output_type": "display_data"
    },
    {
     "data": {
      "image/png": "[encoded data removed]",
      "text/plain": [
       "<Figure size 432x288 with 1 Axes>"
      ]
     },
     "metadata": {
      "needs_background": "light"
     },
     "output_type": "display_data"
    },
    {
     "data": {
      "image/png": "[encoded data removed]",
      "text/plain": [
       "<Figure size 432x288 with 1 Axes>"
      ]
     },
     "metadata": {
      "needs_background": "light"
     },
     "output_type": "display_data"
    },
    {
     "data": {
      "image/png": "[encoded data removed]",
      "text/plain": [
       "<Figure size 432x288 with 1 Axes>"
      ]
     },
     "metadata": {
      "needs_background": "light"
     },
     "output_type": "display_data"
    },
    {
     "data": {
      "image/png": "[encoded data removed]",
      "text/plain": [
       "<Figure size 432x288 with 1 Axes>"
      ]
     },
     "metadata": {
      "needs_background": "light"
     },
     "output_type": "display_data"
    },
    {
     "data": {
      "image/png": "[encoded data removed]",
      "text/plain": [
       "<Figure size 432x288 with 1 Axes>"
      ]
     },
     "metadata": {
      "needs_background": "light"
     },
     "output_type": "display_data"
    },
    {
     "data": {
      "image/png": "[encoded data removed]",
      "text/plain": [
       "<Figure size 432x288 with 1 Axes>"
      ]
     },
     "metadata": {
      "needs_background": "light"
     },
     "output_type": "display_data"
    },
    {
     "data": {
      "image/png": "[encoded data removed]",
      "text/plain": [
       "<Figure size 432x288 with 1 Axes>"
      ]
     },
     "metadata": {
      "needs_background": "light"
     },
     "output_type": "display_data"
    },
    {
     "data": {
      "image/png": "[encoded data removed]",
      "text/plain": [
       "<Figure size 432x288 with 1 Axes>"
      ]
     },
     "metadata": {
      "needs_background": "light"
     },
     "output_type": "display_data"
    },
    {
     "data": {
      "image/png": "[encoded data removed]",
      "text/plain": [
       "<Figure size 432x288 with 1 Axes>"
      ]
     },
     "metadata": {
      "needs_background": "light"
     },
     "output_type": "display_data"
    }
   ],
   "source": [
    "bins = np.linspace(0, 40, 250)\n",
    "for i in range(10):\n",
    "    plt.hist(detector.valid_dists[:, i].numpy(), bins=bins, color='r', alpha=1)\n",
    "    plt.hist(detector.test_dists[:, i].numpy(), bins=bins, color='b', alpha=0.5)\n",
    "    plt.show()"
   ]
  },
  {
   "cell_type": "code",
   "execution_count": 19,
   "id": "5e644926",
   "metadata": {},
   "outputs": [
    {
     "data": {
      "text/plain": [
       "2196"
      ]
     },
     "execution_count": 19,
     "metadata": {},
     "output_type": "execute_result"
    }
   ],
   "source": [
    "len(detector.test_labels)"
   ]
  },
  {
   "cell_type": "code",
   "execution_count": 98,
   "id": "aa08d493",
   "metadata": {},
   "outputs": [],
   "source": [
    "r = AUROC(task = 'binary', num_classes=2, average=None)\n",
    "pred = torch.rand((10,10))\n",
    "target = torch.ones((10,10), dtype=torch.uint8)"
   ]
  },
  {
   "cell_type": "code",
   "execution_count": 99,
   "id": "ba5f2f49",
   "metadata": {},
   "outputs": [
    {
     "data": {
      "text/plain": [
       "tensor([0., 0.])"
      ]
     },
     "execution_count": 99,
     "metadata": {},
     "output_type": "execute_result"
    }
   ],
   "source": [
    "r(pred, target)"
   ]
  },
  {
   "cell_type": "code",
   "execution_count": null,
   "id": "dff56385",
   "metadata": {},
   "outputs": [],
   "source": []
  }
 ],
 "metadata": {
  "kernelspec": {
   "display_name": "Python 3 (ipykernel)",
   "language": "python",
   "name": "python3"
  },
  "language_info": {
   "codemirror_mode": {
    "name": "ipython",
    "version": 3
   },
   "file_extension": ".py",
   "mimetype": "text/x-python",
   "name": "python",
   "nbconvert_exporter": "python",
   "pygments_lexer": "ipython3",
   "version": "3.8.13"
  }
 },
 "nbformat": 4,
 "nbformat_minor": 5
}
