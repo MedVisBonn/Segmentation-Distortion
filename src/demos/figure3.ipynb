{
 "cells": [
  {
   "cell_type": "code",
   "execution_count": 1,
   "id": "5b6e1320",
   "metadata": {},
   "outputs": [],
   "source": [
    "import torch\n",
    "import numpy as np\n",
    "import matplotlib.pyplot as plt\n",
    "import os\n",
    "from torch.utils.data import default_collate\n",
    "import pandas as pd\n",
    "import seaborn as sns\n",
    "import warnings\n",
    "warnings.filterwarnings(\"ignore\")\n",
    "from torchmetrics import SpearmanCorrCoef"
   ]
  },
  {
   "cell_type": "code",
   "execution_count": 2,
   "id": "57befbd0",
   "metadata": {},
   "outputs": [],
   "source": [
    "def get_image_data(method: str, net_out: str, task: str, scanner: int):\n",
    "    directory = f'../../results-tmp/results/eval/{net_out}/image/'\n",
    "    image_data = []\n",
    "    for file in os.listdir(directory):\n",
    "        #print(file, method, net_out, task, scanner)\n",
    "        #print(f'-{scanner}-')\n",
    "        if f'-{method}-' in file and f'-{task}-' in file and f'-{scanner}-' in file:\n",
    "            f = torch.load(directory + file)\n",
    "            #print(file, '!')\n",
    "            if 'corr' in f.keys():\n",
    "                f['corr'].target = [t.cpu() for t in f['corr'].target]\n",
    "                f['corr'].preds = [t.cpu() for t in f['corr'].preds]\n",
    "                f['corr'] = f['corr'].compute()\n",
    "            image_data.append(f)\n",
    "        #if 'testing' in file:    \n",
    "        #    print(file)\n",
    "    #print(image_data)\n",
    "    return default_collate(image_data)\n",
    "\n",
    "def get_image_data_tmp(method: str, net_out: str, task: str, scanner: int):\n",
    "    directory = f'../../results-tmp/results/eval/{net_out}/image/'\n",
    "    image_data = []\n",
    "    for file in os.listdir(directory):\n",
    "        #print(file, method, net_out, task, scanner)\n",
    "        #print(f'-{scanner}-')\n",
    "        if f'-{method}-' in file and f'-{task}-' in file and f'-{scanner}-' in file and 'venus_single' in file:\n",
    "            f = torch.load(directory + file)\n",
    "            print(file, '!')\n",
    "            if 'corr' in f.keys():\n",
    "                f['corr'].target = [t.cpu() for t in f['corr'].target]\n",
    "                f['corr'].preds = [t.cpu() for t in f['corr'].preds]\n",
    "                f['corr'] = f['corr'].compute()\n",
    "            image_data.append(f)\n",
    "        #if 'testing' in file:    \n",
    "        #    print(file)\n",
    "    #print(image_data)\n",
    "    return default_collate(image_data)"
   ]
  },
  {
   "cell_type": "code",
   "execution_count": 68,
   "id": "c9969fac",
   "metadata": {},
   "outputs": [
    {
     "name": "stdout",
     "output_type": "stream",
     "text": [
      "mms-testing-both-B-9-venus_auroc\n"
     ]
    }
   ],
   "source": [
    "file='mms-testing-both-B-9-venus_auroc'\n",
    "\n",
    "method='testing'\n",
    "task='both'\n",
    "scanner='B'\n",
    "net_out='mms'\n",
    "#\n",
    "if f'-{method}-' in file and f'-{task}-' in file and f'-{scanner}-' in file:\n",
    "    print(file)\n",
    "    \n",
    "directory = f'../../results-tmp/results/eval/{net_out}/image/'\n",
    "image_data = []\n",
    "f = torch.load(directory + file)\n",
    "if 'corr' in f.keys():\n",
    "    f['corr'].target = [t.cpu() for t in f['corr'].target]\n",
    "    f['corr'].preds = [t.cpu() for t in f['corr'].preds]\n",
    "    f['corr'] = f['corr'].compute()\n",
    "image_data.append(f)"
   ]
  },
  {
   "cell_type": "code",
   "execution_count": 54,
   "id": "9b46744e",
   "metadata": {},
   "outputs": [
    {
     "data": {
      "text/plain": [
       "[{'ood': tensor(0.5745), 'corr': tensor(0.7054)}]"
      ]
     },
     "execution_count": 54,
     "metadata": {},
     "output_type": "execute_result"
    }
   ],
   "source": [
    "image_data"
   ]
  },
  {
   "cell_type": "code",
   "execution_count": 5,
   "id": "02ce338e",
   "metadata": {},
   "outputs": [],
   "source": [
    "df_corr_calgary = pd.DataFrame(columns=['method', 'Domain', 'run', r'Spearmans $\\rho$'])\n",
    "#for method in ['gonzales', 'latents', 'vae']:\n",
    "for method in ['gonzales', 'latents', 'entropy', 'ensemble_tmp', 'ae']:\n",
    "#for method in ['entropy', 'ensemble','ensemble_tmp', 'ae']:\n",
    "    for scanner in [6, 1, 2, 3, 4, 5]:\n",
    "        try:\n",
    "            tmp = get_image_data(method=method, \n",
    "                                 net_out='calgary', \n",
    "                                 task='both', \n",
    "                                 scanner=str(scanner))\n",
    "        except:\n",
    "            tmp = get_image_data(method=method, \n",
    "                     net_out='calgary', \n",
    "                     task='corr', \n",
    "                     scanner=str(scanner))\n",
    "        \n",
    "        if scanner == 1:\n",
    "            domain = 'GE 1.5'\n",
    "        if scanner == 2:\n",
    "            domain = 'GE 3.0'\n",
    "        if scanner == 3:\n",
    "            domain = 'Philips 1.5'\n",
    "        if scanner == 4:\n",
    "            domain = 'Philips 3.0'\n",
    "        if scanner == 5:\n",
    "            domain = 'Siemens 1.5'\n",
    "        if scanner == 6:\n",
    "            domain = 'Siemens 3.0 \\n(val)'\n",
    "        \n",
    "        for i, corr in enumerate(tmp['corr']):\n",
    "\n",
    "            row = {'Domain': domain, \n",
    "                   'method': method, \n",
    "                   'run': i, \n",
    "                   r'Spearmans $\\rho$': corr.numpy().item()}\n",
    "\n",
    "            df_corr_calgary = df_corr_calgary.append(row, ignore_index=True)"
   ]
  },
  {
   "cell_type": "code",
   "execution_count": 3,
   "id": "400764ab",
   "metadata": {},
   "outputs": [],
   "source": [
    "df_corr_mms = pd.DataFrame(columns=['method', 'Domain', 'run', r'Spearmans $\\rho$'])\n",
    "for method in ['gonzales', 'latents', 'entropy', 'ensemble_tmp', 'ae']:\n",
    "#for method in ['multi_CE', 'single_CE', 'ae']:\n",
    "#for method in ['entropy', 'ensemble','ensemble_tmp', 'ae']:\n",
    " \n",
    "    #for scanner in ['val', 'A', 'B', 'C', 'D']:\n",
    "    for scanner in ['A', 'B', 'C', 'D']:\n",
    "        \n",
    "        \n",
    "        try:\n",
    "            tmp = get_image_data(method=method, \n",
    "                                 net_out='mms', \n",
    "                                 task='both', \n",
    "                                 scanner=str(scanner))\n",
    "        except:\n",
    "            tmp = get_image_data(method=method, \n",
    "                                 net_out='mms', \n",
    "                                 task='corr', \n",
    "                                 scanner=str(scanner))\n",
    "\n",
    "        if scanner == 'A':\n",
    "            domain = 'Siemens \\n(M&M)'\n",
    "        if scanner == 'B':\n",
    "            domain = 'Philips'\n",
    "        if scanner == 'C':\n",
    "            domain = 'GE'\n",
    "        if scanner == 'D':\n",
    "            domain = 'Canon'\n",
    "        if scanner == 'val':\n",
    "            domain = 'Siemens \\n(ACDC)'\n",
    "            \n",
    "            \n",
    "        if method == 'gonzales':\n",
    "            m = 'Pooling Mahalanobis'\n",
    "        if method == 'entropy':\n",
    "            m = 'Entropy - Single Net'\n",
    "        if method == 'latents':\n",
    "            m = 'Latent Mahalanobis'\n",
    "        if method == 'ae':\n",
    "            m = 'Segmentation Distortion'\n",
    "        if method == 'ensemble_tmp':\n",
    "            m = 'Entropy - Ensemble'\n",
    "        if method == 'single_CE':\n",
    "            m = 'Single res DAE'\n",
    "        if method == 'multi_CE':\n",
    "            m = 'Multiple res DAEs'\n",
    "        \n",
    "        for i, corr in enumerate(tmp['corr']):\n",
    "\n",
    "            row = {'Domain': domain, \n",
    "                   'method': m, \n",
    "                   'run': i, \n",
    "                   r'Spearmans $\\rho$': corr.numpy().item()}\n",
    "\n",
    "            df_corr_mms = df_corr_mms.append(row, ignore_index=True)"
   ]
  },
  {
   "cell_type": "code",
   "execution_count": 105,
   "id": "d39c3ee5",
   "metadata": {},
   "outputs": [
    {
     "name": "stdout",
     "output_type": "stream",
     "text": [
      "mms-res_dae-both-A-9-venus_single_auroc !\n",
      "mms-res_dae-both-A-3-venus_single_auroc !\n",
      "mms-res_dae-both-A-1-venus_single_auroc !\n",
      "mms-res_dae-both-A-4-venus_single_auroc !\n",
      "mms-res_dae-both-A-5-venus_single_auroc !\n",
      "mms-res_dae-both-A-7-venus_single_auroc !\n",
      "mms-res_dae-both-A-6-venus_single_auroc !\n",
      "mms-res_dae-both-A-0-venus_single_auroc !\n",
      "mms-res_dae-both-A-2-venus_single_auroc !\n",
      "mms-res_dae-both-A-8-venus_single_auroc !\n"
     ]
    }
   ],
   "source": [
    "scanner = 'A'\n",
    "domain = 'Siemens \\n(M&M)'\n",
    "net_out = 'mms'\n",
    "task = 'both'\n",
    "method = 'testing'\n",
    "\n",
    "\n",
    "data_new = get_image_data_tmp(method='res_dae', \n",
    "                          net_out=net_out, \n",
    "                          task=task, \n",
    "                          scanner=scanner)\n",
    "\n",
    "for i, corr in enumerate(data_new['corr']):\n",
    "\n",
    "    row = {'Domain': domain, \n",
    "           'method': method+'_single', \n",
    "           'run': i, \n",
    "           r'Spearmans $\\rho$': corr.numpy().item()}\n",
    "    #print(row)\n",
    "    df_corr_mms = df_corr_mms.append(row, ignore_index=True)"
   ]
  },
  {
   "cell_type": "code",
   "execution_count": 8,
   "id": "53a63970",
   "metadata": {},
   "outputs": [
    {
     "data": {
      "image/png": "[encoded data removed]",
      "text/plain": [
       "<Figure size 792x360 with 2 Axes>"
      ]
     },
     "metadata": {
      "needs_background": "light"
     },
     "output_type": "display_data"
    }
   ],
   "source": [
    "fig, axes = plt.subplots(1, 2, figsize=(11, 5), sharey=True, gridspec_kw={'width_ratios': [12, 16]})\n",
    "sns.boxplot(ax = axes[0], x=\"Domain\", y=r'Spearmans $\\rho$',\n",
    "            hue=\"method\", data=df_corr_mms)\n",
    "#axes[0].get_legend().remove()\n",
    "axes[0].legend().set_title('')\n",
    "axes[0].set_title('M&M - Error Correlation')\n",
    "axes[0].set_xlabel(\"\")\n",
    "axes[0].set_axisbelow(True)\n",
    "axes[0].yaxis.grid(True, alpha=0.5, zorder=0)\n",
    "\n",
    "sns.boxplot(ax = axes[1], x=\"Domain\", y=r'Spearmans $\\rho$',\n",
    "            hue=\"method\", data=df_corr_calgary)\n",
    "axes[1].get_legend().remove()\n",
    "axes[1].set_title('CC-359 - Error Correlation')\n",
    "\n",
    "#axs_right[1].set_yticks([])\n",
    "axes[1].set_ylabel(\"\")\n",
    "axes[1].set_xlabel(\"\")\n",
    "axes[1].tick_params(direction='inout')\n",
    "axes[1].set_ylim(-0.3, 1.1)\n",
    "axes[1].set_axisbelow(True)\n",
    "axes[1].yaxis.grid(True, alpha=0.5, zorder=0)\n",
    "fig.subplots_adjust(wspace=0, hspace=0)\n",
    "fig.savefig(\"../../results-tmp/results/eval/err_corr.png\", bbox_inches='tight', dpi=400, transparent=True)"
   ]
  },
  {
   "cell_type": "code",
   "execution_count": null,
   "id": "8ca30379",
   "metadata": {},
   "outputs": [],
   "source": []
  },
  {
   "cell_type": "code",
   "execution_count": 10,
   "id": "ac15ba60",
   "metadata": {},
   "outputs": [],
   "source": [
    "# fig, axes = plt.subplots(1, 2, figsize=(11, 5), sharey=True, gridspec_kw={'width_ratios': [12, 16]})\n",
    "# sns.boxplot(ax = axes[0], x=\"Domain\", y=r'Spearmans $\\rho$',\n",
    "#             hue=\"method\", data=df_corr_mms)\n",
    "# #axes[0].get_legend().remove()\n",
    "# axes[0].legend().set_title('')\n",
    "# axes[0].set_title('M&M - Error Correlation')\n",
    "# axes[0].set_xlabel(\"\")\n",
    "# axes[0].yaxis.grid(True, alpha=0.5, zorder=0)\n",
    "\n",
    "# sns.boxplot(ax = axes[1], x=\"Domain\", y=r'Spearmans $\\rho$',\n",
    "#             hue=\"method\", data=df_corr_calgary)\n",
    "# axes[1].get_legend().remove()\n",
    "# axes[1].set_title('CC-359 - Error Correlation')\n",
    "\n",
    "# #axs_right[1].set_yticks([])\n",
    "# axes[1].set_ylabel(\"\")\n",
    "# axes[1].set_xlabel(\"\")\n",
    "# axes[1].tick_params(direction='inout')\n",
    "# axes[1].set_ylim(-0.3, 1.1)\n",
    "# axes[1].yaxis.grid(True, alpha=0.5, zorder=0)\n",
    "# fig.subplots_adjust(wspace=0, hspace=0)\n",
    "# fig.savefig(\"../../results-tmp/results/eval/err_corr_ensemble_test.jpg\", bbox_inches='tight', dpi=400)"
   ]
  },
  {
   "cell_type": "code",
   "execution_count": 11,
   "id": "16d06536",
   "metadata": {},
   "outputs": [],
   "source": [
    "### quick post-hoc data formatting for fit the old data loading\n",
    "\n",
    "# net_out = 'calgary'\n",
    "# directory = f'../../results-tmp/results/eval/{net_out}/image/'\n",
    "# for file in os.listdir(directory):\n",
    "#     if 'ensemble' in file and 'corr' in file:\n",
    "#         tmp = torch.load(directory+file)\n",
    "#         out = {'corr': tmp}\n",
    "#         torch.save(out, directory+file)"
   ]
  },
  {
   "cell_type": "code",
   "execution_count": null,
   "id": "3a6bfd1f",
   "metadata": {},
   "outputs": [],
   "source": []
  }
 ],
 "metadata": {
  "kernelspec": {
   "display_name": "Python 3 (ipykernel)",
   "language": "python",
   "name": "python3"
  },
  "language_info": {
   "codemirror_mode": {
    "name": "ipython",
    "version": 3
   },
   "file_extension": ".py",
   "mimetype": "text/x-python",
   "name": "python",
   "nbconvert_exporter": "python",
   "pygments_lexer": "ipython3",
   "version": "3.8.13"
  }
 },
 "nbformat": 4,
 "nbformat_minor": 5
}
