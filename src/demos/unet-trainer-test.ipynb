{
 "cells": [
  {
   "cell_type": "code",
   "execution_count": 11,
   "id": "2e11f476",
   "metadata": {},
   "outputs": [],
   "source": [
    "import sys\n",
    "from torch import nn\n",
    "from torch.utils.data import DataLoader \n",
    "from nnunet.training.network_training.nnUNetTrainerV2 import nnUNetTrainerV2\n",
    "\n",
    "\n",
    "sys.path.append(\"../\")\n",
    "from dataset import CalgaryCampinasDataset, ACDCDataset, MNMDataset\n",
    "from model.unet import UNet2D\n",
    "from trainer.unet_trainer import UNetTrainerCalgary, UNetTrainerACDC\n",
    "from utils import volume_collate\n",
    "from losses import DiceScoreMMS, CrossEntropyTargetArgmax, DiceScoreCalgary, SurfaceDiceCalgary"
   ]
  },
  {
   "cell_type": "code",
   "execution_count": 15,
   "id": "e80aad50",
   "metadata": {},
   "outputs": [
    {
     "name": "stdout",
     "output_type": "stream",
     "text": [
      "Decsription: calgary_unet-test0\n"
     ]
    },
    {
     "data": {
      "application/vnd.jupyter.widget-view+json": {
       "model_id": "09e317328131458eb2d4097546da6f14",
       "version_major": 2,
       "version_minor": 0
      },
      "text/plain": [
       "  0%|          | 0/2 [00:00<?, ?it/s]"
      ]
     },
     "metadata": {},
     "output_type": "display_data"
    },
    {
     "name": "stdout",
     "output_type": "stream",
     "text": [
      "No metrics found\n"
     ]
    }
   ],
   "source": [
    "cfg = {\n",
    "    'debug': True,\n",
    "    'log': False,\n",
    "    'description': 'calgary_unet-test',\n",
    "    'project': 'IPMI2023',\n",
    "    \n",
    "    # Data params\n",
    "    'n': 0,\n",
    "    'root': '../../',\n",
    "    'data_path': 'data/conp-dataset/projects/calgary-campinas/CC359/Reconstructed/',\n",
    "    'train_site': 6,\n",
    "    'augment': False,\n",
    "    'validation': True,\n",
    "    'channel_out': 8,\n",
    "    \n",
    "    # Training params\n",
    "    'batch_size': 32,\n",
    "    'lr': 1e-3,\n",
    "    'epochs': 2,\n",
    "    'patience': 4\n",
    "}\n",
    "\n",
    "description = cfg['description'] + str(cfg['n'])\n",
    "print(f\"Decsription: {description}\")\n",
    "\n",
    "data_path = cfg['root'] + cfg['data_path']\n",
    "\n",
    "train_set = CalgaryCampinasDataset(data_path=data_path, site=cfg['train_site'], \n",
    "                                   augment=cfg['augment'], normalize=True, \n",
    "                                   split='train', debug=cfg['debug'])\n",
    "train_loader = DataLoader(train_set, batch_size=64, shuffle=True, drop_last=False, num_workers=10)\n",
    "\n",
    "\n",
    "valid_set = CalgaryCampinasDataset(data_path=data_path, site=cfg['train_site'], \n",
    "                                   normalize=True, volume_wise=True,\n",
    "                                   split='validation')\n",
    "valid_loader = DataLoader(valid_set, batch_size=1, shuffle=False, drop_last=False, \n",
    "                      collate_fn=volume_collate)\n",
    "\n",
    "\n",
    "# UNET\n",
    "seg_model   = UNet2D(n_chans_in=1, n_chans_out=1, n_filters_init=cfg['channel_out'])\n",
    "criterion   = nn.BCEWithLogitsLoss()\n",
    "eval_metrics = {\n",
    "    \"Volumetric Dice\": DiceScoreCalgary(),\n",
    "    \"Surface Dice\": SurfaceDiceCalgary()\n",
    "}\n",
    "root = cfg['root']\n",
    "unet_trainer = UNetTrainerCalgary(model=seg_model, \n",
    "                                  criterion=criterion, \n",
    "                                  train_loader=train_loader, \n",
    "                                  valid_loader=valid_loader, \n",
    "                                  root=root, \n",
    "                                  eval_metrics=eval_metrics, \n",
    "                                  lr=cfg['lr'],\n",
    "                                  n_epochs=cfg['epochs'],\n",
    "                                  description=description,\n",
    "                                  patience=cfg['patience'],\n",
    "                                  log=False)\n",
    "\n",
    "unet_trainer.fit()"
   ]
  },
  {
   "cell_type": "code",
   "execution_count": 3,
   "id": "24d77540",
   "metadata": {},
   "outputs": [
    {
     "name": "stdout",
     "output_type": "stream",
     "text": [
      "loading dataset\n",
      "loading all case properties\n",
      "2023-06-23 11:32:21.063044: Using splits from existing split file: ../../../nnUNet/data/nnUNet_preprocessed/Task500_ACDC/splits_final.pkl\n",
      "2023-06-23 11:32:21.064343: The split file contains 5 splits.\n",
      "2023-06-23 11:32:21.064464: Desired fold for training: 0\n",
      "2023-06-23 11:32:21.064769: This split has 160 training and 40 validation cases.\n",
      "unpacking dataset\n",
      "done\n"
     ]
    },
    {
     "data": {
      "application/vnd.jupyter.widget-view+json": {
       "model_id": "f59b2164510949cd841c75455caa460c",
       "version_major": 2,
       "version_minor": 0
      },
      "text/plain": [
       "  0%|          | 0/2 [00:00<?, ?it/s]"
      ]
     },
     "metadata": {},
     "output_type": "display_data"
    },
    {
     "name": "stdout",
     "output_type": "stream",
     "text": [
      "using pin_memory on device 0\n",
      "using pin_memory on device 0\n",
      "No metrics found\n"
     ]
    }
   ],
   "source": [
    "### Dataloader\n",
    "## Initialize trainer to get data loaders with data augmentations from training\n",
    "nnUnet_prefix = '../../../nnUNet/'\n",
    "pkl_file          = nnUnet_prefix + 'data/nnUNet_preprocessed/Task500_ACDC/nnUNetPlansv2.1_plans_2D.pkl'\n",
    "fold              = 0\n",
    "output_folder     = nnUnet_prefix + 'results/nnUnet/nnUNet/2d/Task027_ACDC/nnUNetTrainerV2__nnUNetPlansv2.1/'\n",
    "dataset_directory = nnUnet_prefix + 'data/nnUNet_preprocessed/Task500_ACDC'\n",
    "\n",
    "trainer = nnUNetTrainerV2(pkl_file, 0, output_folder, dataset_directory)\n",
    "trainer.initialize()\n",
    "\n",
    "train_loader = trainer.tr_gen\n",
    "valid_loader = trainer.val_gen\n",
    "\n",
    "\n",
    "cfg = {\n",
    "    'debug': True,\n",
    "    'log': False,\n",
    "    'description': f'acdc_unet_test',\n",
    "    'project': 'MICCAI2023',\n",
    "\n",
    "    # Data params\n",
    "    'n': 0,\n",
    "    'root': '../../',\n",
    "    'validation': True,\n",
    "    'channel_out': 8,\n",
    "\n",
    "    # Training params\n",
    "    'batch_size': 32,\n",
    "    'lr': 1e-3,\n",
    "    'epochs': 2,\n",
    "    'patience': 8\n",
    "}\n",
    "\n",
    "\n",
    "seg_model    = UNet2D(n_chans_in=1, n_chans_out=4, n_filters_init=cfg['channel_out'])\n",
    "criterion    = CrossEntropyTargetArgmax()\n",
    "eval_metrics = {\n",
    "    \"Volumetric Dice\": DiceScoreMMS()\n",
    "} \n",
    "root = cfg['root']\n",
    "unet_trainer = UNetTrainerACDC(model=seg_model,\n",
    "                               criterion=criterion,\n",
    "                               train_loader=train_loader,\n",
    "                               valid_loader=valid_loader,\n",
    "                               num_batches_per_epoch=trainer.num_batches_per_epoch,\n",
    "                               num_val_batches_per_epoch=trainer.num_val_batches_per_epoch,\n",
    "                               root=root,\n",
    "                               eval_metrics=eval_metrics,\n",
    "                               lr=cfg['lr'],\n",
    "                               n_epochs=cfg['epochs'],\n",
    "                               description=cfg[\"description\"],\n",
    "                               patience=cfg['patience'],\n",
    "                               log=cfg['log'])\n",
    "\n",
    "unet_trainer.fit()"
   ]
  }
 ],
 "metadata": {
  "kernelspec": {
   "display_name": "Python 3 (ipykernel)",
   "language": "python",
   "name": "python3"
  },
  "language_info": {
   "codemirror_mode": {
    "name": "ipython",
    "version": 3
   },
   "file_extension": ".py",
   "mimetype": "text/x-python",
   "name": "python",
   "nbconvert_exporter": "python",
   "pygments_lexer": "ipython3",
   "version": "3.8.13"
  }
 },
 "nbformat": 4,
 "nbformat_minor": 5
}
