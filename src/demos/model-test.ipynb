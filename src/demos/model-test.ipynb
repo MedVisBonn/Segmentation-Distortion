{
 "cells": [
  {
   "cell_type": "code",
   "execution_count": 1,
   "id": "8ecfcb1a",
   "metadata": {},
   "outputs": [],
   "source": [
    "import torch\n",
    "import sys\n",
    "sys.path.append(\"../\")\n",
    "\n",
    "from model.ae import AE\n",
    "from model.unet import UNet2D\n",
    "from model.wrapper import Frankenstein\n"
   ]
  },
  {
   "cell_type": "code",
   "execution_count": 4,
   "id": "58d0dcdf",
   "metadata": {},
   "outputs": [],
   "source": [
    "unet = UNet2D(1, 4)\n",
    "_    = unet(torch.zeros((10, 1, 128, 128)))\n",
    "\n",
    "ae = AE(32, 64)\n",
    "_  = ae(torch.zeros((10,32,64,64)))"
   ]
  },
  {
   "cell_type": "code",
   "execution_count": null,
   "id": "03ad7a4a",
   "metadata": {},
   "outputs": [],
   "source": []
  }
 ],
 "metadata": {
  "kernelspec": {
   "display_name": "Python 3 (ipykernel)",
   "language": "python",
   "name": "python3"
  },
  "language_info": {
   "codemirror_mode": {
    "name": "ipython",
    "version": 3
   },
   "file_extension": ".py",
   "mimetype": "text/x-python",
   "name": "python",
   "nbconvert_exporter": "python",
   "pygments_lexer": "ipython3",
   "version": "3.8.13"
  }
 },
 "nbformat": 4,
 "nbformat_minor": 5
}
