{
 "cells": [
  {
   "cell_type": "code",
   "execution_count": 1,
   "id": "aa7e5a5d",
   "metadata": {},
   "outputs": [],
   "source": [
    "import torch\n",
    "from torch import nn\n",
    "import sys\n",
    "sys.path.append(\"../\")\n",
    "\n",
    "from model.ae import AE\n",
    "from model.unet import UNet2D\n",
    "from model.wrapper import Frankenstein\n"
   ]
  },
  {
   "cell_type": "code",
   "execution_count": 4,
   "id": "65cd0b7b",
   "metadata": {},
   "outputs": [
    {
     "name": "stdout",
     "output_type": "stream",
     "text": [
      "Inputs: \n",
      "test input shape: torch.Size([10, 1, 256, 256]) \n",
      "test feature shape: torch.Size([10, 32, 64, 64])\n",
      "Outputs: \n",
      "U-Net output shape: torch.Size([10, 4, 256, 256])\n",
      "AE output shape: torch.Size([10, 32, 64, 64])\n",
      "wrapper output shape w/o hooks:           torch.Size([10, 4, 256, 256])\n",
      "wrapper output shape w   training hooks:  torch.Size([10, 4, 256, 256])\n",
      "wrapper output shape w   inference hooks: torch.Size([20, 4, 256, 256])\n"
     ]
    }
   ],
   "source": [
    "# test inputs\n",
    "x_in = torch.zeros((10,1,256,256))\n",
    "feature_in = torch.zeros((10,32,64,64))\n",
    "print(f\"Inputs: \\ntest input shape: {x_in.shape} \\ntest feature shape: {feature_in.shape}\")\n",
    "\n",
    "# - init and test U-Net\n",
    "unet = UNet2D(1, 4)\n",
    "tmp = unet(x_in)\n",
    "print(f\"Outputs: \\nU-Net output shape: {tmp.shape}\")\n",
    "\n",
    "# - init and test AE\n",
    "ae = AE(32, 64)\n",
    "tmp = ae(feature_in)\n",
    "print(f\"AE output shape: {tmp.shape}\")\n",
    "\n",
    "# - init and test wrapper\n",
    "# declare potential attachment points\n",
    "layer_ids = ['shortcut0', 'shortcut1', 'shortcut2', 'up3']\n",
    "\n",
    "# configure ae for specific layer(s)\n",
    "#                         channel, spatial, latent,  depth, block \n",
    "ae_config   = {'up3': [        64,      32,    128,     2,      4]}\n",
    "\n",
    "\n",
    "# set up module dict to pass to \"transformations\"\n",
    "AEs = nn.ModuleDict({'up3': AE(in_channels = ae_config['up3'][0], \n",
    "                                in_dim      = ae_config['up3'][1],\n",
    "                                latent_dim  = ae_config['up3'][2],\n",
    "                                depth       = ae_config['up3'][3],\n",
    "                                block_size  = ae_config['up3'][4])})\n",
    "\n",
    "# for disabled ids, we attach identitdy functions. Since we populate the\n",
    "# batch dimension, we need to make sure that features from different\n",
    "# resolutions have matching batch dimensions even in cases where we do\n",
    "# not alter them.\n",
    "disabled_ids = [layer_id for layer_id in layer_ids if layer_id != 'up3']\n",
    "for layer_id in disabled_ids:\n",
    "    AEs[layer_id] = nn.Identity()\n",
    "\n",
    "# instantiate wrapper class\n",
    "model = Frankenstein(unet, \n",
    "                     AEs, \n",
    "                     disabled_ids=disabled_ids,\n",
    "                     copy=True)\n",
    "\n",
    "# test forward pass without any hooks\n",
    "tmp = model(x_in)\n",
    "print(f\"wrapper output shape w/o hooks:           {tmp.shape}\")\n",
    "\n",
    "# test forward with training hooks\n",
    "model.remove_all_hooks()       \n",
    "model.hook_train_transformations(model.transformations)\n",
    "tmp = model(x_in)\n",
    "print(f\"wrapper output shape w   training hooks:  {tmp.shape}\")\n",
    "\n",
    "# test forward with inference hooks. Sample argument can be used\n",
    "# for transformations with stochastic elements (e.g. VAEs)\n",
    "model.remove_all_hooks()       \n",
    "model.hook_transformations(model.transformations,\n",
    "                           n_samples=1)\n",
    "tmp = model(x_in)\n",
    "print(f\"wrapper output shape w   inference hooks: {tmp.shape}\")"
   ]
  },
  {
   "cell_type": "code",
   "execution_count": null,
   "id": "bf3c2244",
   "metadata": {},
   "outputs": [],
   "source": []
  }
 ],
 "metadata": {
  "kernelspec": {
   "display_name": "Python 3 (ipykernel)",
   "language": "python",
   "name": "python3"
  },
  "language_info": {
   "codemirror_mode": {
    "name": "ipython",
    "version": 3
   },
   "file_extension": ".py",
   "mimetype": "text/x-python",
   "name": "python",
   "nbconvert_exporter": "python",
   "pygments_lexer": "ipython3",
   "version": "3.8.13"
  }
 },
 "nbformat": 4,
 "nbformat_minor": 5
}
