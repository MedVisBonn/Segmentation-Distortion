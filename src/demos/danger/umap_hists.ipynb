{
 "cells": [
  {
   "cell_type": "code",
   "execution_count": 1,
   "id": "4c915d6f",
   "metadata": {},
   "outputs": [],
   "source": [
    "import matplotlib.pyplot as plt\n",
    "plt.show()"
   ]
  },
  {
   "cell_type": "code",
   "execution_count": 3,
   "id": "611c39b6",
   "metadata": {},
   "outputs": [
    {
     "name": "stdout",
     "output_type": "stream",
     "text": [
      "\n",
      "\n",
      "Please cite the following paper when using nnUNet:\n",
      "\n",
      "Isensee, F., Jaeger, P.F., Kohl, S.A.A. et al. \"nnU-Net: a self-configuring method for deep learning-based biomedical image segmentation.\" Nat Methods (2020). https://doi.org/10.1038/s41592-020-01008-z\n",
      "\n",
      "\n",
      "If you have questions or suggestions, feel free to open an issue at https://github.com/MIC-DKFZ/nnUNet\n",
      "\n"
     ]
    }
   ],
   "source": [
    "import matplotlib.pyplot as plt\n",
    "import os, sys\n",
    "from typing import Iterable, Dict, List, Callable, Tuple, Union, List\n",
    "\n",
    "import numpy as np\n",
    "import torch\n",
    "from torch import nn, Tensor\n",
    "from torch.utils.data import DataLoader\n",
    "import torch.nn.functional as F\n",
    "\n",
    "sys.path.append('../../')\n",
    "from dataset import ACDCDataset, MNMDataset\n",
    "from model.unet import UNet2D\n",
    "from model.ae import AE\n",
    "from model.dae import resDAE, AugResDAE\n",
    "from model.wrapper import Frankenstein, ModelAdapter\n",
    "from losses import DiceScoreMMS\n",
    "from utils import  epoch_average, UMapGenerator"
   ]
  },
  {
   "cell_type": "code",
   "execution_count": 4,
   "id": "cf47006a",
   "metadata": {},
   "outputs": [
    {
     "name": "stdout",
     "output_type": "stream",
     "text": [
      "loading dataset\n",
      "loading all case properties\n"
     ]
    }
   ],
   "source": [
    "### - datasets\n",
    "#acdc_train = ACDCDataset(data='val')\n",
    "\n",
    "\n",
    "\n",
    "debug = False\n",
    "loader = {}\n",
    "vendor = 'A'\n",
    "\n",
    "mnm_a = MNMDataset(vendor=vendor, debug=debug)\n",
    "mnm_a_loader = DataLoader(mnm_a, batch_size=1, shuffle=False, drop_last=False)\n"
   ]
  },
  {
   "cell_type": "code",
   "execution_count": 6,
   "id": "23050479",
   "metadata": {},
   "outputs": [],
   "source": [
    "### - init unets\n",
    "# U-Nets\n",
    "ROOT = '../../../'\n",
    "middle = 'unet8_'\n",
    "pre = 'acdc'\n",
    "unet_names = [f'{pre}_{middle}{i}' for i in range(10)]\n",
    "unets = []\n",
    "for name in unet_names:\n",
    "    model_path = f'{ROOT}pre-trained-tmp/trained_UNets/{name}_best.pt'\n",
    "    state_dict = torch.load(model_path)['model_state_dict']\n",
    "    n_chans_out = 4\n",
    "    unet = UNet2D(n_chans_in=1, \n",
    "                  n_chans_out=n_chans_out, \n",
    "                  n_filters_init=8, \n",
    "                  dropout=False)\n",
    "    unet.load_state_dict(state_dict)\n",
    "    unets.append(unet)"
   ]
  },
  {
   "cell_type": "code",
   "execution_count": 7,
   "id": "57a72751",
   "metadata": {},
   "outputs": [],
   "source": [
    "### Init two models for UNet 0, Reconstruction and Residual\n",
    "\n",
    "# init models\n",
    "posts = ['localAug_multiImgSingleView_res_balanced_same', 'localAug_multiImgSingleView_recon_balanced_same']\n",
    "residuals = [True, False]\n",
    "disabled_ids = ['shortcut0', 'shortcut1', 'shortcut2']\n",
    "models = []\n",
    "for i, (post, residual) in enumerate(zip(posts, residuals)):\n",
    "    DAEs = nn.ModuleDict({'up3': AugResDAE(in_channels = 64, \n",
    "                                        in_dim      = 32,\n",
    "                                        latent_dim  = 256,\n",
    "                                        depth       = 3,\n",
    "                                        block_size  = 4,\n",
    "                                        residual    = residual),\n",
    "                         })\n",
    "\n",
    "\n",
    "    for layer_id in disabled_ids:\n",
    "        DAEs[layer_id] = nn.Identity()\n",
    "    \n",
    "    model = Frankenstein(seg_model=unet,\n",
    "                         transformations=DAEs,\n",
    "                         disabled_ids=disabled_ids,\n",
    "                         copy=True)\n",
    "    model_path = f'{ROOT}pre-trained-tmp/trained_AEs/acdc_AugResDAE1_{post}_best.pt'\n",
    "    #model_path = f'{ROOT}pre-trained-tmp/trained_AEs/{pre}_resDAE{i}_{post}_best.pt'\n",
    "    #model_path = f'{ROOT}pre-trained-tmp/trained_AEs/acdc_epinet_CE-only_prior-1_best.pt'localAug_multiImgSingleView_res\n",
    "    #model_path = f'{ROOT}pre-trained-tmp/trained_AEs/acdc_resDAE0_venus_best.pt'\n",
    "    state_dict = torch.load(model_path)['model_state_dict']\n",
    "    model.load_state_dict(state_dict)\n",
    "    # Remove trainiung hooks, add evaluation hooks\n",
    "    model.remove_all_hooks()        \n",
    "    model.hook_inference_transformations(model.transformations,\n",
    "                               n_samples=1)\n",
    "    # Put model in evaluation state\n",
    "    model.eval()\n",
    "    model.freeze_seg_model()\n",
    "    models.append(model)"
   ]
  },
  {
   "cell_type": "code",
   "execution_count": 34,
   "id": "5bc08a96",
   "metadata": {},
   "outputs": [],
   "source": [
    "# init \n",
    "umap_generator_AE = UMapGenerator(method='mse', net_out='mms')\n",
    "\n",
    "# itertatively make samples\n",
    "for i in range(0, 50):\n",
    "    # get data\n",
    "    data = mnm_a[i * 10]\n",
    "    img_original = data['input'].unsqueeze(0)\n",
    "#     img_augmented = data['data']\n",
    "    mask = data['target'].unsqueeze(0)\n",
    "    mask[mask < 0] = 0\n",
    "    \n",
    "        # UNet predictions\n",
    "#     input_batch = torch.cat([data['data_orig'], data['data']], dim=0)\n",
    "    unet_output = unets[1](img_original)\n",
    "    pred = torch.argmax(unet_output, dim=1, keepdims=True)\n",
    "    err_map = (pred != mask)\n",
    "    #pred_unet = fo.Segmentation(mask=pred[0].squeeze().numpy())\n",
    "    #error_unet = fo.Segmentation(mask=err_map.squeeze().numpy())\n",
    "#     sample_augmented[f'pred_unet'] = fo.Segmentation(mask=pred[1].squeeze().numpy())\n",
    "    \n",
    "    # UNet predictions with feature resampling\n",
    "    res_model_output_original       = models[0](img_original)\n",
    "    res_model_pred_original         = torch.argmax(res_model_output_original[1], dim=0, keepdims=False)\n",
    "    #res_pred_ae = fo.Segmentation(mask=res_model_pred_original.squeeze().numpy())\n",
    "    res_model_umap                  = umap_generator_AE(res_model_output_original)\n",
    "    #res_umap_ae    = fo.Heatmap(map=res_model_umap.squeeze().numpy())\n",
    "    \n",
    "#     res_model_output_augmented       = models[0](data['data'])\n",
    "#     res_model_pred_augmented         = torch.argmax(res_model_output_augmented[1], dim=0, keepdims=False)\n",
    "#     sample_augmented[f'res_pred_ae'] = fo.Segmentation(mask=res_model_pred_augmented.squeeze().numpy())\n",
    "    \n",
    "    rec_model_output_original       = models[1](img_original)\n",
    "    rec_model_pred_original         = torch.argmax(rec_model_output_original[1], dim=0, keepdims=False)\n",
    "    #sample_original[f'rec_pred_ae'] = fo.Segmentation(mask=rec_model_pred_original.squeeze().numpy())\n",
    "    rec_model_umap                  = umap_generator_AE(rec_model_output_original)\n",
    "    #sample_original[f'rec_umap_ae']    = fo.Heatmap(map=rec_model_umap.squeeze().numpy())"
   ]
  },
  {
   "cell_type": "code",
   "execution_count": 35,
   "id": "ff675df8",
   "metadata": {},
   "outputs": [
    {
     "data": {
      "image/png": "[encoded data removed]",
      "text/plain": [
       "<Figure size 432x288 with 1 Axes>"
      ]
     },
     "metadata": {
      "needs_background": "light"
     },
     "output_type": "display_data"
    }
   ],
   "source": [
    "_ = plt.hist(torch.clamp(rec_model_umap, 0, 100).flatten().numpy(), bins=128)\n",
    "plt.yscale('log')\n",
    "plt.show()"
   ]
  },
  {
   "cell_type": "code",
   "execution_count": 44,
   "id": "e8bf5d1d",
   "metadata": {},
   "outputs": [
    {
     "data": {
      "image/png": "[encoded data removed]",
      "text/plain": [
       "<Figure size 432x288 with 1 Axes>"
      ]
     },
     "metadata": {
      "needs_background": "light"
     },
     "output_type": "display_data"
    }
   ],
   "source": [
    "_ = plt.hist(res_model_umap.flatten().numpy(), bins=64, alpha=0.5)\n",
    "_ = plt.hist(rec_model_umap.flatten().numpy(), bins=64, alpha=0.5)\n",
    "\n",
    "plt.yscale('log')\n",
    "plt.show()"
   ]
  },
  {
   "cell_type": "code",
   "execution_count": 37,
   "id": "fd48b6c2",
   "metadata": {},
   "outputs": [
    {
     "data": {
      "text/plain": [
       "tensor(0.0009)"
      ]
     },
     "execution_count": 37,
     "metadata": {},
     "output_type": "execute_result"
    }
   ],
   "source": [
    "rec_model_umap.max()"
   ]
  },
  {
   "cell_type": "code",
   "execution_count": null,
   "id": "5b301a85",
   "metadata": {},
   "outputs": [],
   "source": []
  }
 ],
 "metadata": {
  "kernelspec": {
   "display_name": "Python 3 (ipykernel)",
   "language": "python",
   "name": "python3"
  },
  "language_info": {
   "codemirror_mode": {
    "name": "ipython",
    "version": 3
   },
   "file_extension": ".py",
   "mimetype": "text/x-python",
   "name": "python",
   "nbconvert_exporter": "python",
   "pygments_lexer": "ipython3",
   "version": "3.8.13"
  }
 },
 "nbformat": 4,
 "nbformat_minor": 5
}
