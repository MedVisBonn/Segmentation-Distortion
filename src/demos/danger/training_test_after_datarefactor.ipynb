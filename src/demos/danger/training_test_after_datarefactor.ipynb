{
 "cells": [
  {
   "cell_type": "markdown",
   "id": "d25f2152",
   "metadata": {},
   "source": [
    "### UNet Calgary"
   ]
  },
  {
   "cell_type": "code",
   "execution_count": 4,
   "id": "cec4ed37",
   "metadata": {},
   "outputs": [
    {
     "name": "stdout",
     "output_type": "stream",
     "text": [
      "Decsription: calgary_unet0_augmentednnUNet_test\n"
     ]
    },
    {
     "data": {
      "application/vnd.jupyter.widget-view+json": {
       "model_id": "7b8f25b4fb6b4418885ea40189d48e8a",
       "version_major": 2,
       "version_minor": 0
      },
      "text/plain": [
       "  0%|          | 0/250 [00:00<?, ?it/s]"
      ]
     },
     "metadata": {},
     "output_type": "display_data"
    },
    {
     "ename": "KeyboardInterrupt",
     "evalue": "",
     "output_type": "error",
     "traceback": [
      "\u001b[0;31m---------------------------------------------------------------------------\u001b[0m",
      "\u001b[0;31mKeyboardInterrupt\u001b[0m                         Traceback (most recent call last)",
      "Input \u001b[0;32mIn [4]\u001b[0m, in \u001b[0;36m<cell line: 137>\u001b[0;34m()\u001b[0m\n\u001b[1;32m    121\u001b[0m root \u001b[38;5;241m=\u001b[39m cfg[\u001b[38;5;124m'\u001b[39m\u001b[38;5;124mroot\u001b[39m\u001b[38;5;124m'\u001b[39m]\n\u001b[1;32m    122\u001b[0m unet_trainer \u001b[38;5;241m=\u001b[39m UNetTrainerCalgary(\n\u001b[1;32m    123\u001b[0m     model\u001b[38;5;241m=\u001b[39mseg_model, \n\u001b[1;32m    124\u001b[0m     criterion\u001b[38;5;241m=\u001b[39mcriterion, \n\u001b[0;32m   (...)\u001b[0m\n\u001b[1;32m    134\u001b[0m     log\u001b[38;5;241m=\u001b[39mcfg[\u001b[38;5;124m'\u001b[39m\u001b[38;5;124mlog\u001b[39m\u001b[38;5;124m'\u001b[39m]\n\u001b[1;32m    135\u001b[0m )\n\u001b[0;32m--> 137\u001b[0m \u001b[43munet_trainer\u001b[49m\u001b[38;5;241;43m.\u001b[39;49m\u001b[43mfit\u001b[49m\u001b[43m(\u001b[49m\u001b[43m)\u001b[49m\n\u001b[1;32m    138\u001b[0m metrics \u001b[38;5;241m=\u001b[39m unet_trainer\u001b[38;5;241m.\u001b[39meval_all(cfg\u001b[38;5;241m=\u001b[39mcfg)\n",
      "File \u001b[0;32m~/repos/Segmentation-Distortion/src/demos/danger/../../trainer/unet_trainer.py:351\u001b[0m, in \u001b[0;36mUNetTrainerCalgary.fit\u001b[0;34m(self)\u001b[0m\n\u001b[1;32m    349\u001b[0m         progress_bar \u001b[38;5;241m=\u001b[39m tqdm(\u001b[38;5;28mrange\u001b[39m(\u001b[38;5;28mself\u001b[39m\u001b[38;5;241m.\u001b[39mn_epochs), total\u001b[38;5;241m=\u001b[39m\u001b[38;5;28mself\u001b[39m\u001b[38;5;241m.\u001b[39mn_epochs, position\u001b[38;5;241m=\u001b[39m\u001b[38;5;241m0\u001b[39m, leave\u001b[38;5;241m=\u001b[39m\u001b[38;5;28;01mTrue\u001b[39;00m)\n\u001b[1;32m    350\u001b[0m         \u001b[38;5;28mself\u001b[39m\u001b[38;5;241m.\u001b[39mmodel\u001b[38;5;241m.\u001b[39meval()\n\u001b[0;32m--> 351\u001b[0m         valid_loss \u001b[38;5;241m=\u001b[39m \u001b[38;5;28;43mself\u001b[39;49m\u001b[38;5;241;43m.\u001b[39;49m\u001b[43meval_epoch\u001b[49m\u001b[43m(\u001b[49m\u001b[43m)\u001b[49m\n\u001b[1;32m    352\u001b[0m         \u001b[38;5;28mself\u001b[39m\u001b[38;5;241m.\u001b[39mtraining_time \u001b[38;5;241m=\u001b[39m time\u001b[38;5;241m.\u001b[39mtime()\n\u001b[1;32m    353\u001b[0m \u001b[38;5;66;03m#         if self.warm_up:\u001b[39;00m\n\u001b[1;32m    354\u001b[0m \u001b[38;5;66;03m#             augment = self.train_loader.dataset.augment\u001b[39;00m\n",
      "File \u001b[0;32m~/anaconda3/envs/default/lib/python3.8/site-packages/torch/autograd/grad_mode.py:27\u001b[0m, in \u001b[0;36m_DecoratorContextManager.__call__.<locals>.decorate_context\u001b[0;34m(*args, **kwargs)\u001b[0m\n\u001b[1;32m     24\u001b[0m \u001b[38;5;129m@functools\u001b[39m\u001b[38;5;241m.\u001b[39mwraps(func)\n\u001b[1;32m     25\u001b[0m \u001b[38;5;28;01mdef\u001b[39;00m \u001b[38;5;21mdecorate_context\u001b[39m(\u001b[38;5;241m*\u001b[39margs, \u001b[38;5;241m*\u001b[39m\u001b[38;5;241m*\u001b[39mkwargs):\n\u001b[1;32m     26\u001b[0m     \u001b[38;5;28;01mwith\u001b[39;00m \u001b[38;5;28mself\u001b[39m\u001b[38;5;241m.\u001b[39mclone():\n\u001b[0;32m---> 27\u001b[0m         \u001b[38;5;28;01mreturn\u001b[39;00m \u001b[43mfunc\u001b[49m\u001b[43m(\u001b[49m\u001b[38;5;241;43m*\u001b[39;49m\u001b[43margs\u001b[49m\u001b[43m,\u001b[49m\u001b[43m \u001b[49m\u001b[38;5;241;43m*\u001b[39;49m\u001b[38;5;241;43m*\u001b[39;49m\u001b[43mkwargs\u001b[49m\u001b[43m)\u001b[49m\n",
      "File \u001b[0;32m~/repos/Segmentation-Distortion/src/demos/danger/../../trainer/unet_trainer.py:187\u001b[0m, in \u001b[0;36mUNetTrainerCalgary.eval_epoch\u001b[0;34m(self)\u001b[0m\n\u001b[1;32m    185\u001b[0m     \u001b[38;5;28;01mif\u001b[39;00m \u001b[38;5;28mself\u001b[39m\u001b[38;5;241m.\u001b[39meval_metrics \u001b[38;5;129;01mis\u001b[39;00m \u001b[38;5;129;01mnot\u001b[39;00m \u001b[38;5;28;01mNone\u001b[39;00m:\n\u001b[1;32m    186\u001b[0m         \u001b[38;5;28;01mfor\u001b[39;00m key, metric \u001b[38;5;129;01min\u001b[39;00m \u001b[38;5;28mself\u001b[39m\u001b[38;5;241m.\u001b[39meval_metrics\u001b[38;5;241m.\u001b[39mitems():\n\u001b[0;32m--> 187\u001b[0m             epoch_metrics[key]\u001b[38;5;241m.\u001b[39mappend(\u001b[43mmetric\u001b[49m\u001b[43m(\u001b[49m\u001b[43mnet_out\u001b[49m\u001b[43m,\u001b[49m\u001b[43mtarget\u001b[49m\u001b[43m)\u001b[49m\u001b[38;5;241m.\u001b[39mdetach()\u001b[38;5;241m.\u001b[39mmean()\u001b[38;5;241m.\u001b[39mcpu())\n\u001b[1;32m    188\u001b[0m average_loss \u001b[38;5;241m=\u001b[39m epoch_average(loss_list, batch_sizes_chunks)\n\u001b[1;32m    189\u001b[0m \u001b[38;5;28mself\u001b[39m\u001b[38;5;241m.\u001b[39mhistory[\u001b[38;5;124m'\u001b[39m\u001b[38;5;124mvalid loss\u001b[39m\u001b[38;5;124m'\u001b[39m]\u001b[38;5;241m.\u001b[39mappend(average_loss)\n",
      "File \u001b[0;32m~/anaconda3/envs/default/lib/python3.8/site-packages/torch/nn/modules/module.py:1130\u001b[0m, in \u001b[0;36mModule._call_impl\u001b[0;34m(self, *input, **kwargs)\u001b[0m\n\u001b[1;32m   1126\u001b[0m \u001b[38;5;66;03m# If we don't have any hooks, we want to skip the rest of the logic in\u001b[39;00m\n\u001b[1;32m   1127\u001b[0m \u001b[38;5;66;03m# this function, and just call forward.\u001b[39;00m\n\u001b[1;32m   1128\u001b[0m \u001b[38;5;28;01mif\u001b[39;00m \u001b[38;5;129;01mnot\u001b[39;00m (\u001b[38;5;28mself\u001b[39m\u001b[38;5;241m.\u001b[39m_backward_hooks \u001b[38;5;129;01mor\u001b[39;00m \u001b[38;5;28mself\u001b[39m\u001b[38;5;241m.\u001b[39m_forward_hooks \u001b[38;5;129;01mor\u001b[39;00m \u001b[38;5;28mself\u001b[39m\u001b[38;5;241m.\u001b[39m_forward_pre_hooks \u001b[38;5;129;01mor\u001b[39;00m _global_backward_hooks\n\u001b[1;32m   1129\u001b[0m         \u001b[38;5;129;01mor\u001b[39;00m _global_forward_hooks \u001b[38;5;129;01mor\u001b[39;00m _global_forward_pre_hooks):\n\u001b[0;32m-> 1130\u001b[0m     \u001b[38;5;28;01mreturn\u001b[39;00m \u001b[43mforward_call\u001b[49m\u001b[43m(\u001b[49m\u001b[38;5;241;43m*\u001b[39;49m\u001b[38;5;28;43minput\u001b[39;49m\u001b[43m,\u001b[49m\u001b[43m \u001b[49m\u001b[38;5;241;43m*\u001b[39;49m\u001b[38;5;241;43m*\u001b[39;49m\u001b[43mkwargs\u001b[49m\u001b[43m)\u001b[49m\n\u001b[1;32m   1131\u001b[0m \u001b[38;5;66;03m# Do not call functions when jit is used\u001b[39;00m\n\u001b[1;32m   1132\u001b[0m full_backward_hooks, non_full_backward_hooks \u001b[38;5;241m=\u001b[39m [], []\n",
      "File \u001b[0;32m~/repos/Segmentation-Distortion/src/demos/danger/../../losses.py:65\u001b[0m, in \u001b[0;36mSurfaceDiceCalgary.forward\u001b[0;34m(self, net_out, target)\u001b[0m\n\u001b[1;32m     63\u001b[0m preds \u001b[38;5;241m=\u001b[39m preds\u001b[38;5;241m.\u001b[39msqueeze()\u001b[38;5;241m.\u001b[39mnumpy()\u001b[38;5;241m.\u001b[39mastype(\u001b[38;5;28mbool\u001b[39m)\n\u001b[1;32m     64\u001b[0m target \u001b[38;5;241m=\u001b[39m target\u001b[38;5;241m.\u001b[39msqueeze()\u001b[38;5;241m.\u001b[39mnumpy()\u001b[38;5;241m.\u001b[39mastype(\u001b[38;5;28mbool\u001b[39m)\n\u001b[0;32m---> 65\u001b[0m surface_distance \u001b[38;5;241m=\u001b[39m \u001b[43mcompute_surface_distances\u001b[49m\u001b[43m(\u001b[49m\u001b[43mtarget\u001b[49m\u001b[43m,\u001b[49m\u001b[43m \u001b[49m\u001b[43mpreds\u001b[49m\u001b[43m,\u001b[49m\u001b[43m \u001b[49m\u001b[38;5;28;43mself\u001b[39;49m\u001b[38;5;241;43m.\u001b[39;49m\u001b[43mvoxel_spacing\u001b[49m\u001b[43m)\u001b[49m\n\u001b[1;32m     66\u001b[0m surface_dice     \u001b[38;5;241m=\u001b[39m compute_surface_dice_at_tolerance(surface_distance, \u001b[38;5;28mself\u001b[39m\u001b[38;5;241m.\u001b[39mtolerance)\n\u001b[1;32m     67\u001b[0m \u001b[38;5;28;01mreturn\u001b[39;00m torch\u001b[38;5;241m.\u001b[39mtensor(surface_dice)\n",
      "File \u001b[0;32m~/anaconda3/envs/default/lib/python3.8/site-packages/surface_distance/metrics.py:254\u001b[0m, in \u001b[0;36mcompute_surface_distances\u001b[0;34m(mask_gt, mask_pred, spacing_mm)\u001b[0m\n\u001b[1;32m    251\u001b[0m \u001b[38;5;66;03m# compute the distance transform (closest distance of each voxel to the\u001b[39;00m\n\u001b[1;32m    252\u001b[0m \u001b[38;5;66;03m# surface voxels)\u001b[39;00m\n\u001b[1;32m    253\u001b[0m \u001b[38;5;28;01mif\u001b[39;00m borders_gt\u001b[38;5;241m.\u001b[39many():\n\u001b[0;32m--> 254\u001b[0m   distmap_gt \u001b[38;5;241m=\u001b[39m \u001b[43mndimage\u001b[49m\u001b[38;5;241;43m.\u001b[39;49m\u001b[43mmorphology\u001b[49m\u001b[38;5;241;43m.\u001b[39;49m\u001b[43mdistance_transform_edt\u001b[49m\u001b[43m(\u001b[49m\n\u001b[1;32m    255\u001b[0m \u001b[43m      \u001b[49m\u001b[38;5;241;43m~\u001b[39;49m\u001b[43mborders_gt\u001b[49m\u001b[43m,\u001b[49m\u001b[43m \u001b[49m\u001b[43msampling\u001b[49m\u001b[38;5;241;43m=\u001b[39;49m\u001b[43mspacing_mm\u001b[49m\u001b[43m)\u001b[49m\n\u001b[1;32m    256\u001b[0m \u001b[38;5;28;01melse\u001b[39;00m:\n\u001b[1;32m    257\u001b[0m   distmap_gt \u001b[38;5;241m=\u001b[39m np\u001b[38;5;241m.\u001b[39mInf \u001b[38;5;241m*\u001b[39m np\u001b[38;5;241m.\u001b[39mones(borders_gt\u001b[38;5;241m.\u001b[39mshape)\n",
      "File \u001b[0;32m~/anaconda3/envs/default/lib/python3.8/site-packages/scipy/ndimage/morphology.py:2278\u001b[0m, in \u001b[0;36mdistance_transform_edt\u001b[0;34m(input, sampling, return_distances, return_indices, distances, indices)\u001b[0m\n\u001b[1;32m   2275\u001b[0m \u001b[38;5;28;01melse\u001b[39;00m:\n\u001b[1;32m   2276\u001b[0m     ft \u001b[38;5;241m=\u001b[39m numpy\u001b[38;5;241m.\u001b[39mzeros((\u001b[38;5;28minput\u001b[39m\u001b[38;5;241m.\u001b[39mndim,) \u001b[38;5;241m+\u001b[39m \u001b[38;5;28minput\u001b[39m\u001b[38;5;241m.\u001b[39mshape, dtype\u001b[38;5;241m=\u001b[39mnumpy\u001b[38;5;241m.\u001b[39mint32)\n\u001b[0;32m-> 2278\u001b[0m \u001b[43m_nd_image\u001b[49m\u001b[38;5;241;43m.\u001b[39;49m\u001b[43meuclidean_feature_transform\u001b[49m\u001b[43m(\u001b[49m\u001b[38;5;28;43minput\u001b[39;49m\u001b[43m,\u001b[49m\u001b[43m \u001b[49m\u001b[43msampling\u001b[49m\u001b[43m,\u001b[49m\u001b[43m \u001b[49m\u001b[43mft\u001b[49m\u001b[43m)\u001b[49m\n\u001b[1;32m   2279\u001b[0m \u001b[38;5;66;03m# if requested, calculate the distance transform\u001b[39;00m\n\u001b[1;32m   2280\u001b[0m \u001b[38;5;28;01mif\u001b[39;00m return_distances:\n",
      "\u001b[0;31mKeyboardInterrupt\u001b[0m: "
     ]
    }
   ],
   "source": [
    "import os\n",
    "import collections\n",
    "import numpy as np\n",
    "from torch import nn\n",
    "from torch.utils.data import DataLoader\n",
    "import sys\n",
    "import wandb\n",
    "from batchgenerators.dataloading.multi_threaded_augmenter import MultiThreadedAugmenter\n",
    "from batchgenerators.transforms.abstract_transforms import Compose\n",
    "\n",
    "sys.path.append('../../')\n",
    "from utils import volume_collate\n",
    "from dataset import CalgaryCampinasDataset\n",
    "from data_utils import (\n",
    "    Transforms,\n",
    "    MultiImageSingleViewDataLoader\n",
    ")\n",
    "from model.unet import UNet2D\n",
    "from losses import (\n",
    "    DiceScoreCalgary, \n",
    "    SurfaceDiceCalgary\n",
    ")\n",
    "from trainer.unet_trainer import UNetTrainerCalgary\n",
    "\n",
    "\n",
    "\n",
    "\n",
    "it = 0\n",
    "\n",
    "cfg = {\n",
    "    'debug': True,\n",
    "    'log': False,\n",
    "    'description': f'calgary_unet{it}_augmentednnUNet_test',\n",
    "    'project': 'MICCAI2023-loose_ends',\n",
    "\n",
    "    # Data params\n",
    "    'root': '../../../',\n",
    "    'data_path': 'data/conp-dataset/projects/calgary-campinas/CC359/Reconstructed/',\n",
    "    'train_site': 6,\n",
    "    'augment': True,\n",
    "    'validation': True,\n",
    "    'channel_out': 8,\n",
    "\n",
    "    # Training params\n",
    "    'batch_size': 32,\n",
    "    'num_batches_per_epoch': 250,\n",
    "    'lr': 1e-3,\n",
    "    'epochs': 250,\n",
    "    'patience': 4\n",
    "}\n",
    "\n",
    "\n",
    "if cfg['log']:\n",
    "    run = wandb.init(reinit=True, \n",
    "                     name=cfg['description'],\n",
    "                     project=cfg['project'], \n",
    "                     config=cfg)\n",
    "    cfg = wandb.config\n",
    "\n",
    "description = cfg['description']\n",
    "print(f\"Decsription: {description}\")\n",
    "\n",
    "data_path = cfg['root'] + cfg['data_path']\n",
    "transforms = Transforms()\n",
    "\n",
    "train_set = CalgaryCampinasDataset(\n",
    "    data_path=data_path, \n",
    "    site=cfg['train_site'], \n",
    "    augment=False, \n",
    "    normalize=True, \n",
    "    split='train', \n",
    "    debug=cfg['debug']\n",
    ")\n",
    "\n",
    "train_loader = MultiImageSingleViewDataLoader(\n",
    "    data=train_set, \n",
    "    batch_size=cfg['batch_size'], \n",
    "    return_orig=False\n",
    ")\n",
    "\n",
    "train_augmentor = transforms.get_transforms('global_transforms')\n",
    "\n",
    "train_gen = MultiThreadedAugmenter(\n",
    "    data_loader = train_loader, \n",
    "    transform = train_augmentor, \n",
    "    num_processes = 4, \n",
    "    num_cached_per_queue = 2, \n",
    "    seeds=None\n",
    ")\n",
    "\n",
    "valid_set = CalgaryCampinasDataset(\n",
    "    data_path=data_path, \n",
    "    site=cfg['train_site'], \n",
    "    normalize=True, \n",
    "    volume_wise=True,\n",
    "    split='validation'\n",
    ")\n",
    "\n",
    "valid_loader = DataLoader(\n",
    "    valid_set, \n",
    "    batch_size=1,\n",
    "    shuffle=False, \n",
    "    drop_last=False, \n",
    "    collate_fn=volume_collate\n",
    ")\n",
    "\n",
    "\n",
    "# UNET\n",
    "seg_model   = UNet2D(\n",
    "    n_chans_in=1, \n",
    "    n_chans_out=1, \n",
    "    n_filters_init=cfg['channel_out']\n",
    ")\n",
    "\n",
    "criterion   = nn.BCEWithLogitsLoss()\n",
    "eval_metrics = {\n",
    "    \"Volumetric Dice\": DiceScoreCalgary(),\n",
    "    \"Surface Dice\": SurfaceDiceCalgary()\n",
    "}\n",
    "\n",
    "root = cfg['root']\n",
    "unet_trainer = UNetTrainerCalgary(\n",
    "    model=seg_model, \n",
    "    criterion=criterion, \n",
    "    train_generator=train_gen, \n",
    "    valid_loader=valid_loader, \n",
    "    root=root, \n",
    "    eval_metrics=eval_metrics, \n",
    "    lr=cfg['lr'],\n",
    "    num_batches_per_epoch=cfg['num_batches_per_epoch'],\n",
    "    n_epochs=cfg['epochs'],\n",
    "    description=description,\n",
    "    patience=cfg['patience'],\n",
    "    log=cfg['log']\n",
    ")\n",
    "\n",
    "unet_trainer.fit()\n",
    "metrics = unet_trainer.eval_all(cfg=cfg)\n",
    "#np.save(f'{root}results-tmp/results/unet/metrics_{description}', metrics)"
   ]
  },
  {
   "cell_type": "code",
   "execution_count": 1,
   "id": "f34756b0",
   "metadata": {},
   "outputs": [
    {
     "name": "stdout",
     "output_type": "stream",
     "text": [
      "\n",
      "\n",
      "Please cite the following paper when using nnUNet:\n",
      "\n",
      "Isensee, F., Jaeger, P.F., Kohl, S.A.A. et al. \"nnU-Net: a self-configuring method for deep learning-based biomedical image segmentation.\" Nat Methods (2020). https://doi.org/10.1038/s41592-020-01008-z\n",
      "\n",
      "\n",
      "If you have questions or suggestions, feel free to open an issue at https://github.com/MIC-DKFZ/nnUNet\n",
      "\n",
      "loading dataset\n",
      "loading all case properties\n",
      "loading dataset\n",
      "loading all case properties\n"
     ]
    },
    {
     "name": "stderr",
     "output_type": "stream",
     "text": [
      "Failed to detect the name of this notebook, you can set it manually with the WANDB_NOTEBOOK_NAME environment variable to enable code saving.\n",
      "\u001b[34m\u001b[1mwandb\u001b[0m: Currently logged in as: \u001b[33mjlennartz\u001b[0m. Use \u001b[1m`wandb login --relogin`\u001b[0m to force relogin\n"
     ]
    },
    {
     "data": {
      "text/html": [
       "wandb version 0.16.0 is available!  To upgrade, please run:\n",
       " $ pip install wandb --upgrade"
      ],
      "text/plain": [
       "<IPython.core.display.HTML object>"
      ]
     },
     "metadata": {},
     "output_type": "display_data"
    },
    {
     "data": {
      "text/html": [
       "Tracking run with wandb version 0.12.21"
      ],
      "text/plain": [
       "<IPython.core.display.HTML object>"
      ]
     },
     "metadata": {},
     "output_type": "display_data"
    },
    {
     "data": {
      "text/html": [
       "Run data is saved locally in <code>/home/lennartz/repos/Segmentation-Distortion/src/demos/danger/wandb/run-20231204_191813-18z0y96c</code>"
      ],
      "text/plain": [
       "<IPython.core.display.HTML object>"
      ]
     },
     "metadata": {},
     "output_type": "display_data"
    },
    {
     "data": {
      "text/html": [
       "Syncing run <strong><a href=\"https://wandb.ai/jlennartz/MICCAI2023/runs/18z0y96c\" target=\"_blank\">acdc_unet8_0</a></strong> to <a href=\"https://wandb.ai/jlennartz/MICCAI2023\" target=\"_blank\">Weights & Biases</a> (<a href=\"https://wandb.me/run\" target=\"_blank\">docs</a>)<br/>"
      ],
      "text/plain": [
       "<IPython.core.display.HTML object>"
      ]
     },
     "metadata": {},
     "output_type": "display_data"
    },
    {
     "data": {
      "application/vnd.jupyter.widget-view+json": {
       "model_id": "4ef340932d2342d9ac80a326f6eb7380",
       "version_major": 2,
       "version_minor": 0
      },
      "text/plain": [
       "  0%|          | 0/250 [00:00<?, ?it/s]"
      ]
     },
     "metadata": {},
     "output_type": "display_data"
    },
    {
     "name": "stderr",
     "output_type": "stream",
     "text": [
      "ERROR:root:MultiThreadedGenerator: caught exception: (<class 'KeyboardInterrupt'>, KeyboardInterrupt(), <traceback object at 0x7fed4df948c0>)\n"
     ]
    },
    {
     "ename": "KeyboardInterrupt",
     "evalue": "",
     "output_type": "error",
     "traceback": [
      "\u001b[0;31m---------------------------------------------------------------------------\u001b[0m",
      "\u001b[0;31mKeyboardInterrupt\u001b[0m                         Traceback (most recent call last)",
      "File \u001b[0;32m~/anaconda3/envs/default/lib/python3.8/site-packages/batchgenerators/dataloading/multi_threaded_augmenter.py:204\u001b[0m, in \u001b[0;36mMultiThreadedAugmenter.__next__\u001b[0;34m(self)\u001b[0m\n\u001b[1;32m    203\u001b[0m \u001b[38;5;28;01mtry\u001b[39;00m:\n\u001b[0;32m--> 204\u001b[0m     item \u001b[38;5;241m=\u001b[39m \u001b[38;5;28;43mself\u001b[39;49m\u001b[38;5;241;43m.\u001b[39;49m\u001b[43m__get_next_item\u001b[49m\u001b[43m(\u001b[49m\u001b[43m)\u001b[49m\n\u001b[1;32m    206\u001b[0m     \u001b[38;5;28;01mwhile\u001b[39;00m \u001b[38;5;28misinstance\u001b[39m(item, \u001b[38;5;28mstr\u001b[39m) \u001b[38;5;129;01mand\u001b[39;00m (item \u001b[38;5;241m==\u001b[39m \u001b[38;5;124m\"\u001b[39m\u001b[38;5;124mend\u001b[39m\u001b[38;5;124m\"\u001b[39m):\n",
      "File \u001b[0;32m~/anaconda3/envs/default/lib/python3.8/site-packages/batchgenerators/dataloading/multi_threaded_augmenter.py:195\u001b[0m, in \u001b[0;36mMultiThreadedAugmenter.__get_next_item\u001b[0;34m(self)\u001b[0m\n\u001b[1;32m    194\u001b[0m     \u001b[38;5;28;01melse\u001b[39;00m:\n\u001b[0;32m--> 195\u001b[0m         \u001b[43msleep\u001b[49m\u001b[43m(\u001b[49m\u001b[38;5;28;43mself\u001b[39;49m\u001b[38;5;241;43m.\u001b[39;49m\u001b[43mwait_time\u001b[49m\u001b[43m)\u001b[49m\n\u001b[1;32m    197\u001b[0m \u001b[38;5;28;01mreturn\u001b[39;00m item\n",
      "\u001b[0;31mKeyboardInterrupt\u001b[0m: ",
      "\nDuring handling of the above exception, another exception occurred:\n",
      "\u001b[0;31mKeyboardInterrupt\u001b[0m                         Traceback (most recent call last)",
      "Input \u001b[0;32mIn [1]\u001b[0m, in \u001b[0;36m<cell line: 127>\u001b[0;34m()\u001b[0m\n\u001b[1;32m    112\u001b[0m root \u001b[38;5;241m=\u001b[39m cfg[\u001b[38;5;124m'\u001b[39m\u001b[38;5;124mroot\u001b[39m\u001b[38;5;124m'\u001b[39m]\n\u001b[1;32m    113\u001b[0m unet_trainer \u001b[38;5;241m=\u001b[39m UNetTrainerACDC(model\u001b[38;5;241m=\u001b[39mseg_model,\n\u001b[1;32m    114\u001b[0m                                criterion\u001b[38;5;241m=\u001b[39mcriterion,\n\u001b[1;32m    115\u001b[0m                                train_loader\u001b[38;5;241m=\u001b[39mtrain_gen,\n\u001b[0;32m   (...)\u001b[0m\n\u001b[1;32m    124\u001b[0m                                patience\u001b[38;5;241m=\u001b[39mcfg[\u001b[38;5;124m'\u001b[39m\u001b[38;5;124mpatience\u001b[39m\u001b[38;5;124m'\u001b[39m],\n\u001b[1;32m    125\u001b[0m                                log\u001b[38;5;241m=\u001b[39mcfg[\u001b[38;5;124m'\u001b[39m\u001b[38;5;124mlog\u001b[39m\u001b[38;5;124m'\u001b[39m])\n\u001b[0;32m--> 127\u001b[0m \u001b[43munet_trainer\u001b[49m\u001b[38;5;241;43m.\u001b[39;49m\u001b[43mfit\u001b[49m\u001b[43m(\u001b[49m\u001b[43m)\u001b[49m\n",
      "File \u001b[0;32m~/repos/Segmentation-Distortion/src/demos/danger/../../trainer/unet_trainer.py:689\u001b[0m, in \u001b[0;36mUNetTrainerACDC.fit\u001b[0;34m(self)\u001b[0m\n\u001b[1;32m    687\u001b[0m         progress_bar \u001b[38;5;241m=\u001b[39m tqdm(\u001b[38;5;28mrange\u001b[39m(\u001b[38;5;28mself\u001b[39m\u001b[38;5;241m.\u001b[39mn_epochs), total\u001b[38;5;241m=\u001b[39m\u001b[38;5;28mself\u001b[39m\u001b[38;5;241m.\u001b[39mn_epochs, position\u001b[38;5;241m=\u001b[39m\u001b[38;5;241m0\u001b[39m, leave\u001b[38;5;241m=\u001b[39m\u001b[38;5;28;01mTrue\u001b[39;00m)\n\u001b[1;32m    688\u001b[0m         \u001b[38;5;28mself\u001b[39m\u001b[38;5;241m.\u001b[39mmodel\u001b[38;5;241m.\u001b[39meval()\n\u001b[0;32m--> 689\u001b[0m         valid_loss \u001b[38;5;241m=\u001b[39m \u001b[38;5;28;43mself\u001b[39;49m\u001b[38;5;241;43m.\u001b[39;49m\u001b[43meval_epoch\u001b[49m\u001b[43m(\u001b[49m\u001b[43m)\u001b[49m\n\u001b[1;32m    690\u001b[0m         \u001b[38;5;28mself\u001b[39m\u001b[38;5;241m.\u001b[39mtraining_time \u001b[38;5;241m=\u001b[39m time\u001b[38;5;241m.\u001b[39mtime()\n\u001b[1;32m    691\u001b[0m \u001b[38;5;66;03m#         if self.warm_up:\u001b[39;00m\n\u001b[1;32m    692\u001b[0m \u001b[38;5;66;03m#             augment = self.train_loader.dataset.augment\u001b[39;00m\n",
      "File \u001b[0;32m~/anaconda3/envs/default/lib/python3.8/site-packages/torch/autograd/grad_mode.py:27\u001b[0m, in \u001b[0;36m_DecoratorContextManager.__call__.<locals>.decorate_context\u001b[0;34m(*args, **kwargs)\u001b[0m\n\u001b[1;32m     24\u001b[0m \u001b[38;5;129m@functools\u001b[39m\u001b[38;5;241m.\u001b[39mwraps(func)\n\u001b[1;32m     25\u001b[0m \u001b[38;5;28;01mdef\u001b[39;00m \u001b[38;5;21mdecorate_context\u001b[39m(\u001b[38;5;241m*\u001b[39margs, \u001b[38;5;241m*\u001b[39m\u001b[38;5;241m*\u001b[39mkwargs):\n\u001b[1;32m     26\u001b[0m     \u001b[38;5;28;01mwith\u001b[39;00m \u001b[38;5;28mself\u001b[39m\u001b[38;5;241m.\u001b[39mclone():\n\u001b[0;32m---> 27\u001b[0m         \u001b[38;5;28;01mreturn\u001b[39;00m \u001b[43mfunc\u001b[49m\u001b[43m(\u001b[49m\u001b[38;5;241;43m*\u001b[39;49m\u001b[43margs\u001b[49m\u001b[43m,\u001b[49m\u001b[43m \u001b[49m\u001b[38;5;241;43m*\u001b[39;49m\u001b[38;5;241;43m*\u001b[39;49m\u001b[43mkwargs\u001b[49m\u001b[43m)\u001b[49m\n",
      "File \u001b[0;32m~/repos/Segmentation-Distortion/src/demos/danger/../../trainer/unet_trainer.py:544\u001b[0m, in \u001b[0;36mUNetTrainerACDC.eval_epoch\u001b[0;34m(self)\u001b[0m\n\u001b[1;32m    542\u001b[0m     epoch_metrics \u001b[38;5;241m=\u001b[39m {key: [] \u001b[38;5;28;01mfor\u001b[39;00m key \u001b[38;5;129;01min\u001b[39;00m \u001b[38;5;28mself\u001b[39m\u001b[38;5;241m.\u001b[39meval_metrics\u001b[38;5;241m.\u001b[39mkeys()}\n\u001b[1;32m    543\u001b[0m \u001b[38;5;28;01mfor\u001b[39;00m it \u001b[38;5;129;01min\u001b[39;00m \u001b[38;5;28mrange\u001b[39m(\u001b[38;5;28mself\u001b[39m\u001b[38;5;241m.\u001b[39mnum_val_batches_per_epoch):\n\u001b[0;32m--> 544\u001b[0m     batch \u001b[38;5;241m=\u001b[39m \u001b[38;5;28;43mnext\u001b[39;49m\u001b[43m(\u001b[49m\u001b[38;5;28;43mself\u001b[39;49m\u001b[38;5;241;43m.\u001b[39;49m\u001b[43mvalid_loader\u001b[49m\u001b[43m)\u001b[49m\n\u001b[1;32m    545\u001b[0m     input_ \u001b[38;5;241m=\u001b[39m batch[\u001b[38;5;124m'\u001b[39m\u001b[38;5;124mdata\u001b[39m\u001b[38;5;124m'\u001b[39m]\n\u001b[1;32m    546\u001b[0m     target \u001b[38;5;241m=\u001b[39m batch[\u001b[38;5;124m'\u001b[39m\u001b[38;5;124mtarget\u001b[39m\u001b[38;5;124m'\u001b[39m][\u001b[38;5;241m0\u001b[39m]\u001b[38;5;241m.\u001b[39mlong()\u001b[38;5;241m.\u001b[39mcuda()\n",
      "File \u001b[0;32m~/anaconda3/envs/default/lib/python3.8/site-packages/batchgenerators/dataloading/multi_threaded_augmenter.py:222\u001b[0m, in \u001b[0;36mMultiThreadedAugmenter.__next__\u001b[0;34m(self)\u001b[0m\n\u001b[1;32m    220\u001b[0m \u001b[38;5;28mself\u001b[39m\u001b[38;5;241m.\u001b[39mabort_event\u001b[38;5;241m.\u001b[39mset()\n\u001b[1;32m    221\u001b[0m \u001b[38;5;28mself\u001b[39m\u001b[38;5;241m.\u001b[39m_finish()\n\u001b[0;32m--> 222\u001b[0m \u001b[38;5;28;01mraise\u001b[39;00m \u001b[38;5;167;01mKeyboardInterrupt\u001b[39;00m\n",
      "\u001b[0;31mKeyboardInterrupt\u001b[0m: "
     ]
    }
   ],
   "source": [
    "import os, sys\n",
    "import torch\n",
    "from torch.utils.data import DataLoader \n",
    "import wandb\n",
    "import collections\n",
    "from batchgenerators.dataloading.multi_threaded_augmenter import MultiThreadedAugmenter\n",
    "\n",
    "#from nnunet.training.network_training.nnUNetTrainerV2 import nnUNetTrainerV2\n",
    "sys.path.append('../../')\n",
    "from dataset import ACDCDataset\n",
    "from data_utils import (\n",
    "    Transforms,\n",
    "    MultiImageSingleViewDataLoader\n",
    ")\n",
    "from model.unet import UNet2D\n",
    "from losses import DiceScoreMMS, CrossEntropyTargetArgmax\n",
    "from trainer.unet_trainer import UNetTrainerACDC\n",
    "\n",
    "\n",
    "        \n",
    "\n",
    "\n",
    "it = 0\n",
    "                        \n",
    "### Dataloader\n",
    "## Initialize trainer to get data loaders with data augmentations from training\n",
    "#     nnUnet_prefix = '../../../nnUNet/'\n",
    "#     pkl_file          = nnUnet_prefix + 'data/nnUNet_preprocessed/Task500_ACDC/nnUNetPlansv2.1_plans_2D.pkl'\n",
    "#     fold              = 0\n",
    "#     output_folder     = nnUnet_prefix + 'results/nnUnet/nnUNet/2d/Task027_ACDC/nnUNetTrainerV2__nnUNetPlansv2.1/'\n",
    "#     dataset_directory = nnUnet_prefix + 'data/nnUNet_preprocessed/Task500_ACDC'\n",
    "\n",
    "#     trainer = nnUNetTrainerV2(pkl_file, 0, output_folder, dataset_directory)\n",
    "#     trainer.initialize()\n",
    "\n",
    "#     train_loader = trainer.tr_gen\n",
    "#     valid_loader = trainer.val_gen\n",
    "DEBUG = False\n",
    "transforms = Transforms()\n",
    "\n",
    "train_set = ACDCDataset(\n",
    "    data=\"train\",\n",
    "    debug=DEBUG,\n",
    "    root = '../../../../'\n",
    ")\n",
    "train_loader = MultiImageSingleViewDataLoader(\n",
    "    data=train_set, \n",
    "    batch_size=32, \n",
    "    return_orig=False\n",
    ")    \n",
    "train_augmentor = transforms.get_transforms('global_transforms')\n",
    "train_gen = MultiThreadedAugmenter(\n",
    "    data_loader = train_loader, \n",
    "    transform = train_augmentor, \n",
    "    num_processes = 4, \n",
    "    num_cached_per_queue = 2, \n",
    "    seeds=None\n",
    ")\n",
    "\n",
    "val_set = ACDCDataset(\n",
    "    data=\"val\",\n",
    "    debug=DEBUG,\n",
    "    root = '../../../../'\n",
    ")\n",
    "valid_loader = MultiImageSingleViewDataLoader(\n",
    "    data=val_set, \n",
    "    batch_size=32, \n",
    "    return_orig=False\n",
    ")\n",
    "valid_augmentor = transforms.get_transforms('io_transforms')\n",
    "valid_gen = MultiThreadedAugmenter(\n",
    "    data_loader = valid_loader, \n",
    "    transform = valid_augmentor, \n",
    "    num_processes = 4, \n",
    "    num_cached_per_queue = 2, \n",
    "    seeds=None\n",
    ")\n",
    "\n",
    "cfg = {\n",
    "    'debug': False,\n",
    "    'log': True,\n",
    "    'description': f'acdc_unet8_{it}',\n",
    "    'project': 'MICCAI2023',\n",
    "\n",
    "    # Data params\n",
    "    'n': 0,\n",
    "    'root': '../../',\n",
    "    'validation': True,\n",
    "    'channel_out': 8,\n",
    "\n",
    "    # Training params\n",
    "    'batch_size': 32,\n",
    "    'lr': 1e-3,\n",
    "    'epochs': 250,\n",
    "    'patience': 8\n",
    "}\n",
    "\n",
    "\n",
    "if cfg['log']:\n",
    "    run = wandb.init(reinit=True, \n",
    "                     name=cfg['description'],\n",
    "                     project=cfg['project'], \n",
    "                     config=cfg)\n",
    "    cfg = wandb.config\n",
    "\n",
    "\n",
    "seg_model    = UNet2D(n_chans_in=1, n_chans_out=4, n_filters_init=cfg['channel_out'])\n",
    "criterion    = CrossEntropyTargetArgmax()\n",
    "eval_metrics = {\n",
    "    \"Volumetric Dice\": DiceScoreMMS()\n",
    "} \n",
    "root = cfg['root']\n",
    "unet_trainer = UNetTrainerACDC(model=seg_model,\n",
    "                               criterion=criterion,\n",
    "                               train_loader=train_gen,\n",
    "                               valid_loader=valid_gen,\n",
    "                               num_batches_per_epoch=250,\n",
    "                               num_val_batches_per_epoch=50,\n",
    "                               root=root,\n",
    "                               eval_metrics=eval_metrics,\n",
    "                               lr=cfg['lr'],\n",
    "                               n_epochs=cfg['epochs'],\n",
    "                               description=cfg[\"description\"],\n",
    "                               patience=cfg['patience'],\n",
    "                               log=cfg['log'])\n",
    "\n",
    "unet_trainer.fit()"
   ]
  },
  {
   "cell_type": "code",
   "execution_count": null,
   "id": "1f7df463",
   "metadata": {},
   "outputs": [],
   "source": []
  }
 ],
 "metadata": {
  "kernelspec": {
   "display_name": "Python 3 (ipykernel)",
   "language": "python",
   "name": "python3"
  },
  "language_info": {
   "codemirror_mode": {
    "name": "ipython",
    "version": 3
   },
   "file_extension": ".py",
   "mimetype": "text/x-python",
   "name": "python",
   "nbconvert_exporter": "python",
   "pygments_lexer": "ipython3",
   "version": "3.8.13"
  }
 },
 "nbformat": 4,
 "nbformat_minor": 5
}
