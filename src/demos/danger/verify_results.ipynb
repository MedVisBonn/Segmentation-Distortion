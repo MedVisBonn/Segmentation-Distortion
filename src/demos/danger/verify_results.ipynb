{
 "cells": [
  {
   "cell_type": "code",
   "execution_count": 38,
   "id": "8ef82653",
   "metadata": {},
   "outputs": [],
   "source": [
    "import numpy as np\n",
    "import matplotlib.pyplot as plt\n",
    "from torch.utils.data import default_collate\n",
    "import pandas as pd\n",
    "import seaborn as sns\n",
    "import torch"
   ]
  },
  {
   "cell_type": "code",
   "execution_count": 32,
   "id": "55a95154",
   "metadata": {},
   "outputs": [],
   "source": [
    "data = {\n",
    "    'unet': np.load('../../results-tmp/results/unet/heart_unet_results.npy', allow_pickle=True).item(),\n",
    "    'ensemble': np.load('../../results-tmp/results/unet/heart_ensemble_results.npy', allow_pickle=True).item(),\n",
    "    #'first_resDAE': np.load('../../results-tmp/heart_downstream_results_resDAE.npy', allow_pickle=True).item(),\n",
    "    'current_recon': np.load('../../results-tmp/heart_downstream_results_localAug_multiImgSingleView_recon_balanced_same.npy', allow_pickle=True).item()\n",
    "}"
   ]
  },
  {
   "cell_type": "code",
   "execution_count": 33,
   "id": "6a360233",
   "metadata": {},
   "outputs": [],
   "source": [
    "df = pd.DataFrame(columns=['acdc_train', 'acdc_val', 'mnm_siemens', 'mnm_philips', 'mnm_ge', 'mnm_canon', 'method'])\n",
    "for key in data:\n",
    "    df_tmp = pd.DataFrame.from_dict(data[key])\n",
    "    df_tmp['method'] = key\n",
    "    \n",
    "    df = pd.concat([df, df_tmp], ignore_index=True)\n",
    "    \n",
    "df = pd.melt(df, id_vars=['method'])\n",
    "df = df.rename(columns={'variable': 'scanner', 'value': 'DSC'})"
   ]
  },
  {
   "cell_type": "code",
   "execution_count": 34,
   "id": "b7c74a58",
   "metadata": {},
   "outputs": [
    {
     "data": {
      "text/plain": [
       "<AxesSubplot:xlabel='scanner', ylabel='DSC'>"
      ]
     },
     "execution_count": 34,
     "metadata": {},
     "output_type": "execute_result"
    },
    {
     "data": {
      "image/png": "[encoded data removed]",
      "text/plain": [
       "<Figure size 432x288 with 1 Axes>"
      ]
     },
     "metadata": {
      "needs_background": "light"
     },
     "output_type": "display_data"
    }
   ],
   "source": [
    "sns.boxplot(data=df, x='scanner', y='DSC', hue='method')"
   ]
  },
  {
   "cell_type": "code",
   "execution_count": 25,
   "id": "c2a7bebc",
   "metadata": {},
   "outputs": [
    {
     "data": {
      "text/html": [
       "<div>\n",
       "<style scoped>\n",
       "    .dataframe tbody tr th:only-of-type {\n",
       "        vertical-align: middle;\n",
       "    }\n",
       "\n",
       "    .dataframe tbody tr th {\n",
       "        vertical-align: top;\n",
       "    }\n",
       "\n",
       "    .dataframe thead th {\n",
       "        text-align: right;\n",
       "    }\n",
       "</style>\n",
       "<table border=\"1\" class=\"dataframe\">\n",
       "  <thead>\n",
       "    <tr style=\"text-align: right;\">\n",
       "      <th></th>\n",
       "      <th>method</th>\n",
       "      <th>scanner</th>\n",
       "      <th>DSC</th>\n",
       "    </tr>\n",
       "  </thead>\n",
       "  <tbody>\n",
       "    <tr>\n",
       "      <th>0</th>\n",
       "      <td>unet</td>\n",
       "      <td>acdc_train</td>\n",
       "      <td>0.923220</td>\n",
       "    </tr>\n",
       "    <tr>\n",
       "      <th>1</th>\n",
       "      <td>unet</td>\n",
       "      <td>acdc_train</td>\n",
       "      <td>0.923348</td>\n",
       "    </tr>\n",
       "    <tr>\n",
       "      <th>2</th>\n",
       "      <td>unet</td>\n",
       "      <td>acdc_train</td>\n",
       "      <td>0.911828</td>\n",
       "    </tr>\n",
       "    <tr>\n",
       "      <th>3</th>\n",
       "      <td>unet</td>\n",
       "      <td>acdc_train</td>\n",
       "      <td>0.911891</td>\n",
       "    </tr>\n",
       "    <tr>\n",
       "      <th>4</th>\n",
       "      <td>unet</td>\n",
       "      <td>acdc_train</td>\n",
       "      <td>0.928072</td>\n",
       "    </tr>\n",
       "  </tbody>\n",
       "</table>\n",
       "</div>"
      ],
      "text/plain": [
       "  method     scanner       DSC\n",
       "0   unet  acdc_train  0.923220\n",
       "1   unet  acdc_train  0.923348\n",
       "2   unet  acdc_train  0.911828\n",
       "3   unet  acdc_train  0.911891\n",
       "4   unet  acdc_train  0.928072"
      ]
     },
     "execution_count": 25,
     "metadata": {},
     "output_type": "execute_result"
    }
   ],
   "source": [
    "df.head()"
   ]
  },
  {
   "cell_type": "code",
   "execution_count": 23,
   "id": "3d8fe310",
   "metadata": {},
   "outputs": [
    {
     "data": {
      "text/html": [
       "<div>\n",
       "<style scoped>\n",
       "    .dataframe tbody tr th:only-of-type {\n",
       "        vertical-align: middle;\n",
       "    }\n",
       "\n",
       "    .dataframe tbody tr th {\n",
       "        vertical-align: top;\n",
       "    }\n",
       "\n",
       "    .dataframe thead th {\n",
       "        text-align: right;\n",
       "    }\n",
       "</style>\n",
       "<table border=\"1\" class=\"dataframe\">\n",
       "  <thead>\n",
       "    <tr style=\"text-align: right;\">\n",
       "      <th></th>\n",
       "      <th>method</th>\n",
       "      <th>variable</th>\n",
       "      <th>value</th>\n",
       "    </tr>\n",
       "  </thead>\n",
       "  <tbody>\n",
       "    <tr>\n",
       "      <th>0</th>\n",
       "      <td>unet</td>\n",
       "      <td>acdc_train</td>\n",
       "      <td>0.923220</td>\n",
       "    </tr>\n",
       "    <tr>\n",
       "      <th>1</th>\n",
       "      <td>unet</td>\n",
       "      <td>acdc_train</td>\n",
       "      <td>0.923348</td>\n",
       "    </tr>\n",
       "    <tr>\n",
       "      <th>2</th>\n",
       "      <td>unet</td>\n",
       "      <td>acdc_train</td>\n",
       "      <td>0.911828</td>\n",
       "    </tr>\n",
       "    <tr>\n",
       "      <th>3</th>\n",
       "      <td>unet</td>\n",
       "      <td>acdc_train</td>\n",
       "      <td>0.911891</td>\n",
       "    </tr>\n",
       "    <tr>\n",
       "      <th>4</th>\n",
       "      <td>unet</td>\n",
       "      <td>acdc_train</td>\n",
       "      <td>0.928072</td>\n",
       "    </tr>\n",
       "    <tr>\n",
       "      <th>...</th>\n",
       "      <td>...</td>\n",
       "      <td>...</td>\n",
       "      <td>...</td>\n",
       "    </tr>\n",
       "    <tr>\n",
       "      <th>175</th>\n",
       "      <td>first_resDAE</td>\n",
       "      <td>mnm_canon</td>\n",
       "      <td>0.831312</td>\n",
       "    </tr>\n",
       "    <tr>\n",
       "      <th>176</th>\n",
       "      <td>first_resDAE</td>\n",
       "      <td>mnm_canon</td>\n",
       "      <td>0.828041</td>\n",
       "    </tr>\n",
       "    <tr>\n",
       "      <th>177</th>\n",
       "      <td>first_resDAE</td>\n",
       "      <td>mnm_canon</td>\n",
       "      <td>0.828038</td>\n",
       "    </tr>\n",
       "    <tr>\n",
       "      <th>178</th>\n",
       "      <td>first_resDAE</td>\n",
       "      <td>mnm_canon</td>\n",
       "      <td>0.789320</td>\n",
       "    </tr>\n",
       "    <tr>\n",
       "      <th>179</th>\n",
       "      <td>first_resDAE</td>\n",
       "      <td>mnm_canon</td>\n",
       "      <td>0.834489</td>\n",
       "    </tr>\n",
       "  </tbody>\n",
       "</table>\n",
       "<p>180 rows × 3 columns</p>\n",
       "</div>"
      ],
      "text/plain": [
       "           method    variable     value\n",
       "0            unet  acdc_train  0.923220\n",
       "1            unet  acdc_train  0.923348\n",
       "2            unet  acdc_train  0.911828\n",
       "3            unet  acdc_train  0.911891\n",
       "4            unet  acdc_train  0.928072\n",
       "..            ...         ...       ...\n",
       "175  first_resDAE   mnm_canon  0.831312\n",
       "176  first_resDAE   mnm_canon  0.828041\n",
       "177  first_resDAE   mnm_canon  0.828038\n",
       "178  first_resDAE   mnm_canon  0.789320\n",
       "179  first_resDAE   mnm_canon  0.834489\n",
       "\n",
       "[180 rows x 3 columns]"
      ]
     },
     "execution_count": 23,
     "metadata": {},
     "output_type": "execute_result"
    }
   ],
   "source": [
    "pd.melt(df, id_vars=['method']) #, value_vars=[])"
   ]
  },
  {
   "cell_type": "code",
   "execution_count": 3,
   "id": "83881b21",
   "metadata": {},
   "outputs": [
    {
     "name": "stdout",
     "output_type": "stream",
     "text": [
      "acdc_train 0.9196690758540539\n",
      "acdc_val 0.8766713584462801\n",
      "mnm_siemens 0.7721905665753751\n",
      "mnm_philips 0.826983251601435\n",
      "mnm_ge 0.8119101529320082\n",
      "mnm_canon 0.8280752354427843\n"
     ]
    }
   ],
   "source": [
    "# Unet dice scores for ACDC / M&M\n",
    "heart_unet_dice = np.load('../../results-tmp/results/unet/heart_unet_results.npy', allow_pickle=True).item()\n",
    "for key in heart_unet_dice:\n",
    "    print(key, np.array(heart_unet_dice[key]).mean())"
   ]
  },
  {
   "cell_type": "code",
   "execution_count": 4,
   "id": "479b6083",
   "metadata": {},
   "outputs": [
    {
     "name": "stdout",
     "output_type": "stream",
     "text": [
      "acdc_train 0.9273989976865972\n",
      "acdc_val 0.886894628405571\n",
      "mnm_siemens 0.8129487136782627\n",
      "mnm_philips 0.8567954603331636\n",
      "mnm_ge 0.8538719902435938\n",
      "mnm_canon 0.8698676469574215\n"
     ]
    }
   ],
   "source": [
    "# Unet dice scores for ACDC / M&M\n",
    "heart_ensemble_dice = np.load('../../results-tmp/results/unet/heart_ensemble_results.npy', allow_pickle=True).item()\n",
    "for key in heart_ensemble_dice:\n",
    "    print(key, np.array(heart_ensemble_dice[key]).mean())"
   ]
  },
  {
   "cell_type": "code",
   "execution_count": 5,
   "id": "625d5903",
   "metadata": {},
   "outputs": [
    {
     "name": "stdout",
     "output_type": "stream",
     "text": [
      "acdc_train 0.9154994132569028\n",
      "acdc_val 0.8739899406830469\n",
      "mnm_siemens 0.7620652370222715\n",
      "mnm_philips 0.8199462015370724\n",
      "mnm_ge 0.7996387978394826\n",
      "mnm_canon 0.8210951471366339\n"
     ]
    }
   ],
   "source": [
    "# Unet dice scores for ACDC / M&M\n",
    "heart_ensemble_dice = np.load('../../results-tmp/heart_downstream_results_resDAE.npy', allow_pickle=True).item()\n",
    "for key in heart_ensemble_dice:\n",
    "    print(key, np.array(heart_ensemble_dice[key]).mean())"
   ]
  },
  {
   "cell_type": "code",
   "execution_count": 11,
   "id": "3991c12e",
   "metadata": {},
   "outputs": [
    {
     "data": {
      "text/html": [
       "<div>\n",
       "<style scoped>\n",
       "    .dataframe tbody tr th:only-of-type {\n",
       "        vertical-align: middle;\n",
       "    }\n",
       "\n",
       "    .dataframe tbody tr th {\n",
       "        vertical-align: top;\n",
       "    }\n",
       "\n",
       "    .dataframe thead th {\n",
       "        text-align: right;\n",
       "    }\n",
       "</style>\n",
       "<table border=\"1\" class=\"dataframe\">\n",
       "  <thead>\n",
       "    <tr style=\"text-align: right;\">\n",
       "      <th></th>\n",
       "      <th>acdc_train</th>\n",
       "      <th>acdc_val</th>\n",
       "      <th>mnm_siemens</th>\n",
       "      <th>mnm_philips</th>\n",
       "      <th>mnm_ge</th>\n",
       "      <th>mnm_canon</th>\n",
       "      <th>method</th>\n",
       "    </tr>\n",
       "  </thead>\n",
       "  <tbody>\n",
       "    <tr>\n",
       "      <th>0</th>\n",
       "      <td>0.923465</td>\n",
       "      <td>0.879958</td>\n",
       "      <td>0.777975</td>\n",
       "      <td>0.839748</td>\n",
       "      <td>0.833471</td>\n",
       "      <td>0.836850</td>\n",
       "      <td>ensemble</td>\n",
       "    </tr>\n",
       "    <tr>\n",
       "      <th>1</th>\n",
       "      <td>0.922247</td>\n",
       "      <td>0.878853</td>\n",
       "      <td>0.783111</td>\n",
       "      <td>0.832010</td>\n",
       "      <td>0.815640</td>\n",
       "      <td>0.822399</td>\n",
       "      <td>ensemble</td>\n",
       "    </tr>\n",
       "    <tr>\n",
       "      <th>2</th>\n",
       "      <td>0.904489</td>\n",
       "      <td>0.869412</td>\n",
       "      <td>0.781224</td>\n",
       "      <td>0.825194</td>\n",
       "      <td>0.828851</td>\n",
       "      <td>0.834566</td>\n",
       "      <td>ensemble</td>\n",
       "    </tr>\n",
       "    <tr>\n",
       "      <th>3</th>\n",
       "      <td>0.911608</td>\n",
       "      <td>0.878161</td>\n",
       "      <td>0.709500</td>\n",
       "      <td>0.803753</td>\n",
       "      <td>0.753922</td>\n",
       "      <td>0.784083</td>\n",
       "      <td>ensemble</td>\n",
       "    </tr>\n",
       "    <tr>\n",
       "      <th>4</th>\n",
       "      <td>0.914412</td>\n",
       "      <td>0.871550</td>\n",
       "      <td>0.765641</td>\n",
       "      <td>0.817531</td>\n",
       "      <td>0.791553</td>\n",
       "      <td>0.821852</td>\n",
       "      <td>ensemble</td>\n",
       "    </tr>\n",
       "    <tr>\n",
       "      <th>5</th>\n",
       "      <td>0.916769</td>\n",
       "      <td>0.871589</td>\n",
       "      <td>0.764724</td>\n",
       "      <td>0.818168</td>\n",
       "      <td>0.798039</td>\n",
       "      <td>0.831312</td>\n",
       "      <td>ensemble</td>\n",
       "    </tr>\n",
       "    <tr>\n",
       "      <th>6</th>\n",
       "      <td>0.911918</td>\n",
       "      <td>0.878220</td>\n",
       "      <td>0.766242</td>\n",
       "      <td>0.818779</td>\n",
       "      <td>0.797227</td>\n",
       "      <td>0.828041</td>\n",
       "      <td>ensemble</td>\n",
       "    </tr>\n",
       "    <tr>\n",
       "      <th>7</th>\n",
       "      <td>0.913651</td>\n",
       "      <td>0.870906</td>\n",
       "      <td>0.758845</td>\n",
       "      <td>0.822776</td>\n",
       "      <td>0.799545</td>\n",
       "      <td>0.828038</td>\n",
       "      <td>ensemble</td>\n",
       "    </tr>\n",
       "    <tr>\n",
       "      <th>8</th>\n",
       "      <td>0.917139</td>\n",
       "      <td>0.870265</td>\n",
       "      <td>0.730553</td>\n",
       "      <td>0.792201</td>\n",
       "      <td>0.749540</td>\n",
       "      <td>0.789320</td>\n",
       "      <td>ensemble</td>\n",
       "    </tr>\n",
       "    <tr>\n",
       "      <th>9</th>\n",
       "      <td>0.919296</td>\n",
       "      <td>0.870985</td>\n",
       "      <td>0.782836</td>\n",
       "      <td>0.829301</td>\n",
       "      <td>0.828600</td>\n",
       "      <td>0.834489</td>\n",
       "      <td>ensemble</td>\n",
       "    </tr>\n",
       "  </tbody>\n",
       "</table>\n",
       "</div>"
      ],
      "text/plain": [
       "   acdc_train  acdc_val  mnm_siemens  mnm_philips    mnm_ge  mnm_canon  \\\n",
       "0    0.923465  0.879958     0.777975     0.839748  0.833471   0.836850   \n",
       "1    0.922247  0.878853     0.783111     0.832010  0.815640   0.822399   \n",
       "2    0.904489  0.869412     0.781224     0.825194  0.828851   0.834566   \n",
       "3    0.911608  0.878161     0.709500     0.803753  0.753922   0.784083   \n",
       "4    0.914412  0.871550     0.765641     0.817531  0.791553   0.821852   \n",
       "5    0.916769  0.871589     0.764724     0.818168  0.798039   0.831312   \n",
       "6    0.911918  0.878220     0.766242     0.818779  0.797227   0.828041   \n",
       "7    0.913651  0.870906     0.758845     0.822776  0.799545   0.828038   \n",
       "8    0.917139  0.870265     0.730553     0.792201  0.749540   0.789320   \n",
       "9    0.919296  0.870985     0.782836     0.829301  0.828600   0.834489   \n",
       "\n",
       "     method  \n",
       "0  ensemble  \n",
       "1  ensemble  \n",
       "2  ensemble  \n",
       "3  ensemble  \n",
       "4  ensemble  \n",
       "5  ensemble  \n",
       "6  ensemble  \n",
       "7  ensemble  \n",
       "8  ensemble  \n",
       "9  ensemble  "
      ]
     },
     "execution_count": 11,
     "metadata": {},
     "output_type": "execute_result"
    }
   ],
   "source": [
    "df = pd.DataFrame.from_dict(heart_ensemble_dice)\n",
    "df['method'] = 'ensemble'\n",
    "df"
   ]
  },
  {
   "cell_type": "code",
   "execution_count": 24,
   "id": "db535e72",
   "metadata": {},
   "outputs": [
    {
     "name": "stdout",
     "output_type": "stream",
     "text": [
      "set, unet, ensemble\n",
      "acdc_train, 0.9197, 0.9274\n",
      "acdc_val, 0.8767, 0.8869\n",
      "mnm_siemens, 0.7722, 0.8129\n",
      "mnm_philips, 0.8270, 0.8568\n",
      "mnm_ge, 0.8119, 0.8539\n",
      "mnm_canon, 0.8281, 0.8699\n"
     ]
    }
   ],
   "source": [
    "print(\"set, unet, ensemble\")\n",
    "for key in heart_ensemble_dice:\n",
    "    print(f\"{key}, {np.array(heart_unet_dice[key]).mean():.4f}, {np.array(heart_ensemble_dice[key]).mean():.4f}\")"
   ]
  },
  {
   "cell_type": "code",
   "execution_count": 52,
   "id": "b89d78a9",
   "metadata": {},
   "outputs": [
    {
     "name": "stdout",
     "output_type": "stream",
     "text": [
      "| set | unet | ensemble |\n",
      "|---|---|---|\n",
      "| acdc_train | 0.9197 | 0.9274 |\n",
      "| acdc_val | 0.8767 | 0.8869 |\n",
      "| mnm_siemens | 0.7722 | 0.8129 |\n",
      "| mnm_philips | 0.8270 | 0.8568 |\n",
      "| mnm_ge | 0.8119 | 0.8539 |\n",
      "| mnm_canon | 0.8281 | 0.8699 |\n"
     ]
    }
   ],
   "source": [
    "# print(\"| ACDC / M&M | | |\")\n",
    "print(\"| set | unet | ensemble |\")\n",
    "print(\"|---|---|---|\")\n",
    "for key in heart_ensemble_dice:\n",
    "    print(f\"| {key} | {np.array(heart_unet_dice[key]).mean():.4f} | {np.array(heart_ensemble_dice[key]).mean():.4f} |\")"
   ]
  },
  {
   "cell_type": "code",
   "execution_count": null,
   "id": "6b3764c8",
   "metadata": {},
   "outputs": [],
   "source": [
    "set          unet    ensemble\n",
    "acdc_train,  0.9197, 0.9274\n",
    "acdc_val,    0.8767, 0.8869\n",
    "mnm_siemens, 0.7722, 0.8129\n",
    "mnm_philips, 0.8270, 0.8568\n",
    "mnm_ge,      0.8119, 0.8539\n",
    "mnm_canon,   0.8281, 0.8699\n"
   ]
  },
  {
   "cell_type": "code",
   "execution_count": 37,
   "id": "66e02a83",
   "metadata": {},
   "outputs": [
    {
     "name": "stdout",
     "output_type": "stream",
     "text": [
      "cc_train 0.9910455544789631\n",
      "cc_val 0.9853569885094959\n",
      "cc_site1 0.9586749931176504\n",
      "cc_site2 0.9295904410382112\n",
      "cc_site3 0.8969023927002195\n",
      "cc_site4 0.8164349953333536\n",
      "cc_site5 0.9008615513642629\n"
     ]
    }
   ],
   "source": [
    "# Unet dice scores for ACDC / M&M\n",
    "brain_unet_dice = np.load('../../results-tmp/results/unet/brain_unet_results.npy', allow_pickle=True).item()\n",
    "for key in brain_unet_dice:\n",
    "    print(key, default_collate(brain_unet_dice[key])['Volumetric Dice'].mean().item())\n",
    "    #print(key, np.array(brain_unet_dice[key]['Volumetric Dice']).mean())"
   ]
  },
  {
   "cell_type": "code",
   "execution_count": 41,
   "id": "e27eb401",
   "metadata": {},
   "outputs": [
    {
     "name": "stdout",
     "output_type": "stream",
     "text": [
      "cc_train 0.9912673324346543\n",
      "cc_val 0.987064598997434\n",
      "cc_site1 0.9600168355305989\n",
      "cc_site2 0.9205873404057087\n",
      "cc_site3 0.9065432909195508\n",
      "cc_site4 0.9078365654746692\n",
      "cc_site5 0.918809078236421\n"
     ]
    }
   ],
   "source": [
    "# Unet dice scores for ACDC / M&M\n",
    "brain_ensemble_dice = np.load('../../results-tmp/results/unet/brain_ensemble_results.npy', allow_pickle=True).item()\n",
    "for key in brain_ensemble_dice:\n",
    "    print(key, np.array(brain_ensemble_dice[key]).mean())\n",
    "    #print(key, default_collate(brain_ensemble_dice[key])['Volumetric Dice'].mean().item())\n",
    "    #print(key, np.array(brain_unet_dice[key]['Volumetric Dice']).mean())"
   ]
  },
  {
   "cell_type": "code",
   "execution_count": 51,
   "id": "4049ce27",
   "metadata": {},
   "outputs": [
    {
     "name": "stdout",
     "output_type": "stream",
     "text": [
      "| set | unet | ensemble |\n",
      "|---|---|---|\n",
      "|cc_train | 0.9910 | 0.9913 |\n",
      "|cc_val | 0.9854 | 0.9871 |\n",
      "|cc_site1 | 0.9587 | 0.9600 |\n",
      "|cc_site2 | 0.9296 | 0.9206 |\n",
      "|cc_site3 | 0.8969 | 0.9065 |\n",
      "|cc_site4 | 0.8164 | 0.9078 |\n",
      "|cc_site5 | 0.9009 | 0.9188 |\n"
     ]
    }
   ],
   "source": [
    "#print(\"|Calgar| | |\")\n",
    "print(\"| set | unet | ensemble |\")\n",
    "print(\"|---|---|---|\")\n",
    "for key in brain_ensemble_dice:\n",
    "    print(f\"|{key} | {default_collate(brain_unet_dice[key])['Volumetric Dice'].mean().item():.4f} | {np.array(brain_ensemble_dice[key]).mean():.4f} |\")"
   ]
  },
  {
   "cell_type": "code",
   "execution_count": 3,
   "id": "7b158552",
   "metadata": {},
   "outputs": [],
   "source": [
    "import torch\n",
    "direc = f'../../results-tmp/results/eval/mms/image/mms-res_dae-both-A-0_auroc'\n",
    "tmp = torch.load(direc)"
   ]
  },
  {
   "cell_type": "code",
   "execution_count": 5,
   "id": "1d8e4959",
   "metadata": {},
   "outputs": [
    {
     "data": {
      "text/plain": [
       "tensor(0.7951)"
      ]
     },
     "execution_count": 5,
     "metadata": {},
     "output_type": "execute_result"
    }
   ],
   "source": [
    "tmp['ood']"
   ]
  },
  {
   "cell_type": "code",
   "execution_count": 7,
   "id": "eeaa9f38",
   "metadata": {},
   "outputs": [
    {
     "data": {
      "text/plain": [
       "tensor(0.4230)"
      ]
     },
     "execution_count": 7,
     "metadata": {},
     "output_type": "execute_result"
    }
   ],
   "source": [
    "tmp['corr'].compute()"
   ]
  },
  {
   "cell_type": "code",
   "execution_count": 4,
   "id": "2297ff93",
   "metadata": {},
   "outputs": [],
   "source": [
    "import torch\n",
    "import matplotlib.pyplot as plt\n",
    "\n",
    "direc = f'../../results-tmp/results/eval/mms/image/mms-res_dae-both-A-0-halflr_auroc'\n",
    "tmp = torch.load(direc)"
   ]
  },
  {
   "cell_type": "code",
   "execution_count": 6,
   "id": "7796584b",
   "metadata": {},
   "outputs": [
    {
     "data": {
      "text/plain": [
       "[<matplotlib.lines.Line2D at 0x7fa8023ab2b0>]"
      ]
     },
     "execution_count": 6,
     "metadata": {},
     "output_type": "execute_result"
    },
    {
     "data": {
      "image/png": "[encoded data removed]",
      "text/plain": [
       "<Figure size 432x288 with 1 Axes>"
      ]
     },
     "metadata": {
      "needs_background": "light"
     },
     "output_type": "display_data"
    }
   ],
   "source": [
    "plt.plot(tmp['corr'].target, tmp['corr'].preds, '.')"
   ]
  },
  {
   "cell_type": "code",
   "execution_count": 3,
   "id": "ad7f5d9d",
   "metadata": {},
   "outputs": [
    {
     "data": {
      "text/plain": [
       "tensor(0.3732)"
      ]
     },
     "execution_count": 3,
     "metadata": {},
     "output_type": "execute_result"
    }
   ],
   "source": [
    "tmp['corr'].compute()"
   ]
  },
  {
   "cell_type": "code",
   "execution_count": 13,
   "id": "1b9a330f",
   "metadata": {},
   "outputs": [
    {
     "name": "stdout",
     "output_type": "stream",
     "text": [
      "tensor(0.8205) tensor(0.3731)\n"
     ]
    }
   ],
   "source": [
    "direc = f'../../results-tmp/results/eval/mms/image/mms-res_dae-both-A-0-mse_auroc'\n",
    "tmp = torch.load(direc)\n",
    "\n",
    "print(tmp['ood'], tmp['corr'].compute())"
   ]
  },
  {
   "cell_type": "code",
   "execution_count": 92,
   "id": "72cbc6fa",
   "metadata": {},
   "outputs": [],
   "source": [
    "\n",
    "import sys\n",
    "\n",
    "sys.path.append('..')\n",
    "from utils import Metrics\n",
    "\n",
    "direc = '../../results-tmp/results/eval/mms/pixel/mms-res_dae-C-0-venus'\n",
    "tmp = torch.load(direc)\n"
   ]
  },
  {
   "cell_type": "code",
   "execution_count": 93,
   "id": "9316a72d",
   "metadata": {},
   "outputs": [
    {
     "data": {
      "text/plain": [
       "0.40823060274124146"
      ]
     },
     "execution_count": 93,
     "metadata": {},
     "output_type": "execute_result"
    }
   ],
   "source": [
    "tmp.auc_pr"
   ]
  },
  {
   "cell_type": "code",
   "execution_count": 94,
   "id": "1db8176c",
   "metadata": {},
   "outputs": [
    {
     "data": {
      "text/plain": [
       "[<matplotlib.lines.Line2D at 0x7fa7e8809fd0>]"
      ]
     },
     "execution_count": 94,
     "metadata": {},
     "output_type": "execute_result"
    },
    {
     "data": {
      "image/png": "[encoded data removed]",
      "text/plain": [
       "<Figure size 432x288 with 1 Axes>"
      ]
     },
     "metadata": {
      "needs_background": "light"
     },
     "output_type": "display_data"
    }
   ],
   "source": [
    "plt.plot(tmp.rec, tmp.pre)"
   ]
  },
  {
   "cell_type": "code",
   "execution_count": 95,
   "id": "23ee5ddf",
   "metadata": {},
   "outputs": [],
   "source": [
    "\n",
    "import sys\n",
    "\n",
    "sys.path.append('..')\n",
    "from utils import Metrics\n",
    "\n",
    "direc = '../../results-tmp/results/eval/mms/pixel/mms-testing-C-0-venus'\n",
    "tmp = torch.load(direc)\n"
   ]
  },
  {
   "cell_type": "code",
   "execution_count": 96,
   "id": "a3264fac",
   "metadata": {},
   "outputs": [
    {
     "data": {
      "text/plain": [
       "0.2575005888938904"
      ]
     },
     "execution_count": 96,
     "metadata": {},
     "output_type": "execute_result"
    }
   ],
   "source": [
    "tmp.auc_pr"
   ]
  },
  {
   "cell_type": "code",
   "execution_count": 97,
   "id": "616dc6bc",
   "metadata": {},
   "outputs": [
    {
     "data": {
      "text/plain": [
       "[<matplotlib.lines.Line2D at 0x7fa7e84f72e0>]"
      ]
     },
     "execution_count": 97,
     "metadata": {},
     "output_type": "execute_result"
    },
    {
     "data": {
      "image/png": "[encoded data removed]",
      "text/plain": [
       "<Figure size 432x288 with 1 Axes>"
      ]
     },
     "metadata": {
      "needs_background": "light"
     },
     "output_type": "display_data"
    }
   ],
   "source": [
    "plt.plot(tmp.rec, tmp.pre)"
   ]
  },
  {
   "cell_type": "code",
   "execution_count": 84,
   "id": "3ea9d6d9",
   "metadata": {},
   "outputs": [],
   "source": [
    "\n",
    "import sys\n",
    "\n",
    "sys.path.append('..')\n",
    "from utils import Metrics\n",
    "\n",
    "direc = '../../results-tmp/results/eval/mms/pixel/mms-res_dae-D-0-venus'\n",
    "tmp = torch.load(direc)\n"
   ]
  },
  {
   "cell_type": "code",
   "execution_count": 85,
   "id": "7f7e7d23",
   "metadata": {},
   "outputs": [
    {
     "data": {
      "text/plain": [
       "0.42565643787384033"
      ]
     },
     "execution_count": 85,
     "metadata": {},
     "output_type": "execute_result"
    }
   ],
   "source": [
    "tmp.auc_pr"
   ]
  },
  {
   "cell_type": "code",
   "execution_count": 77,
   "id": "4e0ef296",
   "metadata": {},
   "outputs": [
    {
     "data": {
      "text/plain": [
       "[<matplotlib.lines.Line2D at 0x7fa7e87a62e0>]"
      ]
     },
     "execution_count": 77,
     "metadata": {},
     "output_type": "execute_result"
    },
    {
     "data": {
      "image/png": "[encoded data removed]",
      "text/plain": [
       "<Figure size 432x288 with 1 Axes>"
      ]
     },
     "metadata": {
      "needs_background": "light"
     },
     "output_type": "display_data"
    }
   ],
   "source": [
    "plt.plot(tmp.rec, tmp.pre)"
   ]
  },
  {
   "cell_type": "code",
   "execution_count": 47,
   "id": "c258d763",
   "metadata": {},
   "outputs": [
    {
     "data": {
      "text/plain": [
       "tensor([3.2768e+06, 1.0090e+06, 8.0374e+05, 6.7517e+05, 5.7991e+05, 5.0363e+05,\n",
       "        4.3970e+05, 3.8450e+05, 3.3582e+05, 2.9220e+05, 2.5263e+05, 2.1639e+05,\n",
       "        1.8292e+05, 1.5181e+05, 1.2273e+05, 9.5409e+04, 6.9641e+04, 4.5244e+04,\n",
       "        2.2073e+04, 5.0000e+01])"
      ]
     },
     "execution_count": 47,
     "metadata": {},
     "output_type": "execute_result"
    }
   ],
   "source": [
    "tmp.tpfp"
   ]
  },
  {
   "cell_type": "code",
   "execution_count": 48,
   "id": "e2fb9ecc",
   "metadata": {},
   "outputs": [
    {
     "data": {
      "text/plain": [
       "tensor(29793.)"
      ]
     },
     "execution_count": 48,
     "metadata": {},
     "output_type": "execute_result"
    }
   ],
   "source": [
    "tmp.tpfn"
   ]
  },
  {
   "cell_type": "code",
   "execution_count": 105,
   "id": "263a73ba",
   "metadata": {},
   "outputs": [],
   "source": [
    "direc = f'../../results-tmp/results/eval/mms/image/mms-ae-both-C-3'\n",
    "tmp = torch.load(direc)"
   ]
  },
  {
   "cell_type": "code",
   "execution_count": 106,
   "id": "297ad780",
   "metadata": {},
   "outputs": [
    {
     "data": {
      "text/plain": [
       "{'ood': tensor(0.2656), 'corr': SpearmanCorrCoef()}"
      ]
     },
     "execution_count": 106,
     "metadata": {},
     "output_type": "execute_result"
    }
   ],
   "source": [
    "tmp"
   ]
  },
  {
   "cell_type": "code",
   "execution_count": 103,
   "id": "5a6a92bf",
   "metadata": {},
   "outputs": [],
   "source": [
    "direc = f'../../results-tmp/results/eval/mms/image/mms-testing-both-D-9-venus_auroc'\n",
    "tmp = torch.load(direc)"
   ]
  },
  {
   "cell_type": "code",
   "execution_count": 104,
   "id": "bac6fecf",
   "metadata": {},
   "outputs": [
    {
     "data": {
      "text/plain": [
       "{'ood': tensor(0.5745), 'corr': SpearmanCorrCoef()}"
      ]
     },
     "execution_count": 104,
     "metadata": {},
     "output_type": "execute_result"
    }
   ],
   "source": [
    "tmp"
   ]
  },
  {
   "cell_type": "code",
   "execution_count": 119,
   "id": "39c217c1",
   "metadata": {},
   "outputs": [],
   "source": [
    "# Change filenames for image data to comply with at least some convention\n",
    "import os\n",
    "\n",
    "directory = f'../../results-tmp/results/eval/mms/image/'\n",
    "\n",
    "# testing to multi_CE\n",
    "for file in os.listdir(directory):\n",
    "    if '-testing-both' in file:\n",
    "        new_name = file.replace('testing', 'multi_CE').replace('-venus_auroc', '')\n",
    "        print(new_name)\n",
    "        #os.rename(os.path.join(directory, file), os.path.join(directory, new_name))\n",
    "        \n",
    "# res_dae*single to single_CE\n",
    "for file in os.listdir(directory):\n",
    "    if '-res_dae' in file and 'venus_single_auroc' in file:\n",
    "        new_name = file.replace('res_dae', 'single_CE').replace('-venus_single_auroc', '')\n",
    "        print(file, new_name)\n",
    "        #os.rename(os.path.join(directory, file), os.path.join(directory, new_name))"
   ]
  },
  {
   "cell_type": "code",
   "execution_count": 35,
   "id": "810d4a37",
   "metadata": {},
   "outputs": [],
   "source": [
    "directory = f'../../results-tmp/results/eval/mms/image/'\n",
    "\n",
    "newae = 'mms-localAug_multiImgSingleView_res_balanced_same_acc-corr-A-0'\n",
    "oldae = 'mms-ae_acc-corr-A-0'\n",
    "gonzales = 'mms-gonzales_acc-corr-A-0'\n"
   ]
  },
  {
   "cell_type": "code",
   "execution_count": 44,
   "id": "24abaed2",
   "metadata": {},
   "outputs": [
    {
     "name": "stdout",
     "output_type": "stream",
     "text": [
      "tensor(0.1021)\n"
     ]
    }
   ],
   "source": [
    "data = torch.load(directory + gonzales)\n",
    "\n",
    "print(data['corr'].compute())"
   ]
  },
  {
   "cell_type": "code",
   "execution_count": null,
   "id": "4e8ef555",
   "metadata": {},
   "outputs": [],
   "source": []
  },
  {
   "cell_type": "code",
   "execution_count": null,
   "id": "bed1adda",
   "metadata": {},
   "outputs": [],
   "source": []
  }
 ],
 "metadata": {
  "kernelspec": {
   "display_name": "Python 3 (ipykernel)",
   "language": "python",
   "name": "python3"
  },
  "language_info": {
   "codemirror_mode": {
    "name": "ipython",
    "version": 3
   },
   "file_extension": ".py",
   "mimetype": "text/x-python",
   "name": "python",
   "nbconvert_exporter": "python",
   "pygments_lexer": "ipython3",
   "version": "3.8.13"
  }
 },
 "nbformat": 4,
 "nbformat_minor": 5
}
