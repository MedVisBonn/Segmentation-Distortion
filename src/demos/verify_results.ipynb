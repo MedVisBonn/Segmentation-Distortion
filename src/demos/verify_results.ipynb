{
 "cells": [
  {
   "cell_type": "code",
   "execution_count": 33,
   "id": "cb369ea0",
   "metadata": {},
   "outputs": [],
   "source": [
    "import numpy as np\n",
    "import matplotlib.pyplot as plt\n",
    "from torch.utils.data import default_collate\n"
   ]
  },
  {
   "cell_type": "code",
   "execution_count": 48,
   "id": "44108489",
   "metadata": {},
   "outputs": [
    {
     "name": "stdout",
     "output_type": "stream",
     "text": [
      "acdc_train 0.9196690758540539\n",
      "acdc_val 0.8766713584462801\n",
      "mnm_siemens 0.7721905665753751\n",
      "mnm_philips 0.826983251601435\n",
      "mnm_ge 0.8119101529320082\n",
      "mnm_canon 0.8280752354427843\n"
     ]
    }
   ],
   "source": [
    "# Unet dice scores for ACDC / M&M\n",
    "heart_unet_dice = np.load('../../results-tmp/results/unet/heart_unet_results.npy', allow_pickle=True).item()\n",
    "for key in heart_unet_dice:\n",
    "    print(key, np.array(heart_unet_dice[key]).mean())"
   ]
  },
  {
   "cell_type": "code",
   "execution_count": 49,
   "id": "e141fab5",
   "metadata": {},
   "outputs": [
    {
     "name": "stdout",
     "output_type": "stream",
     "text": [
      "acdc_train 0.9273989976865972\n",
      "acdc_val 0.886894628405571\n",
      "mnm_siemens 0.8129487136782627\n",
      "mnm_philips 0.8567954603331636\n",
      "mnm_ge 0.8538719902435938\n",
      "mnm_canon 0.8698676469574215\n"
     ]
    }
   ],
   "source": [
    "# Unet dice scores for ACDC / M&M\n",
    "heart_ensemble_dice = np.load('../../results-tmp/results/unet/heart_ensemble_results.npy', allow_pickle=True).item()\n",
    "for key in heart_ensemble_dice:\n",
    "    print(key, np.array(heart_ensemble_dice[key]).mean())"
   ]
  },
  {
   "cell_type": "code",
   "execution_count": 24,
   "id": "5ecac9d1",
   "metadata": {},
   "outputs": [
    {
     "name": "stdout",
     "output_type": "stream",
     "text": [
      "set, unet, ensemble\n",
      "acdc_train, 0.9197, 0.9274\n",
      "acdc_val, 0.8767, 0.8869\n",
      "mnm_siemens, 0.7722, 0.8129\n",
      "mnm_philips, 0.8270, 0.8568\n",
      "mnm_ge, 0.8119, 0.8539\n",
      "mnm_canon, 0.8281, 0.8699\n"
     ]
    }
   ],
   "source": [
    "print(\"set, unet, ensemble\")\n",
    "for key in heart_ensemble_dice:\n",
    "    print(f\"{key}, {np.array(heart_unet_dice[key]).mean():.4f}, {np.array(heart_ensemble_dice[key]).mean():.4f}\")"
   ]
  },
  {
   "cell_type": "code",
   "execution_count": 52,
   "id": "7be1c625",
   "metadata": {},
   "outputs": [
    {
     "name": "stdout",
     "output_type": "stream",
     "text": [
      "| set | unet | ensemble |\n",
      "|---|---|---|\n",
      "| acdc_train | 0.9197 | 0.9274 |\n",
      "| acdc_val | 0.8767 | 0.8869 |\n",
      "| mnm_siemens | 0.7722 | 0.8129 |\n",
      "| mnm_philips | 0.8270 | 0.8568 |\n",
      "| mnm_ge | 0.8119 | 0.8539 |\n",
      "| mnm_canon | 0.8281 | 0.8699 |\n"
     ]
    }
   ],
   "source": [
    "# print(\"| ACDC / M&M | | |\")\n",
    "print(\"| set | unet | ensemble |\")\n",
    "print(\"|---|---|---|\")\n",
    "for key in heart_ensemble_dice:\n",
    "    print(f\"| {key} | {np.array(heart_unet_dice[key]).mean():.4f} | {np.array(heart_ensemble_dice[key]).mean():.4f} |\")"
   ]
  },
  {
   "cell_type": "code",
   "execution_count": null,
   "id": "b9e63cec",
   "metadata": {},
   "outputs": [],
   "source": [
    "set          unet    ensemble\n",
    "acdc_train,  0.9197, 0.9274\n",
    "acdc_val,    0.8767, 0.8869\n",
    "mnm_siemens, 0.7722, 0.8129\n",
    "mnm_philips, 0.8270, 0.8568\n",
    "mnm_ge,      0.8119, 0.8539\n",
    "mnm_canon,   0.8281, 0.8699\n"
   ]
  },
  {
   "cell_type": "code",
   "execution_count": 37,
   "id": "5080a97a",
   "metadata": {},
   "outputs": [
    {
     "name": "stdout",
     "output_type": "stream",
     "text": [
      "cc_train 0.9910455544789631\n",
      "cc_val 0.9853569885094959\n",
      "cc_site1 0.9586749931176504\n",
      "cc_site2 0.9295904410382112\n",
      "cc_site3 0.8969023927002195\n",
      "cc_site4 0.8164349953333536\n",
      "cc_site5 0.9008615513642629\n"
     ]
    }
   ],
   "source": [
    "# Unet dice scores for ACDC / M&M\n",
    "brain_unet_dice = np.load('../../results-tmp/results/unet/brain_unet_results.npy', allow_pickle=True).item()\n",
    "for key in brain_unet_dice:\n",
    "    print(key, default_collate(brain_unet_dice[key])['Volumetric Dice'].mean().item())\n",
    "    #print(key, np.array(brain_unet_dice[key]['Volumetric Dice']).mean())"
   ]
  },
  {
   "cell_type": "code",
   "execution_count": 41,
   "id": "3c1885ed",
   "metadata": {},
   "outputs": [
    {
     "name": "stdout",
     "output_type": "stream",
     "text": [
      "cc_train 0.9912673324346543\n",
      "cc_val 0.987064598997434\n",
      "cc_site1 0.9600168355305989\n",
      "cc_site2 0.9205873404057087\n",
      "cc_site3 0.9065432909195508\n",
      "cc_site4 0.9078365654746692\n",
      "cc_site5 0.918809078236421\n"
     ]
    }
   ],
   "source": [
    "# Unet dice scores for ACDC / M&M\n",
    "brain_ensemble_dice = np.load('../../results-tmp/results/unet/brain_ensemble_results.npy', allow_pickle=True).item()\n",
    "for key in brain_ensemble_dice:\n",
    "    print(key, np.array(brain_ensemble_dice[key]).mean())\n",
    "    #print(key, default_collate(brain_ensemble_dice[key])['Volumetric Dice'].mean().item())\n",
    "    #print(key, np.array(brain_unet_dice[key]['Volumetric Dice']).mean())"
   ]
  },
  {
   "cell_type": "code",
   "execution_count": 51,
   "id": "e85689bb",
   "metadata": {},
   "outputs": [
    {
     "name": "stdout",
     "output_type": "stream",
     "text": [
      "| set | unet | ensemble |\n",
      "|---|---|---|\n",
      "|cc_train | 0.9910 | 0.9913 |\n",
      "|cc_val | 0.9854 | 0.9871 |\n",
      "|cc_site1 | 0.9587 | 0.9600 |\n",
      "|cc_site2 | 0.9296 | 0.9206 |\n",
      "|cc_site3 | 0.8969 | 0.9065 |\n",
      "|cc_site4 | 0.8164 | 0.9078 |\n",
      "|cc_site5 | 0.9009 | 0.9188 |\n"
     ]
    }
   ],
   "source": [
    "#print(\"|Calgar| | |\")\n",
    "print(\"| set | unet | ensemble |\")\n",
    "print(\"|---|---|---|\")\n",
    "for key in brain_ensemble_dice:\n",
    "    print(f\"|{key} | {default_collate(brain_unet_dice[key])['Volumetric Dice'].mean().item():.4f} | {np.array(brain_ensemble_dice[key]).mean():.4f} |\")"
   ]
  },
  {
   "cell_type": "code",
   "execution_count": null,
   "id": "f3e60e09",
   "metadata": {},
   "outputs": [],
   "source": []
  }
 ],
 "metadata": {
  "kernelspec": {
   "display_name": "Python 3 (ipykernel)",
   "language": "python",
   "name": "python3"
  },
  "language_info": {
   "codemirror_mode": {
    "name": "ipython",
    "version": 3
   },
   "file_extension": ".py",
   "mimetype": "text/x-python",
   "name": "python",
   "nbconvert_exporter": "python",
   "pygments_lexer": "ipython3",
   "version": "3.8.13"
  }
 },
 "nbformat": 4,
 "nbformat_minor": 5
}
