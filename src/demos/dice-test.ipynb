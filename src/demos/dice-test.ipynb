{
 "cells": [
  {
   "cell_type": "code",
   "execution_count": 2,
   "id": "2120de4c",
   "metadata": {},
   "outputs": [],
   "source": [
    "import numpy as np\n",
    "import pandas as pd\n",
    "import matplotlib.pyplot as plt\n",
    "import seaborn as sns"
   ]
  },
  {
   "cell_type": "code",
   "execution_count": 3,
   "id": "826d0b81",
   "metadata": {},
   "outputs": [],
   "source": [
    "def plot_dice(\n",
    "    task='brain', \n",
    "    methods=['unet', 'downstream'], \n",
    "    directory=\"../../results-tmp/\"\n",
    "):    \n",
    "    dfs = []\n",
    "    for method in methods:\n",
    "        raw = np.load(f\"{directory}{task}_{method}_results.npy\",allow_pickle=True).item()\n",
    "        # from dict to df\n",
    "        df = pd.DataFrame.from_dict(raw)\n",
    "        # transform into long format for seaborn\n",
    "        df_long = df.melt(ignore_index=False).reset_index()\n",
    "        # rename \"index\" column to 'iterator'\n",
    "        df_long = df_long.rename(columns={'index': 'it'})\n",
    "        df_long['method'] = method\n",
    "        # in case of brain data, select surface dice as measure\n",
    "        if task == 'brain':\n",
    "            df_long['value'] = df_long['value'].apply(lambda x: x['Volumetric Dice'])\n",
    "        # concat dataframes\n",
    "        dfs.append(df_long.copy(deep=True))\n",
    "        \n",
    "    return pd.concat(dfs)"
   ]
  },
  {
   "cell_type": "code",
   "execution_count": 4,
   "id": "9d81c025",
   "metadata": {},
   "outputs": [
    {
     "data": {
      "image/png": "[encoded data removed]",
      "text/plain": [
       "<Figure size 432x288 with 1 Axes>"
      ]
     },
     "metadata": {
      "needs_background": "light"
     },
     "output_type": "display_data"
    }
   ],
   "source": [
    "### config\n",
    "task = 'brain'\n",
    "methods = ['unet', 'downstream']\n",
    "directory = \"../../results-tmp/\"\n",
    "\n",
    "### data\n",
    "df = plot_dice(task=task, methods=methods, directory=directory)\n",
    "### plotting\n",
    "sns.boxplot(data=df, x='variable', y='value', hue='method')\n",
    "\n",
    "title = task.upper()\n",
    "title = title + \" - Volumetric\" if task == 'brain' else title\n",
    "plt.title(f\"{title}\")\n",
    "plt.show()"
   ]
  },
  {
   "cell_type": "code",
   "execution_count": 34,
   "id": "2afb703f",
   "metadata": {},
   "outputs": [],
   "source": [
    "raw = np.load(f\"{directory}{task}_unet_results.npy\",allow_pickle=True).item()\n",
    "df = pd.DataFrame.from_dict(raw)"
   ]
  },
  {
   "cell_type": "code",
   "execution_count": 39,
   "id": "3507fb1f",
   "metadata": {},
   "outputs": [],
   "source": [
    "df = df.applymap(lambda x: x['Volumetric Dice'])"
   ]
  },
  {
   "cell_type": "code",
   "execution_count": 43,
   "id": "73b08399",
   "metadata": {},
   "outputs": [
    {
     "data": {
      "text/plain": [
       "cc_train    0.991046\n",
       "cc_val      0.985357\n",
       "cc_site1    0.958675\n",
       "cc_site2    0.929590\n",
       "cc_site3    0.896902\n",
       "cc_site4    0.816435\n",
       "cc_site5    0.900862\n",
       "dtype: float64"
      ]
     },
     "execution_count": 43,
     "metadata": {},
     "output_type": "execute_result"
    }
   ],
   "source": [
    "df.mean()"
   ]
  },
  {
   "cell_type": "code",
   "execution_count": 44,
   "id": "ef5230f7",
   "metadata": {},
   "outputs": [],
   "source": [
    "raw = np.load(f\"{directory}{task}_unet_results.npy\",allow_pickle=True).item()\n",
    "df = pd.DataFrame.from_dict(raw)"
   ]
  },
  {
   "cell_type": "code",
   "execution_count": 45,
   "id": "858208e1",
   "metadata": {},
   "outputs": [],
   "source": [
    "df = df.applymap(lambda x: x['Surface Dice'])"
   ]
  },
  {
   "cell_type": "code",
   "execution_count": 46,
   "id": "63572f7b",
   "metadata": {},
   "outputs": [
    {
     "data": {
      "text/plain": [
       "cc_train    0.987272\n",
       "cc_val      0.964324\n",
       "cc_site1    0.815909\n",
       "cc_site2    0.793506\n",
       "cc_site3    0.804340\n",
       "cc_site4    0.678126\n",
       "cc_site5    0.717917\n",
       "dtype: float64"
      ]
     },
     "execution_count": 46,
     "metadata": {},
     "output_type": "execute_result"
    }
   ],
   "source": [
    "df.mean()"
   ]
  },
  {
   "cell_type": "code",
   "execution_count": 49,
   "id": "a57870bf",
   "metadata": {},
   "outputs": [],
   "source": [
    "import torch"
   ]
  },
  {
   "cell_type": "code",
   "execution_count": 52,
   "id": "d9de6510",
   "metadata": {},
   "outputs": [
    {
     "data": {
      "text/plain": [
       "tensor(0.1769)"
      ]
     },
     "execution_count": 52,
     "metadata": {},
     "output_type": "execute_result"
    }
   ],
   "source": [
    "torch.load('../../results-tmp/results/eval/mms/image/mms-ensemble-corr-A-9').compute()"
   ]
  },
  {
   "cell_type": "code",
   "execution_count": null,
   "id": "e556603b",
   "metadata": {},
   "outputs": [],
   "source": []
  }
 ],
 "metadata": {
  "kernelspec": {
   "display_name": "Python 3 (ipykernel)",
   "language": "python",
   "name": "python3"
  },
  "language_info": {
   "codemirror_mode": {
    "name": "ipython",
    "version": 3
   },
   "file_extension": ".py",
   "mimetype": "text/x-python",
   "name": "python",
   "nbconvert_exporter": "python",
   "pygments_lexer": "ipython3",
   "version": "3.8.13"
  }
 },
 "nbformat": 4,
 "nbformat_minor": 5
}
