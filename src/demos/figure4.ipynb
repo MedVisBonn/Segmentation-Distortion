{
 "cells": [
  {
   "cell_type": "code",
   "execution_count": null,
   "id": "4ea921f1",
   "metadata": {},
   "outputs": [],
   "source": []
  },
  {
   "cell_type": "code",
   "execution_count": null,
   "id": "de2f928d",
   "metadata": {},
   "outputs": [],
   "source": []
  },
  {
   "cell_type": "code",
   "execution_count": null,
   "id": "92902a1b",
   "metadata": {},
   "outputs": [],
   "source": []
  },
  {
   "cell_type": "code",
   "execution_count": 1,
   "id": "8e483dbd",
   "metadata": {},
   "outputs": [],
   "source": [
    "import torch\n",
    "import numpy as np\n",
    "import matplotlib.pyplot as plt\n",
    "import os\n",
    "from torch.utils.data import default_collate\n",
    "import pandas as pd\n",
    "import seaborn as sns\n",
    "import warnings\n",
    "warnings.filterwarnings(\"ignore\")\n",
    "from torchmetrics import SpearmanCorrCoef"
   ]
  },
  {
   "cell_type": "code",
   "execution_count": 58,
   "id": "4c9a32e6",
   "metadata": {},
   "outputs": [],
   "source": [
    "def get_image_data(method: str, net_out: str, task: str, scanner: int):\n",
    "    directory = f'../../results-tmp/results/eval/{net_out}/image/'\n",
    "    image_data = []\n",
    "    for file in os.listdir(directory):\n",
    "        if method in file and task in file and scanner in file[:-2]:\n",
    "            f = torch.load(directory + file)\n",
    "            if 'corr' in f.keys():\n",
    "                f['corr'].target = [t.cpu() for t in f['corr'].target]\n",
    "                f['corr'].preds = [t.cpu() for t in f['corr'].preds]\n",
    "                f['corr'] = f['corr'].compute()\n",
    "            image_data.append(f)\n",
    "    #print(image_data)\n",
    "    return default_collate(image_data)"
   ]
  },
  {
   "cell_type": "code",
   "execution_count": 60,
   "id": "85584494",
   "metadata": {},
   "outputs": [
    {
     "name": "stdout",
     "output_type": "stream",
     "text": [
      "[{'ood': 0.9661458134651184, 'corr': tensor(-0.0269)}, {'ood': 0.9192708134651184, 'corr': tensor(0.0276)}, {'ood': 0.9453125, 'corr': tensor(0.0017)}, {'ood': 0.9505208134651184, 'corr': tensor(0.0388)}, {'ood': 0.9739583134651184, 'corr': tensor(-0.0297)}, {'ood': 0.9817708134651184, 'corr': tensor(-0.0117)}, {'ood': 0.9635416865348816, 'corr': tensor(0.0169)}, {'ood': 0.9739583134651184, 'corr': tensor(-0.0208)}, {'ood': 0.953125, 'corr': tensor(-0.0137)}, {'ood': 0.9140625, 'corr': tensor(-0.0240)}]\n",
      "[{'ood': 1.0, 'corr': tensor(-0.0127)}, {'ood': 1.0, 'corr': tensor(0.0136)}, {'ood': 1.0, 'corr': tensor(0.0268)}, {'ood': 1.0, 'corr': tensor(-0.0092)}, {'ood': 1.0, 'corr': tensor(-0.0112)}, {'ood': 1.0, 'corr': tensor(-0.0101)}, {'ood': 1.0, 'corr': tensor(0.0137)}, {'ood': 1.0, 'corr': tensor(-0.0185)}, {'ood': 1.0, 'corr': tensor(-0.0315)}, {'ood': 1.0, 'corr': tensor(0.0516)}]\n",
      "[{'ood': 1.0, 'corr': tensor(-0.0973)}, {'ood': 1.0, 'corr': tensor(-0.1046)}, {'ood': 1.0, 'corr': tensor(-0.1157)}, {'ood': 1.0, 'corr': tensor(-0.0795)}, {'ood': 1.0, 'corr': tensor(-0.1135)}, {'ood': 1.0, 'corr': tensor(-0.1048)}, {'ood': 1.0, 'corr': tensor(-0.0320)}, {'ood': 1.0, 'corr': tensor(-0.0893)}, {'ood': 1.0, 'corr': tensor(-0.0448)}, {'ood': 1.0, 'corr': tensor(-0.0812)}]\n",
      "[{'ood': 1.0, 'corr': tensor(-0.0178)}, {'ood': 1.0, 'corr': tensor(0.1116)}, {'ood': 1.0, 'corr': tensor(-0.0177)}, {'ood': 1.0, 'corr': tensor(-0.0834)}, {'ood': 1.0, 'corr': tensor(0.0201)}, {'ood': 1.0, 'corr': tensor(0.0888)}, {'ood': 1.0, 'corr': tensor(-0.0553)}, {'ood': 1.0, 'corr': tensor(-0.0589)}, {'ood': 1.0, 'corr': tensor(0.0255)}, {'ood': 1.0, 'corr': tensor(-0.0484)}]\n",
      "[{'ood': 1.0, 'corr': tensor(-0.0642)}, {'ood': 1.0, 'corr': tensor(-0.0493)}, {'ood': 1.0, 'corr': tensor(-0.1219)}, {'ood': 1.0, 'corr': tensor(-0.0841)}, {'ood': 1.0, 'corr': tensor(-0.0772)}, {'ood': 1.0, 'corr': tensor(-0.0699)}, {'ood': 1.0, 'corr': tensor(-0.1269)}, {'ood': 1.0, 'corr': tensor(-0.0956)}, {'ood': 1.0, 'corr': tensor(-0.0896)}, {'ood': 1.0, 'corr': tensor(-0.1515)}]\n",
      "[{'ood': 0.8723958134651184, 'corr': tensor(0.2807)}, {'ood': 0.6744791865348816, 'corr': tensor(0.2785)}, {'ood': 0.7473958134651184, 'corr': tensor(0.2430)}, {'ood': 0.6328125, 'corr': tensor(0.2929)}, {'ood': 0.5625, 'corr': tensor(0.1689)}, {'ood': 0.6666666865348816, 'corr': tensor(0.2203)}, {'ood': 0.6770833134651184, 'corr': tensor(0.2127)}, {'ood': 0.703125, 'corr': tensor(0.2877)}, {'ood': 0.5416666865348816, 'corr': tensor(0.2105)}, {'ood': 0.7161458134651184, 'corr': tensor(0.2630)}]\n",
      "[{'ood': 0.9895263910293579, 'corr': tensor(0.1252)}, {'ood': 0.9649362564086914, 'corr': tensor(0.1793)}, {'ood': 0.9858834147453308, 'corr': tensor(0.3397)}, {'ood': 0.9462659358978271, 'corr': tensor(0.0519)}, {'ood': 0.9052823185920715, 'corr': tensor(0.2688)}, {'ood': 0.9867941737174988, 'corr': tensor(0.3338)}, {'ood': 0.9890710115432739, 'corr': tensor(0.1280)}, {'ood': 0.9690346121788025, 'corr': tensor(0.1574)}, {'ood': 0.9612932801246643, 'corr': tensor(0.2366)}, {'ood': 0.9581056237220764, 'corr': tensor(0.1828)}]\n",
      "[{'ood': 0.986752450466156, 'corr': tensor(0.1952)}, {'ood': 0.9394398331642151, 'corr': tensor(0.2508)}, {'ood': 0.9719909429550171, 'corr': tensor(0.0823)}, {'ood': 0.9897804856300354, 'corr': tensor(0.1214)}, {'ood': 0.9731264114379883, 'corr': tensor(0.1297)}, {'ood': 0.9924299716949463, 'corr': tensor(0.3006)}, {'ood': 0.9958364963531494, 'corr': tensor(0.0872)}, {'ood': 0.9712339043617249, 'corr': tensor(0.0606)}, {'ood': 0.9943224787712097, 'corr': tensor(0.0864)}, {'ood': 0.9837244749069214, 'corr': tensor(0.0408)}]\n",
      "[{'ood': 0.9930555820465088, 'corr': tensor(0.2404)}, {'ood': 0.9479166865348816, 'corr': tensor(0.1414)}, {'ood': 0.9739583134651184, 'corr': tensor(-0.0134)}, {'ood': 0.9765625, 'corr': tensor(0.0720)}, {'ood': 0.9861111044883728, 'corr': tensor(-0.0288)}, {'ood': 0.9887152910232544, 'corr': tensor(0.1930)}, {'ood': 0.9835069179534912, 'corr': tensor(-0.0496)}, {'ood': 0.9991319179534912, 'corr': tensor(-0.0331)}, {'ood': 0.9991319179534912, 'corr': tensor(0.0109)}, {'ood': 0.984375, 'corr': tensor(0.0496)}]\n",
      "[{'ood': 0.9984227418899536, 'corr': tensor(-0.0610)}, {'ood': 0.9960567951202393, 'corr': tensor(-0.0580)}, {'ood': 1.0, 'corr': tensor(-0.0316)}, {'ood': 1.0, 'corr': tensor(0.0740)}, {'ood': 1.0, 'corr': tensor(0.0463)}, {'ood': 0.9984227418899536, 'corr': tensor(-0.0446)}, {'ood': 0.988170325756073, 'corr': tensor(-0.0111)}, {'ood': 1.0, 'corr': tensor(0.0261)}, {'ood': 0.9921135902404785, 'corr': tensor(-0.0523)}, {'ood': 1.0, 'corr': tensor(-0.0933)}]\n",
      "[{'ood': 0.0494791679084301, 'corr': tensor(0.0413)}, {'ood': 0.0494791679084301, 'corr': tensor(-0.0279)}, {'ood': 0.0494791679084301, 'corr': tensor(-0.0530)}, {'ood': 0.0494791679084301, 'corr': tensor(-0.0495)}, {'ood': 0.0494791679084301, 'corr': tensor(-0.1013)}, {'ood': 0.0494791679084301, 'corr': tensor(-0.1363)}, {'ood': 0.0494791679084301, 'corr': tensor(-0.0671)}, {'ood': 0.0494791679084301, 'corr': tensor(-0.0532)}, {'ood': 0.0494791679084301, 'corr': tensor(0.0345)}, {'ood': 0.0494791679084301, 'corr': tensor(0.0064)}]\n",
      "[{'ood': 0.3998178541660309, 'corr': tensor(0.4438)}, {'ood': 0.3082877993583679, 'corr': tensor(0.4819)}, {'ood': 0.437613844871521, 'corr': tensor(0.4363)}, {'ood': 0.3260473608970642, 'corr': tensor(0.4180)}, {'ood': 0.36930784583091736, 'corr': tensor(0.4251)}, {'ood': 0.3642987310886383, 'corr': tensor(0.4456)}, {'ood': 0.375227689743042, 'corr': tensor(0.4458)}, {'ood': 0.3761384189128876, 'corr': tensor(0.4543)}, {'ood': 0.31785064935684204, 'corr': tensor(0.3963)}, {'ood': 0.34153005480766296, 'corr': tensor(0.4474)}]\n",
      "[{'ood': 0.17600302398204803, 'corr': tensor(0.2598)}, {'ood': 0.2006056010723114, 'corr': tensor(0.3377)}, {'ood': 0.1975775957107544, 'corr': tensor(0.3115)}, {'ood': 0.13777440786361694, 'corr': tensor(0.2952)}, {'ood': 0.14080242812633514, 'corr': tensor(0.3611)}, {'ood': 0.1680545061826706, 'corr': tensor(0.2864)}, {'ood': 0.15897047519683838, 'corr': tensor(0.2704)}, {'ood': 0.17789553105831146, 'corr': tensor(0.3281)}, {'ood': 0.18546555936336517, 'corr': tensor(0.2778)}, {'ood': 0.17335352301597595, 'corr': tensor(0.3296)}]\n",
      "[{'ood': 0.1362847238779068, 'corr': tensor(0.5584)}, {'ood': 0.1779513955116272, 'corr': tensor(0.5117)}, {'ood': 0.2369791716337204, 'corr': tensor(0.5169)}, {'ood': 0.1892361044883728, 'corr': tensor(0.5254)}, {'ood': 0.2178819477558136, 'corr': tensor(0.4721)}, {'ood': 0.1909722238779068, 'corr': tensor(0.4815)}, {'ood': 0.1684027761220932, 'corr': tensor(0.4503)}, {'ood': 0.1805555522441864, 'corr': tensor(0.5128)}, {'ood': 0.1553819477558136, 'corr': tensor(0.5052)}, {'ood': 0.1935763955116272, 'corr': tensor(0.5177)}]\n",
      "[{'ood': 0.16719242930412292, 'corr': tensor(0.5506)}, {'ood': 0.19873817265033722, 'corr': tensor(0.5353)}, {'ood': 0.15457412600517273, 'corr': tensor(0.6210)}, {'ood': 0.200315460562706, 'corr': tensor(0.5696)}, {'ood': 0.2302839159965515, 'corr': tensor(0.5346)}, {'ood': 0.18375393748283386, 'corr': tensor(0.5233)}, {'ood': 0.1687697172164917, 'corr': tensor(0.4996)}, {'ood': 0.20347003638744354, 'corr': tensor(0.5433)}, {'ood': 0.15220820903778076, 'corr': tensor(0.5428)}, {'ood': 0.20504732429981232, 'corr': tensor(0.5250)}]\n",
      "[{'ood': 0.7473958134651184}, {'ood': 0.7682291865348816}, {'ood': 0.8098958134651184}, {'ood': 0.7630208134651184}, {'ood': 0.8333333134651184}, {'ood': 0.7135416865348816}, {'ood': 0.8177083134651184}, {'ood': 0.6588541865348816}, {'ood': 0.7083333134651184}, {'ood': 0.796875}]\n",
      "[{'ood': 0.9080145955085754}, {'ood': 0.8269581198692322}, {'ood': 0.8014571666717529}, {'ood': 0.8433515429496765}, {'ood': 0.8397085666656494}, {'ood': 0.7955373525619507}, {'ood': 0.8014571666717529}, {'ood': 0.8579235076904297}, {'ood': 0.8173952698707581}, {'ood': 0.8360655903816223}]\n",
      "[{'ood': 0.7460257411003113}, {'ood': 0.8001514077186584}, {'ood': 0.7490537762641907}, {'ood': 0.7638152837753296}, {'ood': 0.7691143155097961}, {'ood': 0.7759273052215576}, {'ood': 0.6813020706176758}, {'ood': 0.7255866527557373}, {'ood': 0.7853898406028748}, {'ood': 0.8126419186592102}]\n",
      "[{'ood': 0.6935763955116272}, {'ood': 0.6657986044883728}, {'ood': 0.7135416865348816}, {'ood': 0.7126736044883728}, {'ood': 0.7526041865348816}, {'ood': 0.7421875}, {'ood': 0.8064236044883728}, {'ood': 0.7109375}, {'ood': 0.7439236044883728}, {'ood': 0.7196180820465088}]\n",
      "[{'ood': 0.7342271208763123}, {'ood': 0.6837539672851562}, {'ood': 0.7097792029380798}, {'ood': 0.6861198544502258}, {'ood': 0.6624605655670166}, {'ood': 0.6900631189346313}, {'ood': 0.7839116454124451}, {'ood': 0.6908517479896545}, {'ood': 0.7113564610481262}, {'ood': 0.7405362725257874}]\n",
      "[{'ood': tensor(0.0495), 'corr': tensor(0.1439)}, {'ood': tensor(0.0495), 'corr': tensor(0.3359)}, {'ood': tensor(0.0495), 'corr': tensor(0.2612)}, {'ood': tensor(0.0495), 'corr': tensor(0.2867)}, {'ood': tensor(0.0495), 'corr': tensor(0.2852)}, {'ood': tensor(0.0495), 'corr': tensor(0.2379)}, {'ood': tensor(0.0495), 'corr': tensor(0.3470)}, {'ood': tensor(0.0495), 'corr': tensor(0.3086)}, {'ood': tensor(0.0495), 'corr': tensor(0.3371)}, {'ood': tensor(0.0495), 'corr': tensor(0.3556)}]\n",
      "[{'ood': tensor(0.2332), 'corr': tensor(0.5885)}, {'ood': tensor(0.3165), 'corr': tensor(0.5676)}, {'ood': tensor(0.3033), 'corr': tensor(0.5652)}, {'ood': tensor(0.2600), 'corr': tensor(0.5525)}, {'ood': tensor(0.2842), 'corr': tensor(0.5208)}, {'ood': tensor(0.2541), 'corr': tensor(0.6153)}, {'ood': tensor(0.2313), 'corr': tensor(0.5741)}, {'ood': tensor(0.1735), 'corr': tensor(0.5959)}, {'ood': tensor(0.3493), 'corr': tensor(0.6116)}, {'ood': tensor(0.2404), 'corr': tensor(0.4745)}]\n",
      "[{'ood': tensor(0.1590), 'corr': tensor(0.4303)}, {'ood': tensor(0.1696), 'corr': tensor(0.4596)}, {'ood': tensor(0.2313), 'corr': tensor(0.4068)}, {'ood': tensor(0.1809), 'corr': tensor(0.3644)}, {'ood': tensor(0.1855), 'corr': tensor(0.4116)}, {'ood': tensor(0.2116), 'corr': tensor(0.4696)}, {'ood': tensor(0.1302), 'corr': tensor(0.4597)}, {'ood': tensor(0.1105), 'corr': tensor(0.4962)}, {'ood': tensor(0.1730), 'corr': tensor(0.4173)}, {'ood': tensor(0.1457), 'corr': tensor(0.4395)}]\n",
      "[{'ood': tensor(0.1953), 'corr': tensor(0.4885)}, {'ood': tensor(0.2266), 'corr': tensor(0.4689)}, {'ood': tensor(0.1918), 'corr': tensor(0.5474)}, {'ood': tensor(0.1354), 'corr': tensor(0.5499)}, {'ood': tensor(0.1710), 'corr': tensor(0.5094)}, {'ood': tensor(0.2717), 'corr': tensor(0.4519)}, {'ood': tensor(0.2109), 'corr': tensor(0.4166)}, {'ood': tensor(0.1667), 'corr': tensor(0.5107)}, {'ood': tensor(0.2170), 'corr': tensor(0.4549)}, {'ood': tensor(0.2656), 'corr': tensor(0.5099)}]\n",
      "[{'ood': tensor(0.2776), 'corr': tensor(0.5613)}, {'ood': tensor(0.2326), 'corr': tensor(0.5858)}, {'ood': tensor(0.1333), 'corr': tensor(0.6819)}, {'ood': tensor(0.2311), 'corr': tensor(0.3900)}, {'ood': tensor(0.2374), 'corr': tensor(0.5402)}, {'ood': tensor(0.2350), 'corr': tensor(0.5465)}, {'ood': tensor(0.2019), 'corr': tensor(0.5487)}, {'ood': tensor(0.2240), 'corr': tensor(0.6490)}, {'ood': tensor(0.2043), 'corr': tensor(0.6596)}, {'ood': tensor(0.2547), 'corr': tensor(0.5860)}]\n"
     ]
    }
   ],
   "source": [
    "df_ood_mms = pd.DataFrame(columns=['method', 'Domain', 'run', 'Accuracy'])\n",
    "for method in ['gonzales', 'latents', 'entropy', 'ensemble_tmp', 'ae']:\n",
    "    for scanner in ['val', 'A', 'B', 'C','D']:\n",
    "        \n",
    "        if 'ensemble' in method:\n",
    "            task = 'ood'\n",
    "        else:\n",
    "            task = 'both'\n",
    "        tmp = get_image_data(method=method, \n",
    "                             net_out='mms', \n",
    "                             task=task, \n",
    "                             scanner=str(scanner))\n",
    "\n",
    "        if scanner == 'A':\n",
    "            domain = 'Siemens \\n'\n",
    "        if scanner == 'B':\n",
    "            domain = 'Philips'\n",
    "        if scanner == 'C':\n",
    "            domain = 'GE'\n",
    "        if scanner == 'D':\n",
    "            domain = 'Canon'\n",
    "        if scanner == 'val':\n",
    "            continue\n",
    "            \n",
    "        if method == 'gonzales':\n",
    "            m = 'Pooling Mahalanobis'\n",
    "        if method == 'entropy':\n",
    "            m = 'Entropy - Single Net'\n",
    "        if method == 'latents':\n",
    "            m = 'Latent Mahalanobis'\n",
    "        if method == 'ae':\n",
    "            m = 'Sample Distortion'\n",
    "        if method == 'ensemble_tmp':\n",
    "            m = 'Entropy - Ensemble'\n",
    "            \n",
    "        for i, ood in enumerate(tmp['ood']):\n",
    "            row = {'Domain': domain, \n",
    "                   'method': m, \n",
    "                   'run': i, \n",
    "                   'Accuracy': ood.numpy().item()}\n",
    "\n",
    "            df_ood_mms = df_ood_mms.append(row, ignore_index=True)"
   ]
  },
  {
   "cell_type": "code",
   "execution_count": 61,
   "id": "250f423f",
   "metadata": {},
   "outputs": [
    {
     "data": {
      "image/png": "[encoded data removed]",
      "text/plain": [
       "<Figure size 360x360 with 1 Axes>"
      ]
     },
     "metadata": {
      "needs_background": "light"
     },
     "output_type": "display_data"
    }
   ],
   "source": [
    "fig, axes = plt.subplots(1, 1, figsize=(5,5),  gridspec_kw={'hspace': 0})\n",
    "axes.set_title('M&M - OOD Detection')\n",
    "\n",
    "sns.boxplot(ax=axes, x=\"Domain\", y=\"Accuracy\",\n",
    "        hue=\"method\", data=df_ood_mms)\n",
    "axes.legend().set_title('')\n",
    "axes.set_xlabel(\"\")\n",
    "axes.set_ylim(-0.1, 1.05)\n",
    "axes.yaxis.grid(True, alpha=0.5, zorder=0)\n",
    "fig.savefig(\"../../results-tmp/results/eval/mms_ood.jpg\", bbox_inches='tight', dpi=400)"
   ]
  },
  {
   "cell_type": "code",
   "execution_count": null,
   "id": "dc8a8663",
   "metadata": {},
   "outputs": [],
   "source": []
  }
 ],
 "metadata": {
  "kernelspec": {
   "display_name": "Python 3 (ipykernel)",
   "language": "python",
   "name": "python3"
  },
  "language_info": {
   "codemirror_mode": {
    "name": "ipython",
    "version": 3
   },
   "file_extension": ".py",
   "mimetype": "text/x-python",
   "name": "python",
   "nbconvert_exporter": "python",
   "pygments_lexer": "ipython3",
   "version": "3.8.13"
  }
 },
 "nbformat": 4,
 "nbformat_minor": 5
}
