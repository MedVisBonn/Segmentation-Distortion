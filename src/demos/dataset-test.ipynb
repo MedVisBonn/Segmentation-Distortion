{
 "cells": [
  {
   "cell_type": "code",
   "execution_count": 1,
   "id": "5cab825b",
   "metadata": {},
   "outputs": [
    {
     "name": "stdout",
     "output_type": "stream",
     "text": [
      "\n",
      "\n",
      "Please cite the following paper when using nnUNet:\n",
      "\n",
      "Isensee, F., Jaeger, P.F., Kohl, S.A.A. et al. \"nnU-Net: a self-configuring method for deep learning-based biomedical image segmentation.\" Nat Methods (2020). https://doi.org/10.1038/s41592-020-01008-z\n",
      "\n",
      "\n",
      "If you have questions or suggestions, feel free to open an issue at https://github.com/MIC-DKFZ/nnUNet\n",
      "\n"
     ]
    }
   ],
   "source": [
    "import sys\n",
    "sys.path.append(\"../\")\n",
    "\n",
    "from dataset import CalgaryCampinasDataset, ACDCDataset, MNMDataset"
   ]
  },
  {
   "cell_type": "code",
   "execution_count": 3,
   "id": "6fc9f2d9",
   "metadata": {},
   "outputs": [
    {
     "name": "stdout",
     "output_type": "stream",
     "text": [
      "loading dataset\n",
      "loading all case properties\n",
      "loading dataset\n",
      "loading all case properties\n"
     ]
    }
   ],
   "source": [
    "### - datasets\n",
    "debug = True\n",
    "\n",
    "# Calgary\n",
    "root      = '../../'\n",
    "data      = 'data/conp-dataset/projects/calgary-campinas/CC359/Reconstructed/'\n",
    "data_path = root + data\n",
    "# Calgary Dataset - volume wise\n",
    "calgary_set = CalgaryCampinasDataset(data_path=data_path, site=1, augment=False, \n",
    "                                     normalize=True, volume_wise=True, debug=debug)\n",
    "\n",
    "# ACDC Dataset - slice wise\n",
    "acdc_dataset = ACDCDataset(data='train', debug=debug)\n",
    "\n",
    "# M&M Dataset - slice wise\n",
    "mnm_dataset = MNMDataset(vendor='A', debug=debug)"
   ]
  },
  {
   "cell_type": "code",
   "execution_count": null,
   "id": "527ade11",
   "metadata": {},
   "outputs": [],
   "source": []
  }
 ],
 "metadata": {
  "kernelspec": {
   "display_name": "Python 3 (ipykernel)",
   "language": "python",
   "name": "python3"
  },
  "language_info": {
   "codemirror_mode": {
    "name": "ipython",
    "version": 3
   },
   "file_extension": ".py",
   "mimetype": "text/x-python",
   "name": "python",
   "nbconvert_exporter": "python",
   "pygments_lexer": "ipython3",
   "version": "3.8.13"
  }
 },
 "nbformat": 4,
 "nbformat_minor": 5
}
