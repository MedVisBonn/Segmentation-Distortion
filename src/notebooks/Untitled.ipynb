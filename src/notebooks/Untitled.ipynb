{
 "cells": [
  {
   "cell_type": "code",
   "execution_count": 3,
   "id": "873ce475",
   "metadata": {},
   "outputs": [
    {
     "data": {
      "image/png": "[encoded data removed]",
      "text/plain": [
       "<Figure size 432x288 with 3 Axes>"
      ]
     },
     "metadata": {
      "needs_background": "light"
     },
     "output_type": "display_data"
    }
   ],
   "source": [
    "# imports\n",
    "import torch\n",
    "import matplotlib.pyplot as plt\n",
    "\n",
    "# blank prompt map and number of samples\n",
    "prompts = torch.zeros((64,64))\n",
    "num_samples = 100\n",
    "\n",
    "# Define some mask. Interpret entries in masks as weights for sampling. \n",
    "# In this case, uniform sampling from a sqaure in the middle.\n",
    "mask = torch.zeros_like(prompts)\n",
    "mask[16:48, 16:48] = 1\n",
    "\n",
    "# (temporarily) flatten the mask and sample inside of it\n",
    "idx = mask.view(-1).multinomial(\n",
    "    num_samples=num_samples, \n",
    "    replacement=False\n",
    ")\n",
    "# (temporarily) flatten the prompts and fill in the sampled pixels\n",
    "prompts.view(-1)[idx] = 1\n",
    "\n",
    "# plotting\n",
    "fig, axes = plt.subplots(1, 3)\n",
    "axes[0].imshow(torch.zeros((64,64)))\n",
    "axes[0].set_title('Empty Prompt')\n",
    "axes[1].imshow(mask)\n",
    "axes[1].set_title('Mask')\n",
    "axes[2].imshow(prompts)\n",
    "axes[2].set_title('Sampled Prompt')\n",
    "plt.show()\n"
   ]
  },
  {
   "cell_type": "code",
   "execution_count": 6,
   "id": "8103f8ec",
   "metadata": {},
   "outputs": [
    {
     "data": {
      "text/plain": [
       "torch.Size([1000, 4096])"
      ]
     },
     "execution_count": 6,
     "metadata": {},
     "output_type": "execute_result"
    }
   ],
   "source": [
    "### batching\n",
    "batch_size = 1000\n",
    "num_samples = 100\n",
    "\n",
    "prompts = torch.zeros(batch_size, 64, 64)\n",
    "masks = torch.zeros_like(prompts)\n",
    "masks[:, 16:48, 16:48] = 1\n",
    "idxs  = masks.view(batch_size, -1).multinomial(\n",
    "    num_samples=num_samples, \n",
    "    replacement=False\n",
    ")\n",
    "\n",
    "prompts.view(batch_size, -1).scatter_(1, idxs, 1)"
   ]
  }
 ],
 "metadata": {
  "kernelspec": {
   "display_name": "Python 3 (ipykernel)",
   "language": "python",
   "name": "python3"
  },
  "language_info": {
   "codemirror_mode": {
    "name": "ipython",
    "version": 3
   },
   "file_extension": ".py",
   "mimetype": "text/x-python",
   "name": "python",
   "nbconvert_exporter": "python",
   "pygments_lexer": "ipython3",
   "version": "3.8.13"
  }
 },
 "nbformat": 4,
 "nbformat_minor": 5
}
