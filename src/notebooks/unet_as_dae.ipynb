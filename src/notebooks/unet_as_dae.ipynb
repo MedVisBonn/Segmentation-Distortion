{
 "cells": [
  {
   "cell_type": "code",
   "execution_count": 1,
   "metadata": {},
   "outputs": [],
   "source": [
    "from monai.networks.nets import UNet"
   ]
  },
  {
   "cell_type": "code",
   "execution_count": 63,
   "metadata": {},
   "outputs": [
    {
     "name": "stdout",
     "output_type": "stream",
     "text": [
      "700996\n"
     ]
    }
   ],
   "source": [
    "model = UNet(\n",
    "    spatial_dims=2,\n",
    "    in_channels=64,\n",
    "    out_channels=64,\n",
    "    channels=(64, 128, 256),\n",
    "    strides=(2, 2),\n",
    "    num_res_units=0, \n",
    "    up_kernel_size=3\n",
    ")\n",
    "\n",
    "print(sum(p.numel() for p in model.parameters()))"
   ]
  },
  {
   "cell_type": "code",
   "execution_count": 15,
   "metadata": {},
   "outputs": [
    {
     "name": "stdout",
     "output_type": "stream",
     "text": [
      "2431121\n"
     ]
    }
   ],
   "source": [
    "model = UNet(\n",
    "    spatial_dims=2,\n",
    "    in_channels=32,\n",
    "    out_channels=32,\n",
    "    channels=(32, 64, 128, 256),\n",
    "    strides=(2, 2, 2),\n",
    "    num_res_units=3, \n",
    "    up_kernel_size=3\n",
    ")\n",
    "\n",
    "print(sum(p.numel() for p in model.parameters()))"
   ]
  },
  {
   "cell_type": "code",
   "execution_count": 14,
   "metadata": {},
   "outputs": [
    {
     "name": "stdout",
     "output_type": "stream",
     "text": [
      "2421974\n"
     ]
    }
   ],
   "source": [
    "model = UNet(\n",
    "    spatial_dims=2,\n",
    "    in_channels=16,\n",
    "    out_channels=16,\n",
    "    channels=(16, 32, 64, 128, 256),\n",
    "    strides=(2, 2, 2, 2),\n",
    "    num_res_units=3, \n",
    "    up_kernel_size=3\n",
    ")\n",
    "\n",
    "print(sum(p.numel() for p in model.parameters()))"
   ]
  },
  {
   "cell_type": "code",
   "execution_count": 52,
   "metadata": {},
   "outputs": [
    {
     "name": "stdout",
     "output_type": "stream",
     "text": [
      "664770\n"
     ]
    }
   ],
   "source": [
    "model = UNet(\n",
    "    spatial_dims=2,\n",
    "    in_channels=8,\n",
    "    out_channels=8,\n",
    "    channels=[8, 16, 32, 64, 128, 256],\n",
    "    strides=(2, 2, 2, 2, 2),\n",
    "    num_res_units=0, \n",
    "    up_kernel_size=3\n",
    ")\n",
    "\n",
    "print(sum(p.numel() for p in model.parameters()))"
   ]
  },
  {
   "cell_type": "code",
   "execution_count": 40,
   "metadata": {},
   "outputs": [
    {
     "data": {
      "text/plain": [
       "1"
      ]
     },
     "execution_count": 40,
     "metadata": {},
     "output_type": "execute_result"
    }
   ],
   "source": [
    "import numpy as np\n",
    "import torch\n",
    "num = 8\n",
    "i = int((np.log2(256) / np.log2(num)) / 2)\n",
    "i"
   ]
  },
  {
   "cell_type": "code",
   "execution_count": 32,
   "metadata": {},
   "outputs": [
    {
     "data": {
      "text/plain": [
       "8.0"
      ]
     },
     "execution_count": 32,
     "metadata": {},
     "output_type": "execute_result"
    }
   ],
   "source": [
    "np.log2(256)"
   ]
  },
  {
   "cell_type": "code",
   "execution_count": 45,
   "metadata": {},
   "outputs": [],
   "source": [
    "from math import log2"
   ]
  },
  {
   "cell_type": "code",
   "execution_count": 50,
   "metadata": {},
   "outputs": [
    {
     "data": {
      "text/plain": [
       "<generator object <genexpr> at 0x7f4ada8d1430>"
      ]
     },
     "execution_count": 50,
     "metadata": {},
     "output_type": "execute_result"
    }
   ],
   "source": [
    "[2**(i+1) for i in range(int(log2(num)), 8)]"
   ]
  },
  {
   "cell_type": "code",
   "execution_count": 34,
   "metadata": {},
   "outputs": [
    {
     "data": {
      "text/plain": [
       "32768"
      ]
     },
     "execution_count": 34,
     "metadata": {},
     "output_type": "execute_result"
    }
   ],
   "source": [
    "8**(5)"
   ]
  },
  {
   "cell_type": "code",
   "execution_count": 53,
   "metadata": {},
   "outputs": [],
   "source": [
    "from omegaconf import OmegaConf\n",
    "\n",
    "cfg1 = OmegaConf.create({'a': 1})\n",
    "\n",
    "cfg2 = OmegaConf.create({'a': 2})"
   ]
  },
  {
   "cell_type": "code",
   "execution_count": 54,
   "metadata": {},
   "outputs": [
    {
     "data": {
      "text/plain": [
       "{'a': 2}"
      ]
     },
     "execution_count": 54,
     "metadata": {},
     "output_type": "execute_result"
    }
   ],
   "source": [
    "OmegaConf.merge(cfg1, cfg2)"
   ]
  },
  {
   "cell_type": "code",
   "execution_count": 58,
   "metadata": {},
   "outputs": [],
   "source": [
    "dae_config   = OmegaConf.load(f'../configs/dae_config.yaml')\n",
    "basic_config = OmegaConf.load(f'../configs/basic_config.yaml')\n"
   ]
  },
  {
   "cell_type": "code",
   "execution_count": 62,
   "metadata": {},
   "outputs": [
    {
     "data": {
      "text/plain": [
       "{'model': 'unet', 'shortcut0': {'channel': 8, 'spatial': 256, 'latent': 256, 'depth': 3, 'block': 4}, 'shortcut1': {'channel': 16, 'spatial': 128, 'latent': 256, 'depth': 3, 'block': 4}, 'shortcut2': {'channel': 32, 'spatial': 64, 'latent': 256, 'depth': 3, 'block': 4}, 'up3': {'channel': 64, 'spatial': 32, 'latent': 256, 'depth': 3, 'block': 4}}"
      ]
     },
     "execution_count": 62,
     "metadata": {},
     "output_type": "execute_result"
    }
   ],
   "source": [
    "OmegaConf.merge(dae_config.arch, basic_config.arch)"
   ]
  },
  {
   "cell_type": "code",
   "execution_count": null,
   "metadata": {},
   "outputs": [],
   "source": []
  }
 ],
 "metadata": {
  "kernelspec": {
   "display_name": "default",
   "language": "python",
   "name": "python3"
  },
  "language_info": {
   "codemirror_mode": {
    "name": "ipython",
    "version": 3
   },
   "file_extension": ".py",
   "mimetype": "text/x-python",
   "name": "python",
   "nbconvert_exporter": "python",
   "pygments_lexer": "ipython3",
   "version": "3.8.13"
  }
 },
 "nbformat": 4,
 "nbformat_minor": 2
}
