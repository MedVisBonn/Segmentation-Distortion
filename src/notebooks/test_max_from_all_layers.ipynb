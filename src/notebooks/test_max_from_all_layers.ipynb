{
 "cells": [
  {
   "cell_type": "code",
   "execution_count": 1,
   "metadata": {
    "metadata": {}
   },
   "outputs": [],
   "source": [
    "### Set CUDA device\n",
    "import os\n",
    "\n",
    "os.environ['CUDA_VISIBLE_DEVICES'] = '7'"
   ]
  },
  {
   "cell_type": "code",
   "execution_count": 2,
   "metadata": {
    "metadata": {}
   },
   "outputs": [
    {
     "name": "stdout",
     "output_type": "stream",
     "text": [
      "nnUNet_raw_data_base is not defined and nnU-Net can only be used on data for which preprocessed files are already present on your system. nnU-Net cannot be used for experiment planning and preprocessing like this. If this is not intended, please read documentation/setting_up_paths.md for information on how to set this up properly.\n",
      "RESULTS_FOLDER is not defined and nnU-Net cannot be used for training or inference. If this is not intended behavior, please read documentation/setting_up_paths.md for information on how to set this up.\n"
     ]
    }
   ],
   "source": [
    "\n",
    "from typing import (\n",
    "    Dict, \n",
    "    Union, \n",
    "    List\n",
    ")\n",
    "import numpy as np\n",
    "import pandas as pd\n",
    "import torch\n",
    "from torch import Tensor, nn\n",
    "from torch.utils.data import Dataset, DataLoader\n",
    "import torch.nn.functional as F\n",
    "import sys\n",
    "from omegaconf import OmegaConf\n",
    "from sklearn.metrics import auc\n",
    "import matplotlib.pyplot as plt\n",
    "import seaborn as sns\n",
    "from typing import List, Dict\n",
    "from torchvision.transforms import GaussianBlur\n",
    "from torchmetrics.functional.classification import dice\n",
    "from sklearn.covariance import LedoitWolf\n",
    "from torchmetrics.classification import BinaryPrecisionRecallCurve\n",
    "\n",
    "## Augmentations\n",
    "from batchgenerators.transforms.noise_transforms import augment_gaussian_blur\n",
    "\n",
    "\n",
    "sys.path.append('../')\n",
    "from data_utils import get_eval_data\n",
    "from model.unet import get_unet\n",
    "from utils import  epoch_average, UMapGenerator\n",
    "from model.mahalanobis_adatper import (\n",
    "    get_pooling_mahalanobis_detector, \n",
    "    get_batchnorm_mahalanobis_detector\n",
    ")\n",
    "from model.wrapper import PoolingMahalanobisWrapper, BatchNormMahalanobisWrapper\n",
    "\n",
    "# from losses import (\n",
    "#     DiceScoreCalgary, \n",
    "#     DiceScoreMMS\n",
    "# )"
   ]
  },
  {
   "cell_type": "code",
   "execution_count": 3,
   "metadata": {
    "metadata": {}
   },
   "outputs": [],
   "source": [
    "### Load basic config\n",
    "cfg = OmegaConf.load('../configs/basic_config_venusberg.yaml')\n",
    "OmegaConf.update(cfg, 'run.iteration', 0)"
   ]
  },
  {
   "cell_type": "code",
   "execution_count": 4,
   "metadata": {
    "metadata": {}
   },
   "outputs": [],
   "source": [
    "### Set dataset, either brain or heart\n",
    "DATA_KEY = 'heart'\n",
    "OmegaConf.update(cfg, 'run.data_key', DATA_KEY)\n",
    "\n",
    "\n",
    "### get model\n",
    "# available models:\n",
    "#     - default-8\n",
    "#     - default-16\n",
    "#     - monai-8-4-4\n",
    "#     - monai-16-4-4\n",
    "#     - monai-16-4-8\n",
    "#     - monai-32-4-4\n",
    "#     - monai-64-4-4\n",
    "#     - swinunetr\n",
    "\n",
    "\n",
    "unet_name = 'default-8'\n",
    "postfix = '' # '_no-blurring'\n",
    "args = unet_name.split('-')\n",
    "cfg.unet[DATA_KEY].pre = unet_name + postfix\n",
    "cfg.unet[DATA_KEY].arch = args[0]\n",
    "cfg.unet[DATA_KEY].n_filters_init = int(args[1])\n",
    "\n",
    "if args[0] == 'monai':\n",
    "    cfg.unet[DATA_KEY].depth = int(args[2])\n",
    "    cfg.unet[DATA_KEY].num_res_units = int(args[3])\n",
    "\n",
    "\n",
    "unet, state_dict = get_unet(\n",
    "    cfg,\n",
    "    update_cfg_with_swivels=False,\n",
    "    return_state_dict=True)\n",
    "unet.load_state_dict(state_dict)\n",
    "_ = unet.cuda()"
   ]
  },
  {
   "cell_type": "code",
   "execution_count": 5,
   "metadata": {
    "metadata": {}
   },
   "outputs": [
    {
     "name": "stdout",
     "output_type": "stream",
     "text": [
      "loading dataset\n",
      "loading all case properties\n",
      "loading dataset\n",
      "loading all case properties\n",
      "\n",
      "Available datasets are: ['train', 'A']\n"
     ]
    }
   ],
   "source": [
    "# Set debug mode for only a small fraction of the datasets. Speeds up this cell by alot\n",
    "cfg.debug = False\n",
    "\n",
    "# update config with default values\n",
    "OmegaConf.update(\n",
    "    cfg, \n",
    "    'eval',\n",
    "    OmegaConf.load('../configs/eval/unet_config.yaml')\n",
    ")\n",
    "\n",
    "# Wether and how you want to subset in case of Brain data. WARNING:\n",
    "# After subsetting the eval below will not work with surface\n",
    "# Dice anymore, because volumes are fragmented. \n",
    "APPLY_SUBSETTING = True\n",
    "OmegaConf.update(cfg, 'eval.data.subset.apply', APPLY_SUBSETTING)\n",
    "subset_params = {\n",
    "    'n_cases': 256,  # selects at most so many cases\n",
    "    'fraction': 0.1, # selects from the 10% worst cases w.r.t to a model\n",
    "}\n",
    "OmegaConf.update(\n",
    "    cfg, \n",
    "    'eval.data.subset.params', \n",
    "    OmegaConf.create(subset_params)\n",
    ")\n",
    "\n",
    "if cfg.eval.data.subset.apply:\n",
    "    subset_dict = OmegaConf.to_container(\n",
    "        cfg.eval.data.subset.params, \n",
    "        resolve=True, \n",
    "        throw_on_missing=True\n",
    "    )\n",
    "    subset_dict['unet'] = unet\n",
    "else:\n",
    "    subset_dict = None\n",
    "\n",
    "### select the datasets within the domain\n",
    "# get training data\n",
    "cfg.eval.data.training = True\n",
    "# get validation data\n",
    "cfg.eval.data.validation = False\n",
    "# get testing data\n",
    "# Options for Brain are any subset of [1, 2, 3, 4, 5] or 'all' \n",
    "# Options for Heart are any subset of ['A', 'B', 'C', 'D'] or 'all'\n",
    "cfg.eval.data.testing =  ['A'] #\n",
    "\n",
    "\n",
    "data = get_eval_data(\n",
    "    train_set=cfg.eval.data.training,\n",
    "    val_set=cfg.eval.data.validation,\n",
    "    test_sets=cfg.eval.data.testing,    \n",
    "    cfg=cfg,\n",
    "    subset_dict=subset_dict\n",
    ")\n",
    "\n",
    "print(f'\\nAvailable datasets are: {list(data.keys())}')"
   ]
  },
  {
   "cell_type": "code",
   "execution_count": 6,
   "metadata": {
    "metadata": {}
   },
   "outputs": [],
   "source": [
    "dataloader = DataLoader(\n",
    "    data['train'],\n",
    "    batch_size=32,\n",
    "    shuffle=False,\n",
    "    num_workers=4,\n",
    "    drop_last=False,\n",
    ")"
   ]
  },
  {
   "cell_type": "code",
   "execution_count": 7,
   "metadata": {},
   "outputs": [],
   "source": [
    "def get_precision_recall_iterated_mahalanobis(\n",
    "    unet: nn.Module,\n",
    "    iid_loader: DataLoader,\n",
    "    dataset: Dataset, \n",
    "    net_out: str,\n",
    "    swivels: List[str],\n",
    "    umap: str,\n",
    "    n_taus: Union[str, int] = 'auto',\n",
    "    device=['cuda:0', 'cpu']\n",
    "):\n",
    "    \n",
    "    \n",
    "    batch_size = 32\n",
    "\n",
    "    dataloader = DataLoader(\n",
    "        dataset, \n",
    "        batch_size=batch_size, \n",
    "        shuffle=False, \n",
    "        drop_last=True\n",
    "    )\n",
    "\n",
    "    umap_generator = UMapGenerator(\n",
    "        method=umap,\n",
    "        net_out=net_out,\n",
    "    ).to(device[0])\n",
    "\n",
    "    \n",
    "    errmaps = []\n",
    "\n",
    "    for i, swivel in enumerate(swivels):\n",
    "\n",
    "        # init mahalanobis detector\n",
    "        model = get_pooling_mahalanobis_detector(\n",
    "            swivels=[swivel],\n",
    "            unet=unet,\n",
    "            pool='none',\n",
    "            sigma_algorithm='diagonal',\n",
    "            fit='raw',\n",
    "            iid_data=iid_loader, \n",
    "            transform=True,\n",
    "            dist_fn='squared_mahalanobis',\n",
    "            device='cuda:0',\n",
    "            lr=5e-4\n",
    "        )\n",
    "        model.eval()\n",
    "        # collect umaps\n",
    "        umaps_new = []\n",
    "        for _, batch in enumerate(dataloader):\n",
    "\n",
    "            input_ = batch['input'].to(device[0])\n",
    "            gt = batch['target'].to(device[0])\n",
    "            gt[gt == -1] = 0\n",
    "            model.set_transform(False)\n",
    "            output_original = model(input_)\n",
    "            model.set_transform(True)\n",
    "            output_transformed = model(input_)\n",
    "            if i == 0:\n",
    "                if net_out == 'brain':\n",
    "                    segmap = (torch.sigmoid(output_original) > 0.5) * 1\n",
    "                    errmap = (gt != segmap).float()\n",
    "                elif net_out == 'heart':\n",
    "                    segmap = torch.argmax(output_original, dim=1, keepdims=True)\n",
    "                    errmap = (gt != segmap).float()\n",
    "                errmaps.append(errmap.cpu())\n",
    "\n",
    "                \n",
    "            umaps_new.append(\n",
    "                umap_generator(\n",
    "                    torch.cat([output_original, output_transformed], dim=0), \n",
    "                    batch_size=batch_size\n",
    "                ).cpu()\n",
    "            )\n",
    "        \n",
    "        umaps_new = torch.cat(umaps_new, dim=0).flatten() * 10000\n",
    "\n",
    "        if i == 0:\n",
    "            umaps = umaps_new.clone()\n",
    "        else:\n",
    "            # umaps = torch.stack([umaps, umaps_new], dim=0).max(0).values\n",
    "            umaps += umaps_new\n",
    "        \n",
    "    umaps = (umaps - umaps.min()) / (umaps.max() - umaps.min())\n",
    "    errmaps = torch.cat(errmaps, dim=0).flatten().to(torch.uint8)\n",
    "    # in case of manual threshold selection\n",
    "    if n_taus != 'auto':\n",
    "        # taus = np.quantile(umaps, torch.linspace(0, 1, n_taus)**(1/16)).tolist()\n",
    "        taus = np.quantile(umaps, torch.linspace(0, 1, n_taus)).tolist()\n",
    "    elif n_taus == 'auto':\n",
    "        taus = None\n",
    "\n",
    "    # TODO: Change to torcheval once its stable :)\n",
    "    # bprc = torcheval.metrics.BinaryPrecisionRecallCurve()\n",
    "    bprc = BinaryPrecisionRecallCurve(thresholds = taus).to(device[1])\n",
    "    pr = bprc(umaps.to(device[1]), errmaps.to(device[1]))\n",
    "    if device[1] != 'cpu':\n",
    "        pr = tuple(map(lambda x: x.cpu(), pr))\n",
    "\n",
    "    pr_auc = auc(pr[1], pr[0])\n",
    "    # subset precision/recall to 100 points for plotting\n",
    "    # we find indices along the x axis (recall) such that they\n",
    "    # have roughly equal distance to each other and select the \n",
    "    # corresponding y values (precision)\n",
    "    p, r, _= pr  \n",
    "    # find indices for sorting in recall\n",
    "    indices = np.argsort(r)\n",
    "    # sort precision and recall similarly\n",
    "    r_sorted, p_sorted = (r[indices], p[indices])\n",
    "    # select target values for recall\n",
    "    target_values = np.linspace(r_sorted[0], r_sorted[-1], 100)\n",
    "    # find best matches in sorted recall, that are smaller or equal to the target values\n",
    "    subset_indices = np.abs(r_sorted[None, :] - target_values[:, None]).argmin(axis=1)\n",
    "    # select precision and recall at the best matches\n",
    "    r_sampled, p_sampled = (\n",
    "        r_sorted[subset_indices], \n",
    "        p_sorted[subset_indices]\n",
    "    )\n",
    "\n",
    "    return p_sampled, r_sampled, pr_auc, p, r"
   ]
  },
  {
   "cell_type": "code",
   "execution_count": 8,
   "metadata": {},
   "outputs": [
    {
     "name": "stdout",
     "output_type": "stream",
     "text": [
      "Processing train data\n"
     ]
    },
    {
     "data": {
      "image/png": "[encoded data removed]",
      "text/plain": [
       "<Figure size 640x480 with 1 Axes>"
      ]
     },
     "metadata": {},
     "output_type": "display_data"
    },
    {
     "name": "stdout",
     "output_type": "stream",
     "text": [
      "Processing A data\n"
     ]
    },
    {
     "data": {
      "image/png": "[encoded data removed]",
      "text/plain": [
       "<Figure size 640x480 with 1 Axes>"
      ]
     },
     "metadata": {},
     "output_type": "display_data"
    },
    {
     "name": "stdout",
     "output_type": "stream",
     "text": [
      "Processing B data\n"
     ]
    },
    {
     "data": {
      "image/png": "[encoded data removed]",
      "text/plain": [
       "<Figure size 640x480 with 1 Axes>"
      ]
     },
     "metadata": {},
     "output_type": "display_data"
    },
    {
     "name": "stdout",
     "output_type": "stream",
     "text": [
      "Processing C data\n"
     ]
    },
    {
     "data": {
      "image/png": "[encoded data removed]",
      "text/plain": [
       "<Figure size 640x480 with 1 Axes>"
      ]
     },
     "metadata": {},
     "output_type": "display_data"
    },
    {
     "name": "stdout",
     "output_type": "stream",
     "text": [
      "Processing D data\n"
     ]
    },
    {
     "data": {
      "image/png": "[encoded data removed]",
      "text/plain": [
       "<Figure size 640x480 with 1 Axes>"
      ]
     },
     "metadata": {},
     "output_type": "display_data"
    }
   ],
   "source": [
    "swivels = [layer[0] for layer in unet.named_modules() if 'bn' in layer[0]]\n",
    "\n",
    "for domain in data.keys():\n",
    "    print(f'Processing {domain} data')\n",
    "    p_sampled, r_sampled, pr_auc, p, r = get_precision_recall_iterated_mahalanobis(\n",
    "        unet=unet,\n",
    "        iid_loader=dataloader,\n",
    "        dataset=data[domain],\n",
    "        net_out='heart',\n",
    "        swivels=swivels,\n",
    "        n_taus='auto',\n",
    "        umap='diff_grad',\n",
    "        device=['cuda:0', 'cpu']\n",
    "    )\n",
    "\n",
    "    plt.plot(r_sampled, p_sampled, label=f'{domain} (AUC={pr_auc:.2f})')\n",
    "    plt.legend()\n",
    "    plt.show()"
   ]
  },
  {
   "cell_type": "code",
   "execution_count": null,
   "metadata": {},
   "outputs": [],
   "source": [
    "pr_auc"
   ]
  },
  {
   "cell_type": "code",
   "execution_count": 33,
   "metadata": {},
   "outputs": [
    {
     "name": "stdout",
     "output_type": "stream",
     "text": [
      "PR AUC: 0.3290720582008362\n"
     ]
    },
    {
     "data": {
      "text/plain": [
       "[<matplotlib.lines.Line2D at 0x7fe016944070>]"
      ]
     },
     "execution_count": 33,
     "metadata": {},
     "output_type": "execute_result"
    },
    {
     "data": {
      "image/png": "[encoded data removed]",
      "text/plain": [
       "<Figure size 640x480 with 1 Axes>"
      ]
     },
     "metadata": {},
     "output_type": "display_data"
    }
   ],
   "source": [
    "print(f'PR AUC: {pr_auc}')\n",
    "plt.plot(r_sampled, p_sampled, label='Precision-Recall Curve')"
   ]
  },
  {
   "cell_type": "code",
   "execution_count": 30,
   "metadata": {},
   "outputs": [
    {
     "name": "stdout",
     "output_type": "stream",
     "text": [
      "PR AUC: 0.2833046615123749\n"
     ]
    },
    {
     "data": {
      "text/plain": [
       "[<matplotlib.lines.Line2D at 0x7fe01698cfd0>]"
      ]
     },
     "execution_count": 30,
     "metadata": {},
     "output_type": "execute_result"
    },
    {
     "data": {
      "image/png": "[encoded data removed]",
      "text/plain": [
       "<Figure size 640x480 with 1 Axes>"
      ]
     },
     "metadata": {},
     "output_type": "display_data"
    }
   ],
   "source": [
    "print(f'PR AUC: {pr_auc}')\n",
    "plt.plot(r_sampled, p_sampled, label='Precision-Recall Curve')"
   ]
  },
  {
   "cell_type": "code",
   "execution_count": null,
   "metadata": {},
   "outputs": [],
   "source": []
  },
  {
   "cell_type": "code",
   "execution_count": null,
   "metadata": {},
   "outputs": [],
   "source": []
  },
  {
   "cell_type": "code",
   "execution_count": null,
   "metadata": {},
   "outputs": [],
   "source": []
  },
  {
   "cell_type": "code",
   "execution_count": 122,
   "metadata": {
    "metadata": {}
   },
   "outputs": [],
   "source": [
    "def get_precision_recall_mahalanobis(\n",
    "    model: nn.Module, \n",
    "    dataset: Dataset, \n",
    "    net_out: str,\n",
    "    swivels: List[str],\n",
    "    umap: str,\n",
    "    n_taus: Union[str, int] = 'auto',\n",
    "    device=['cuda:0', 'cpu']\n",
    "):\n",
    "    model.eval()\n",
    "    \n",
    "    batch_size = 32\n",
    "\n",
    "    dataloader = DataLoader(\n",
    "        dataset, \n",
    "        batch_size=batch_size, \n",
    "        shuffle=False, \n",
    "        drop_last=True\n",
    "    )\n",
    "\n",
    "    umap_generator = UMapGenerator(\n",
    "        method=umap,\n",
    "        net_out=net_out,\n",
    "    ).to(device[0])\n",
    "\n",
    "    umaps   = []\n",
    "    errmaps = []\n",
    "\n",
    "    for _, batch in enumerate(dataloader):\n",
    "\n",
    "        input_ = batch['input'].to(device[0])\n",
    "        gt = batch['target'].to(device[0])\n",
    "        gt[gt == -1] = 0\n",
    "        model.set_transform(False)\n",
    "        output_original = model(input_)\n",
    "        model.set_transform(True)\n",
    "\n",
    "        output_transformed = model(input_)\n",
    "\n",
    "        if net_out == 'brain':\n",
    "            segmap = (torch.sigmoid(output_original) > 0.5) * 1\n",
    "            errmap = (gt != segmap).float()\n",
    "        elif net_out == 'heart':\n",
    "            segmap = torch.argmax(output_original, dim=1, keepdims=True)\n",
    "            errmap = (gt != segmap).float()\n",
    "        umaps.append(\n",
    "            umap_generator(\n",
    "                torch.cat([output_original, output_transformed], dim=0), \n",
    "                batch_size=batch_size\n",
    "            ).cpu()\n",
    "        )\n",
    "        errmaps.append(errmap.cpu())\n",
    "\n",
    "    umaps = torch.cat(umaps, dim=0).flatten() * 10000\n",
    "    # print(umaps.min(), umaps.max())\n",
    "    umaps = (umaps - umaps.min()) / (umaps.max() - umaps.min())\n",
    "    errmaps = torch.cat(errmaps, dim=0).flatten().to(torch.uint8)\n",
    "    # in case of manual threshold selection\n",
    "    if n_taus != 'auto':\n",
    "        # taus = np.quantile(umaps, torch.linspace(0, 1, n_taus)**(1/16)).tolist()\n",
    "        taus = np.quantile(umaps, torch.linspace(0, 1, n_taus)).tolist()\n",
    "    elif n_taus == 'auto':\n",
    "        taus = None\n",
    "\n",
    "    # TODO: Change to torcheval once its stable :)\n",
    "    # bprc = torcheval.metrics.BinaryPrecisionRecallCurve()\n",
    "    bprc = BinaryPrecisionRecallCurve(thresholds = taus).to(device[1])\n",
    "    pr = bprc(umaps.to(device[1]), errmaps.to(device[1]))\n",
    "    if device[1] != 'cpu':\n",
    "        pr = tuple(map(lambda x: x.cpu(), pr))\n",
    "\n",
    "    pr_auc = auc(pr[1], pr[0])\n",
    "    # subset precision/recall to 100 points for plotting\n",
    "    # we find indices along the x axis (recall) such that they\n",
    "    # have roughly equal distance to each other and select the \n",
    "    # corresponding y values (precision)\n",
    "    p, r, _= pr  \n",
    "    # find indices for sorting in recall\n",
    "    indices = np.argsort(r)\n",
    "    # sort precision and recall similarly\n",
    "    r_sorted, p_sorted = (r[indices], p[indices])\n",
    "    # select target values for recall\n",
    "    target_values = np.linspace(r_sorted[0], r_sorted[-1], 100)\n",
    "    # find best matches in sorted recall, that are smaller or equal to the target values\n",
    "    subset_indices = np.abs(r_sorted[None, :] - target_values[:, None]).argmin(axis=1)\n",
    "    # select precision and recall at the best matches\n",
    "    r_sampled, p_sampled = (\n",
    "        r_sorted[subset_indices], \n",
    "        p_sorted[subset_indices]\n",
    "    )\n",
    "\n",
    "    return p_sampled, r_sampled, pr_auc, p, r"
   ]
  },
  {
   "cell_type": "code",
   "execution_count": 89,
   "metadata": {
    "metadata": {}
   },
   "outputs": [
    {
     "name": "stdout",
     "output_type": "stream",
     "text": [
      "['init_path.2.conv_path.0.bn', 'init_path.2.conv_path.1.bn', 'init_path.3.conv_path.0.bn', 'init_path.3.conv_path.1.bn', 'init_path.4.conv_path.0.bn', 'init_path.4.conv_path.1.bn', 'down1.3.conv_path.0.bn', 'down1.3.conv_path.1.bn', 'down1.4.conv_path.0.bn', 'down1.4.conv_path.1.bn', 'out_path.0.conv_path.0.bn', 'out_path.0.conv_path.1.bn', 'out_path.1.bn']\n"
     ]
    }
   ],
   "source": [
    "def filter_names_by_group(names, groups):\n",
    "    # Create a dictionary to hold the names categorized by group\n",
    "    grouped_names = {}\n",
    "\n",
    "    # Loop over each name in the list\n",
    "    for name in names:\n",
    "        # Split the name on the dot and take the first part as the group\n",
    "        group_key = name.split('.')[0]\n",
    "\n",
    "        # If the group_key is one of the requested groups, add the name to the corresponding list in the dictionary\n",
    "        if group_key in groups:\n",
    "            if group_key not in grouped_names:\n",
    "                grouped_names[group_key] = []\n",
    "            grouped_names[group_key].append(name)\n",
    "\n",
    "    # Prepare the result list by aggregating all names from requested groups\n",
    "    result_names = []\n",
    "    for group in groups:\n",
    "        if group in grouped_names:\n",
    "            result_names.extend(grouped_names[group])\n",
    "\n",
    "    return result_names\n"
   ]
  },
  {
   "cell_type": "code",
   "execution_count": 123,
   "metadata": {
    "metadata": {}
   },
   "outputs": [
    {
     "name": "stdout",
     "output_type": "stream",
     "text": [
      "D 0.19872000813484192\n"
     ]
    }
   ],
   "source": [
    "swivels = [layer[0] for layer in unet.named_modules() if 'bn' in layer[0]]\n",
    "# swivels = [layer[0] for layer in unet.named_modules()]\n",
    "\n",
    "swivel_selections = []\n",
    "# groups = ['up3']\n",
    "# swivels = filter_names_by_group(swivels, groups)\n",
    "# for group in groups:\n",
    "#     swivel_selections.append(filter_names_by_group(swivels, [group]))\n",
    "# swivel_selections = [\n",
    "#     ['up3.0.conv_path.0.bn'], \n",
    "#     ['up1.0.conv_path.0.bn'],\n",
    "#     ['up2.0.conv_path.0.bn'],\n",
    "#     ['out_path.0.conv_path.0.bn']\n",
    "# ]\n",
    "\n",
    "# swivels=[\n",
    "#     'down2.4.conv_path.1.bn',\n",
    "#     'down2.5.conv_path.1.bn',\n",
    "#     'up3.0.conv_path.0.bn',\n",
    "#     'up1.1.conv_path.0.bn',\n",
    "#     'down1.5.conv_path.1.bn',\n",
    "#     'down3.4.conv_path.1.bn',\n",
    "# ]\n",
    "# for swivel_selection in swivel_selections:\n",
    "mahalanobis_detector = get_pooling_mahalanobis_detector(\n",
    "    swivels=swivels,\n",
    "    unet=unet,\n",
    "    pool='none',\n",
    "    sigma_algorithm='diagonal',\n",
    "    fit='raw',\n",
    "    iid_data=dataloader,\n",
    "    transform=True,\n",
    "    dist_fn='squared_mahalanobis',\n",
    "    device='cuda:0',\n",
    "    lr=5e-4\n",
    ")\n",
    "for domain in ['D']:\n",
    "\n",
    "    p_sampled, r_sampled, pr_auc, umaps = get_precision_recall_mahalanobis(\n",
    "        model=mahalanobis_detector,\n",
    "        dataset=data[domain],\n",
    "        net_out=DATA_KEY,\n",
    "        umap='diff_grad',\n",
    "        n_taus='auto',\n",
    "        device=['cuda:0', 'cpu']\n",
    "    )\n",
    "    print(domain, pr_auc)\n",
    "    # plt.plot(r_sampled, p_sampled)\n",
    "    # plt.show()"
   ]
  },
  {
   "cell_type": "code",
   "execution_count": 7,
   "metadata": {},
   "outputs": [
    {
     "name": "stdout",
     "output_type": "stream",
     "text": [
      "tensor(8257) torch.Size([4194304])\n"
     ]
    }
   ],
   "source": [
    "swivels = [layer[0] for layer in unet.named_modules() if 'bn' in layer[0]]\n",
    "\n",
    "\n",
    "mahalanobis_detector = get_pooling_mahalanobis_detector(\n",
    "    swivels=['down2.3.conv_path.1.bn'],\n",
    "    unet=unet,\n",
    "    pool='none',\n",
    "    sigma_algorithm='diagonal',\n",
    "    fit='raw',\n",
    "    iid_data=dataloader,\n",
    "    transform=True,\n",
    "    dist_fn='squared_mahalanobis',\n",
    "    device='cuda:0',\n",
    "    lr=5e-4\n",
    ")"
   ]
  },
  {
   "cell_type": "code",
   "execution_count": 9,
   "metadata": {},
   "outputs": [
    {
     "data": {
      "text/plain": [
       "torch.Size([1518, 1, 131072])"
      ]
     },
     "execution_count": 9,
     "metadata": {},
     "output_type": "execute_result"
    }
   ],
   "source": [
    "mahalanobis_detector.adapters[0].training_representations.shape"
   ]
  },
  {
   "cell_type": "code",
   "execution_count": 10,
   "metadata": {},
   "outputs": [
    {
     "data": {
      "text/plain": [
       "4096.0"
      ]
     },
     "execution_count": 10,
     "metadata": {},
     "output_type": "execute_result"
    }
   ],
   "source": [
    "131072 / 32"
   ]
  }
 ],
 "metadata": {
  "kernelspec": {
   "display_name": "Python 3",
   "language": "python",
   "name": "python3"
  },
  "language_info": {
   "codemirror_mode": {
    "name": "ipython",
    "version": 3
   },
   "file_extension": ".py",
   "mimetype": "text/x-python",
   "name": "python",
   "nbconvert_exporter": "python",
   "pygments_lexer": "ipython3",
   "version": "3.10.12"
  }
 },
 "nbformat": 4,
 "nbformat_minor": 2
}
