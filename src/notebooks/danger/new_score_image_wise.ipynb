{
 "cells": [
  {
   "cell_type": "code",
   "execution_count": 97,
   "id": "291541b2",
   "metadata": {},
   "outputs": [],
   "source": [
    "## General dependencies not needed for the modules themselves\n",
    "\n",
    "import os, sys\n",
    "sys.path.append('../../')\n",
    "\n",
    "import warnings\n",
    "import collections\n",
    "from random import sample, seed\n",
    "\n",
    "import torch\n",
    "from torch import nn, Tensor\n",
    "from torch.utils.data import Dataset, DataLoader, default_collate\n",
    "from tqdm.auto import tqdm\n",
    "import pandas as pd\n",
    "import seaborn as sns\n",
    "\n",
    "warnings.filterwarnings(\"ignore\")\n",
    "from dataset import CalgaryCampinasDataset, ACDCDataset, MNMDataset\n",
    "from model.unet import UNet2D, UNetEnsemble\n",
    "from model.ae import AE\n",
    "from model.dae import resDAE, AugResDAE\n",
    "from model.wrapper import Frankenstein\n",
    "from losses import (\n",
    "    DiceScoreCalgary, \n",
    "    DiceScoreMMS, \n",
    "    SurfaceDiceCalgary, \n",
    "    AccMMS\n",
    ")\n",
    "from utils import volume_collate\n",
    "from eval.slice_wise import (\n",
    "    PoolingMahalabonisDetector, \n",
    "    AEMahalabonisDetector, \n",
    "    MeanDistSamplesDetector, \n",
    "    EntropyDetector, \n",
    "    EnsembleEntropyDetector\n",
    ")"
   ]
  },
  {
   "cell_type": "code",
   "execution_count": 2,
   "id": "9188cb4b",
   "metadata": {},
   "outputs": [],
   "source": [
    "## Dependencies for UMapScorePerSlice\n",
    "\n",
    "import os\n",
    "import random\n",
    "from typing import (\n",
    "    Iterable, \n",
    "    Dict, \n",
    "    Callable, \n",
    "    Tuple, \n",
    "    Union, \n",
    "    List\n",
    ")\n",
    "from copy import deepcopy\n",
    "import numpy as np\n",
    "import torch\n",
    "from torch import Tensor, nn\n",
    "import torch.nn.functional as F\n",
    "from torch.utils.data import Dataset, DataLoader\n",
    "from sklearn.cluster import KMeans\n",
    "from sklearn.metrics import pairwise_distances_argmin_min, auc\n",
    "import nibabel as nib\n",
    "import wandb\n",
    "import matplotlib.pyplot as plt"
   ]
  },
  {
   "cell_type": "code",
   "execution_count": 3,
   "id": "a1d76299",
   "metadata": {},
   "outputs": [],
   "source": [
    "    \n",
    "### Evaluation\n",
    "class UMapScorePerSlice(nn.Module):\n",
    "    \"\"\"Calculates scores for each input slice.\n",
    "    \"\"\"\n",
    "        \n",
    "    def __init__(\n",
    "        self, \n",
    "        reduction: str\n",
    "    ):\n",
    "        super().__init__()\n",
    "        self.r = reduction\n",
    "        # TODO: default to keep only first dim,\n",
    "        #       flexible where possible (e.g. mean)\n",
    "        self.dim = (1,2,3)\n",
    "        \n",
    "    @torch.no_grad()\n",
    "    def forward(\n",
    "        self, \n",
    "        umap:   Tensor = None, \n",
    "        pred:   Tensor = None, # original segmentation prediction\n",
    "        pred_r: Tensor = None  # re-sampled segmentation prediction\n",
    "    ) -> Tensor:\n",
    "        if self.r == 'mean':\n",
    "            assert umap is not None, \"reduction is set to mean over umap, but umap is None\"\n",
    "            return umap.mean()\n",
    "        \n",
    "        elif self.r == 'norm':\n",
    "            # The frobenius (i.e. euclidean) norm is simply the sum of squared elements, square rooted\n",
    "            assert umap is not None, \"reduction is set to norm of umap, but umap is None\"\n",
    "            # assert self.dim == (1,2,3), \"setting the dim parameter doesn't do anything for norm reduction\"\n",
    "            return torch.norm(umap)\n",
    "        \n",
    "        elif self.r == 'nflips':\n",
    "            assert pred is not None, \"reduction is set to fraction of flipped predictions, but pred is None\"\n",
    "            assert pred_r is not None, \"reduction is set to fraction of flipped predictions, but pred_r is None\"\n",
    "            flip_mask = (torch.argmax(pred, dim=1, keepdim=True) != torch.argmax(pred_r, dim=1, keepdim=True)) * 1\n",
    "            return flip_mask.sum()\n",
    "        \n",
    "        elif self.r == 'nNflips':\n",
    "            assert pred is not None, \"reduction is set to number of flipped predictions, but pred is None\"\n",
    "            assert pred_r is not None, \"reduction is set to number of flipped predictions, but pred_r is None\"\n",
    "            flip_mask = (torch.argmax(pred, dim=1, keepdim=True) != torch.argmax(pred_r, dim=1, keepdim=True)) * 1.\n",
    "            return flip_mask.mean()"
   ]
  },
  {
   "cell_type": "code",
   "execution_count": null,
   "id": "4d4b95d7",
   "metadata": {},
   "outputs": [],
   "source": []
  },
  {
   "cell_type": "code",
   "execution_count": 4,
   "id": "549c6d74",
   "metadata": {},
   "outputs": [],
   "source": [
    "# Dependencies for MeanDistSamplesDetector\n",
    "\n",
    "from typing import Iterable, Dict, List, Callable, Tuple, Union, List\n",
    "\n",
    "import torch #\n",
    "from torch import Tensor, nn #\n",
    "from torch.utils.data import Dataset, DataLoader, default_collate\n",
    "import torch.nn.functional as F\n",
    "from sklearn.cluster import KMeans #\n",
    "from sklearn.metrics import pairwise_distances_argmin_min #\n",
    "from sklearn.covariance import LedoitWolf #\n",
    "from scipy.stats import binned_statistic #\n",
    "from tqdm.auto import tqdm #\n",
    "from torchmetrics import (\n",
    "    SpearmanCorrCoef, \n",
    "    AUROC)\n",
    "from losses import DiceScoreCalgary, DiceScoreMMS #\n",
    "from utils import _activate_dropout, UMapGenerator\n"
   ]
  },
  {
   "cell_type": "code",
   "execution_count": 15,
   "id": "aa78e4a5",
   "metadata": {},
   "outputs": [],
   "source": [
    "class MeanDistSamplesDetector(nn.Module):\n",
    "    \"\"\"\n",
    "    Implements an out-of-distribution (OOD) detection and error correlation evaluation tool for \n",
    "    autoencoder-based (AE) feature re-sampling systems. This class computes the mean distance between samples\n",
    "    and original segmentation maps to quantify uncertainty. Different distance functions and aggregation method\n",
    "    are available as per their respective class implementation, i.e. UMapGenerator and UMapScorePerSlice.\n",
    "\n",
    "    Parameters:\n",
    "    - model: Frankenstein model, i.e. segmentation network with attached AEs\n",
    "    - net_out: Output type of the network ('calgary', 'mms'; specific to dataset.).\n",
    "    - valid_loader: DataLoader for validation data.\n",
    "    - criterion: Criterion for computing the evaluation metric (e.g., DiceScoreCalgary).\n",
    "    - device: The device to run the model on.\n",
    "    - umap_method: Method for uncertainty mapping.\n",
    "    - umap_reduction: Reduction method for uncertainty maps.\n",
    "    \"\"\"\n",
    "    \n",
    "    def __init__(\n",
    "        self,\n",
    "        model: nn.Module, \n",
    "        net_out: str,\n",
    "        valid_loader: DataLoader,\n",
    "        criterion: nn.Module,\n",
    "        device: str = 'cuda:0',\n",
    "        umap_method: str = 'ae',\n",
    "        umap_reduction: str = 'mean'\n",
    "    ):\n",
    "        super().__init__()\n",
    "        self.device = device\n",
    "        self.model = model.to(device)\n",
    "        self.net_out  = net_out\n",
    "        self.umap_method = umap_method\n",
    "        self.umap_reduction = umap_reduction\n",
    "        \n",
    "        # Remove trainiung hooks, add evaluation hooks\n",
    "        self.model.remove_all_hooks()        \n",
    "        self.model.hook_inference_transformations(self.model.transformations,\n",
    "                                        n_samples=1)\n",
    "        \n",
    "        self.model.eval()\n",
    "        self.model.freeze_seg_model()\n",
    "        \n",
    "        self.valid_loader = valid_loader\n",
    "        self.criterion = criterion\n",
    "        self.auroc = AUROC(task = 'binary')\n",
    "        self.umap_generator = UMapGenerator(method=umap_method,\n",
    "                                            net_out=net_out)\n",
    "        self.score_fn = UMapScorePerSlice(reduction=umap_reduction)\n",
    "        \n",
    "        \n",
    "    @torch.no_grad()\n",
    "    def testset_ood_detection(self, test_loader: DataLoader) -> Dict[str, torch.Tensor]:\n",
    "        if not hasattr(self, 'threshold'):\n",
    "            valid_dists = []\n",
    "            for batch in self.valid_loader:\n",
    "                input_ = batch['input'].to(0)\n",
    "                \n",
    "                if self.net_out == 'calgary':\n",
    "                    model_out_volume = []\n",
    "                    umap_volume  = []\n",
    "\n",
    "                    for input_chunk in input_:\n",
    "                        umap, model_out = self.forward(input_chunk.unsqueeze(0).to(self.device))\n",
    "                        model_out_volume.append(model_out[:1].detach().cpu())\n",
    "                        umap_volume.append(umap)\n",
    "\n",
    "                    model_out = torch.cat(model_out_volume, dim=0)\n",
    "                    umap = torch.cat(umap_volume, dim=0)\n",
    "                    \n",
    "                if self.net_out == 'mms':\n",
    "                    umap, model_out = self.forward(input_.to(self.device))\n",
    "                score = torch.norm(umap).cpu()\n",
    "                valid_dists.append(score)\n",
    "                \n",
    "            self.valid_dists = torch.tensor(valid_dists)\n",
    "            self.valid_labels = torch.zeros(len(self.valid_dists), dtype=torch.uint8)\n",
    "        \n",
    "        test_dists = []\n",
    "        for batch in test_loader:\n",
    "            input_ = batch['input']\n",
    "\n",
    "            if self.net_out == 'calgary':\n",
    "                model_out_volume = []\n",
    "                umap_volume  = []\n",
    "\n",
    "                for input_chunk in input_:\n",
    "                    umap, model_out = self.forward(input_chunk.unsqueeze(0).to(self.device))\n",
    "                    model_out_volume.append(model_out[:1].detach().cpu())\n",
    "                    umap_volume.append(umap)\n",
    "\n",
    "                model_out = torch.cat(model_out_volume, dim=0)\n",
    "                umap = torch.cat(umap_volume, dim=0)\n",
    "\n",
    "            if self.net_out == 'mms':\n",
    "                umap, model_out = self.forward(input_.to(self.device))\n",
    "\n",
    "            score = torch.norm(umap).cpu()\n",
    "            test_dists.append(score)\n",
    "        self.test_dists = torch.tensor(test_dists).cpu()\n",
    "        self.test_labels = torch.ones(len(self.test_dists), dtype=torch.uint8)\n",
    "        \n",
    "        self.pred =  torch.cat([self.valid_dists, self.test_dists]).squeeze()\n",
    "        self.target = torch.cat([self.valid_labels, self.test_labels]).squeeze()\n",
    "        print(self.pred.shape, self.target.shape)\n",
    "        AUROC = self.auroc(self.pred, self.target)\n",
    "        \n",
    "        return AUROC    \n",
    "        \n",
    "    \n",
    "    @torch.no_grad()\n",
    "    def testset_correlation(self, test_loader: DataLoader) -> Dict[str, torch.Tensor]:\n",
    "        corr_coeff = SpearmanCorrCoef()\n",
    "        #losses = []\n",
    "        for batch in test_loader:\n",
    "            input_ = batch['input']\n",
    "            target = batch['target']\n",
    "            \n",
    "            if self.net_out == 'calgary':\n",
    "                model_out_volume = []\n",
    "                umap_volume  = []\n",
    "\n",
    "                for input_chunk in input_:\n",
    "                    umap, model_out = self.forward(input_chunk.unsqueeze(0).to(self.device))\n",
    "                    model_out_volume.append(model_out[:1].detach().cpu())\n",
    "                    umap_volume.append(umap)\n",
    "                    \n",
    "                model_out = torch.cat(model_out_volume, dim=0)\n",
    "                umap = torch.cat(umap_volume, dim=0)\n",
    "            \n",
    "            if self.net_out == 'mms':\n",
    "                target[target == -1] = 0\n",
    "                # convert to one-hot encoding\n",
    "                target = F.one_hot(target.long(), num_classes=4).squeeze(1).permute(0,3,1,2)\n",
    "                umap, model_out = self.forward(input_.to(self.device))\n",
    "\n",
    "            loss = self.criterion(model_out[:1], target)\n",
    "            loss = loss.mean().float()\n",
    "\n",
    "            assert model_out.shape[0] == 2, \"Model produces too large outputs\"\n",
    "            score = self.score_fn(\n",
    "                umap=umap, \n",
    "                pred=model_out[:1], \n",
    "                pred_r=model_out[1:]\n",
    "            )\n",
    "            \n",
    "            corr_coeff.update(score.cpu().view(1,), 1-loss.view(1,))\n",
    "            \n",
    "        return corr_coeff\n",
    "\n",
    "    \n",
    "    @torch.no_grad()  \n",
    "    def forward(self, input_: torch.Tensor) -> torch.Tensor:\n",
    "        model_out = self.model(input_).cpu()\n",
    "        umap    = self.umap_generator(model_out).cpu()\n",
    "        return umap, model_out   #[:1]"
   ]
  },
  {
   "cell_type": "code",
   "execution_count": 33,
   "id": "f2c20482",
   "metadata": {},
   "outputs": [
    {
     "name": "stdout",
     "output_type": "stream",
     "text": [
      "loading dataset\n",
      "loading all case properties\n"
     ]
    }
   ],
   "source": [
    "ROOT = '../../../'\n",
    "net_out = 'mms'\n",
    "data = 'data/mnm/'\n",
    "debug = False\n",
    "scanner = 'B'\n",
    "criterion = AccMMS()\n",
    "\n",
    "data_path = ROOT + data\n",
    "\n",
    "test_set = MNMDataset(vendor=scanner,\n",
    "                      selection='all_cases',\n",
    "                      debug=debug)\n",
    "\n",
    "test_loader = DataLoader(test_set, \n",
    "                         batch_size=1, \n",
    "                         shuffle=False, \n",
    "                         drop_last=False,\n",
    "                         num_workers=10)\n",
    "\n",
    "# U-Nets\n",
    "n_unets = 1\n",
    "middle = 'unet8_'\n",
    "pre = 'acdc'\n",
    "unet_names = [f'{pre}_{middle}{i}' for i in range(n_unets)]\n",
    "unets = []\n",
    "for name in unet_names:\n",
    "    model_path = f'{ROOT}pre-trained-tmp/trained_UNets/{name}_best.pt'\n",
    "    state_dict = torch.load(model_path)['model_state_dict']\n",
    "    n_chans_out = 1 if net_out == 'calgary' else 4\n",
    "    unet = UNet2D(n_chans_in=1, \n",
    "                  n_chans_out=n_chans_out, \n",
    "                  n_filters_init=8, \n",
    "                  dropout=False)\n",
    "    unet.load_state_dict(state_dict)\n",
    "    unets.append(unet)\n",
    "\n",
    "metrics = []"
   ]
  },
  {
   "cell_type": "code",
   "execution_count": 78,
   "id": "66757cc3",
   "metadata": {},
   "outputs": [
    {
     "data": {
      "application/vnd.jupyter.widget-view+json": {
       "model_id": "9e0da4a9f951419da5794f5fe3121f59",
       "version_major": 2,
       "version_minor": 0
      },
      "text/plain": [
       "  0%|          | 0/1 [00:00<?, ?it/s]"
      ]
     },
     "metadata": {},
     "output_type": "display_data"
    }
   ],
   "source": [
    "disabled_ids = ['shortcut0', 'shortcut1', 'shortcut2']\n",
    "post = 'localAug_multiImgSingleView_res_balanced_same'\n",
    "\n",
    "\n",
    "DAEs = nn.ModuleDict({'up3': AugResDAE(in_channels = 64, \n",
    "                             in_dim      = 32,\n",
    "                             latent_dim  = 256 if net_out=='mms' else 64,\n",
    "                             depth       = 3,\n",
    "                             block_size  = 4,\n",
    "                             residual    = True)})\n",
    "\n",
    "\n",
    "for layer_id in disabled_ids:\n",
    "    DAEs[layer_id] = nn.Identity()\n",
    "\n",
    "for i, unet in enumerate(tqdm(unets)):\n",
    "\n",
    "    model = Frankenstein(seg_model=unet,\n",
    "                         transformations=DAEs,\n",
    "                         disabled_ids=disabled_ids,\n",
    "                         copy=True)\n",
    "    model_path = f'{ROOT}pre-trained-tmp/trained_AEs/acdc_AugResDAE{i}_{post}_best.pt'\n",
    "    #model_path = f'{ROOT}pre-trained-tmp/trained_AEs/{pre}_resDAE{i}_{post}_best.pt'\n",
    "    #model_path = f'{ROOT}pre-trained-tmp/trained_AEs/acdc_epinet_CE-only_prior-1_best.pt'\n",
    "    #model_path = f'{ROOT}pre-trained-tmp/trained_AEs/acdc_resDAE0_venus_best.pt'\n",
    "    state_dict = torch.load(model_path)['model_state_dict']\n",
    "    model.load_state_dict(state_dict)\n",
    "\n",
    "    metrics.append({})\n",
    "    detector = MeanDistSamplesDetector(model=model,\n",
    "                                       valid_loader=None,\n",
    "                                       net_out=net_out,\n",
    "                                       umap_method='cross_entropy',\n",
    "                                       umap_reduction='mean',\n",
    "                                       criterion=criterion)\n",
    "\n",
    "    metrics[i]['corr'] = detector.testset_correlation(test_loader)"
   ]
  },
  {
   "cell_type": "code",
   "execution_count": 80,
   "id": "6d7e4ee8",
   "metadata": {},
   "outputs": [
    {
     "data": {
      "text/plain": [
       "tensor(0.7713)"
      ]
     },
     "execution_count": 80,
     "metadata": {},
     "output_type": "execute_result"
    }
   ],
   "source": [
    "metrics[0]['corr'].compute()"
   ]
  },
  {
   "cell_type": "code",
   "execution_count": 18,
   "id": "156984af",
   "metadata": {},
   "outputs": [
    {
     "data": {
      "text/plain": [
       "tensor(0.5827)"
      ]
     },
     "execution_count": 18,
     "metadata": {},
     "output_type": "execute_result"
    }
   ],
   "source": [
    "metrics[0]['corr'].compute()"
   ]
  },
  {
   "cell_type": "code",
   "execution_count": 92,
   "id": "39a51664",
   "metadata": {},
   "outputs": [
    {
     "data": {
      "image/png": "[encoded data removed]",
      "text/plain": [
       "<Figure size 864x288 with 2 Axes>"
      ]
     },
     "metadata": {
      "needs_background": "light"
     },
     "output_type": "display_data"
    }
   ],
   "source": [
    "data = metrics[0]['corr']\n",
    "p = data.preds\n",
    "t = data.target\n",
    "\n",
    "fig, axes = plt.subplots(1, 2, figsize=(12, 4))\n",
    "fig.suptitle('M&M Philips - Correlation of Score and Error as 1-DSC - Example with rank correlation of .77 ', fontsize=13)\n",
    "\n",
    "axes[0].plot(p, t, '.', alpha=0.4)\n",
    "axes[1].plot(p, t, '.', alpha=0.4)\n",
    "axes[1].set_xscale('log')\n",
    "#axes[1].set_yscale('log')\n",
    "\n",
    "axes[0].set_ylabel(\"1 - DSC\")\n",
    "axes[0].set_xlabel(\"Segmentation Distortion with CE reduction - Residual Network\")\n",
    "#axes[1].set_ylabel(\"Log Error\")\n",
    "axes[1].set_xlabel(\"Log Score\")\n",
    "\n",
    "fig.savefig(\"../../../results-tmp/results/eval/example_scatter.jpg\", bbox_inches='tight', dpi=400)\n",
    "# plt.plot(metrics[0]['corr'].preds, metrics[0]['corr'].target, '.', alpha=0.4)\n",
    "# plt.xscale('log')\n",
    "# plt.yscale('log')"
   ]
  },
  {
   "cell_type": "code",
   "execution_count": 105,
   "id": "5b8ae059",
   "metadata": {},
   "outputs": [],
   "source": [
    "data = metrics[0]['corr']\n",
    "p = np.array([p.item() for p in data.preds])\n",
    "t = np.array([t.item() for t in data.target])"
   ]
  },
  {
   "cell_type": "code",
   "execution_count": 114,
   "id": "470e03ed",
   "metadata": {},
   "outputs": [],
   "source": [
    "df = pd.DataFrame()\n",
    "df['p'] = np.log(p)\n",
    "df['t'] = t"
   ]
  },
  {
   "cell_type": "code",
   "execution_count": 115,
   "id": "8729581a",
   "metadata": {},
   "outputs": [
    {
     "data": {
      "text/plain": [
       "<AxesSubplot:xlabel='p', ylabel='t'>"
      ]
     },
     "execution_count": 115,
     "metadata": {},
     "output_type": "execute_result"
    },
    {
     "data": {
      "image/png": "[encoded data removed]",
      "text/plain": [
       "<Figure size 432x288 with 1 Axes>"
      ]
     },
     "metadata": {
      "needs_background": "light"
     },
     "output_type": "display_data"
    }
   ],
   "source": [
    "sns.kdeplot(data=df, x='p', y='t',fill=True)\n",
    "#plt.xscale('log')"
   ]
  },
  {
   "cell_type": "code",
   "execution_count": 52,
   "id": "4645ad41",
   "metadata": {},
   "outputs": [
    {
     "data": {
      "application/vnd.jupyter.widget-view+json": {
       "model_id": "47c1574e03f54d2bbc9c0db87b76054a",
       "version_major": 2,
       "version_minor": 0
      },
      "text/plain": [
       "  0%|          | 0/1 [00:00<?, ?it/s]"
      ]
     },
     "metadata": {},
     "output_type": "display_data"
    }
   ],
   "source": [
    "disabled_ids = ['shortcut0', 'shortcut1', 'shortcut2']\n",
    "post = 'localAug_multiImgSingleView_recon_balanced_same'\n",
    "\n",
    "\n",
    "DAEs = nn.ModuleDict({'up3': AugResDAE(in_channels = 64, \n",
    "                             in_dim      = 32,\n",
    "                             latent_dim  = 256 if net_out=='mms' else 64,\n",
    "                             depth       = 3,\n",
    "                             block_size  = 4,\n",
    "                             residual    = False)})\n",
    "\n",
    "\n",
    "for layer_id in disabled_ids:\n",
    "    DAEs[layer_id] = nn.Identity()\n",
    "\n",
    "for i, unet in enumerate(tqdm(unets)):\n",
    "\n",
    "    model = Frankenstein(seg_model=unet,\n",
    "                         transformations=DAEs,\n",
    "                         disabled_ids=disabled_ids,\n",
    "                         copy=True)\n",
    "    model_path = f'{ROOT}pre-trained-tmp/trained_AEs/acdc_AugResDAE{i}_{post}_best.pt'\n",
    "    #model_path = f'{ROOT}pre-trained-tmp/trained_AEs/{pre}_resDAE{i}_{post}_best.pt'\n",
    "    #model_path = f'{ROOT}pre-trained-tmp/trained_AEs/acdc_epinet_CE-only_prior-1_best.pt'\n",
    "    #model_path = f'{ROOT}pre-trained-tmp/trained_AEs/acdc_resDAE0_venus_best.pt'\n",
    "    state_dict = torch.load(model_path)['model_state_dict']\n",
    "    model.load_state_dict(state_dict)\n",
    "\n",
    "    metrics.append({})\n",
    "    detector = MeanDistSamplesDetector(model=model,\n",
    "                                       valid_loader=None,\n",
    "                                       net_out=net_out,\n",
    "                                       umap_method='cross_entropy',\n",
    "                                       umap_reduction='mean',\n",
    "                                       criterion=criterion)\n",
    "\n",
    "    metrics[i]['corr'] = detector.testset_correlation(test_loader)"
   ]
  },
  {
   "cell_type": "code",
   "execution_count": 53,
   "id": "52a0f933",
   "metadata": {},
   "outputs": [
    {
     "data": {
      "text/plain": [
       "tensor(0.7607)"
      ]
     },
     "execution_count": 53,
     "metadata": {},
     "output_type": "execute_result"
    }
   ],
   "source": [
    "metrics[0]['corr'].compute()"
   ]
  },
  {
   "cell_type": "code",
   "execution_count": 20,
   "id": "a54cd4b5",
   "metadata": {},
   "outputs": [
    {
     "data": {
      "text/plain": [
       "tensor(0.5825)"
      ]
     },
     "execution_count": 20,
     "metadata": {},
     "output_type": "execute_result"
    }
   ],
   "source": [
    "metrics[0]['corr'].compute()"
   ]
  },
  {
   "cell_type": "code",
   "execution_count": 70,
   "id": "4564a4db",
   "metadata": {},
   "outputs": [
    {
     "data": {
      "image/png": "[encoded data removed]",
      "text/plain": [
       "<Figure size 432x288 with 1 Axes>"
      ]
     },
     "metadata": {
      "needs_background": "light"
     },
     "output_type": "display_data"
    }
   ],
   "source": [
    "plt.plot(metrics[0]['corr'].preds, metrics[0]['corr'].target, '.', alpha=0.4)\n",
    "plt.xscale('log')\n",
    "plt.yscale('log')"
   ]
  },
  {
   "cell_type": "code",
   "execution_count": 65,
   "id": "3146ca37",
   "metadata": {},
   "outputs": [
    {
     "data": {
      "text/plain": [
       "(array([511., 995., 761., 180.,  90.,  41.,  28.,  12.,   3.,   4.,   1.,\n",
       "          5.,   0.,   0.,   1.,   2.,   0.,   0.,   1.,   1.,   0.,   0.,\n",
       "          1.,   0.,   0.,   0.,   0.,   1.,   0.,   0.,   0.,   0.,   0.,\n",
       "          0.,   0.,   0.,   0.,   0.,   0.,   0.,   0.,   0.,   1.,   0.,\n",
       "          1.,   0.,   0.,   0.,   0.,   0.,   0.,   0.,   0.,   1.,   0.,\n",
       "          0.,   0.,   0.,   0.,   0.,   0.,   0.,   0.,   1.]),\n",
       " array([0.00099809, 0.00449617, 0.00799424, 0.01149232, 0.0149904 ,\n",
       "        0.01848848, 0.02198656, 0.02548463, 0.02898271, 0.03248079,\n",
       "        0.03597887, 0.03947694, 0.04297502, 0.0464731 , 0.04997118,\n",
       "        0.05346925, 0.05696733, 0.06046541, 0.06396349, 0.06746157,\n",
       "        0.07095964, 0.07445772, 0.0779558 , 0.08145388, 0.08495195,\n",
       "        0.08845003, 0.09194811, 0.09544619, 0.09894426, 0.10244234,\n",
       "        0.10594042, 0.1094385 , 0.11293658, 0.11643465, 0.11993273,\n",
       "        0.12343081, 0.12692889, 0.13042696, 0.13392504, 0.13742312,\n",
       "        0.1409212 , 0.14441928, 0.14791735, 0.15141543, 0.15491351,\n",
       "        0.15841159, 0.16190966, 0.16540774, 0.16890582, 0.1724039 ,\n",
       "        0.17590197, 0.17940005, 0.18289813, 0.18639621, 0.18989429,\n",
       "        0.19339236, 0.19689044, 0.20038852, 0.2038866 , 0.20738467,\n",
       "        0.21088275, 0.21438083, 0.21787891, 0.22137698, 0.22487506]),\n",
       " <BarContainer object of 64 artists>)"
      ]
     },
     "execution_count": 65,
     "metadata": {},
     "output_type": "execute_result"
    },
    {
     "data": {
      "image/png": "[encoded data removed]",
      "text/plain": [
       "<Figure size 432x288 with 1 Axes>"
      ]
     },
     "metadata": {
      "needs_background": "light"
     },
     "output_type": "display_data"
    }
   ],
   "source": [
    "plt.hist(np.array([corr.item() for corr in metrics[0]['corr'].preds]), bins=64, alpha=0.5)"
   ]
  },
  {
   "cell_type": "code",
   "execution_count": 54,
   "id": "fc004c01",
   "metadata": {},
   "outputs": [],
   "source": [
    "x = torch.tensor(metrics[0]['corr'].preds)"
   ]
  },
  {
   "cell_type": "code",
   "execution_count": 55,
   "id": "781f0fd0",
   "metadata": {},
   "outputs": [
    {
     "data": {
      "text/plain": [
       "tensor(0.0075)"
      ]
     },
     "execution_count": 55,
     "metadata": {},
     "output_type": "execute_result"
    }
   ],
   "source": [
    "x.median()"
   ]
  },
  {
   "cell_type": "code",
   "execution_count": 57,
   "id": "ad681cfb",
   "metadata": {},
   "outputs": [
    {
     "data": {
      "text/plain": [
       "(2642,)"
      ]
     },
     "execution_count": 57,
     "metadata": {},
     "output_type": "execute_result"
    }
   ],
   "source": [
    "np.array(metrics[0]['corr'].preds).shape"
   ]
  },
  {
   "cell_type": "code",
   "execution_count": 64,
   "id": "07cd50e4",
   "metadata": {},
   "outputs": [
    {
     "data": {
      "text/plain": [
       "array([0.00353999, 0.00514162, 0.00866608, ..., 0.00991784, 0.01000004,\n",
       "       0.04226998])"
      ]
     },
     "execution_count": 64,
     "metadata": {},
     "output_type": "execute_result"
    }
   ],
   "source": [
    "np.array([corr.item() for corr in metrics[0]['corr'].preds])"
   ]
  },
  {
   "cell_type": "code",
   "execution_count": null,
   "id": "d0e8b62f",
   "metadata": {},
   "outputs": [],
   "source": []
  }
 ],
 "metadata": {
  "kernelspec": {
   "display_name": "Python 3 (ipykernel)",
   "language": "python",
   "name": "python3"
  },
  "language_info": {
   "codemirror_mode": {
    "name": "ipython",
    "version": 3
   },
   "file_extension": ".py",
   "mimetype": "text/x-python",
   "name": "python",
   "nbconvert_exporter": "python",
   "pygments_lexer": "ipython3",
   "version": "3.8.13"
  }
 },
 "nbformat": 4,
 "nbformat_minor": 5
}
