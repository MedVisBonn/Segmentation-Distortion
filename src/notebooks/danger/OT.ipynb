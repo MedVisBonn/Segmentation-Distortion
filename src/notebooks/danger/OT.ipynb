{
 "cells": [
  {
   "cell_type": "code",
   "execution_count": 1,
   "id": "09f1a29b",
   "metadata": {},
   "outputs": [],
   "source": [
    "import torch\n",
    "from torch import nn\n",
    "from geomloss import SamplesLoss\n",
    "import matplotlib.pyplot as plt"
   ]
  },
  {
   "cell_type": "code",
   "execution_count": 32,
   "id": "35dfd175",
   "metadata": {},
   "outputs": [],
   "source": [
    "class Network(nn.Module):\n",
    "    def __init__(self):\n",
    "        super().__init__()\n",
    "        \n",
    "        self.fc = nn.Sequential(\n",
    "            nn.Linear(1, 10),\n",
    "            nn.ReLU(),\n",
    "            nn.Linear(10, 30),\n",
    "            nn.ReLU(),\n",
    "            nn.Linear(30, 30),\n",
    "            nn.ReLU(),\n",
    "            nn.Linear(30, 10),\n",
    "            nn.ReLU(),\n",
    "            nn.Linear(10, 1)\n",
    "        )\n",
    "\n",
    "        \n",
    "    def forward(self, x):\n",
    "        return self.fc(x)\n",
    "    \n",
    "    \n",
    "def KL_loss_func(mu, log_var):\n",
    "    kl_loss = torch.exp(log_var) + mu**2 - 1. - log_var\n",
    "    \n",
    "    return kl_loss * 0.5\n",
    "\n",
    "\n",
    "class Loss(nn.Module):\n",
    "    def __init__(self):\n",
    "        super().__init__()\n",
    "        self.loss_fn = KL_loss_func\n",
    "        \n",
    "    def forward(self, x):\n",
    "        # get empirical mean\n",
    "        mu_hat = x.mean(0)\n",
    "        # get empirical log variance\n",
    "        var_hat = torch.var(x, dim=0)\n",
    "        log_var = torch.log(var_hat)\n",
    "        \n",
    "        return self.loss_fn(mu_hat, log_var)"
   ]
  },
  {
   "cell_type": "code",
   "execution_count": 33,
   "id": "b6190529",
   "metadata": {},
   "outputs": [
    {
     "data": {
      "image/png": "[encoded data removed]",
      "text/plain": [
       "<Figure size 432x288 with 1 Axes>"
      ]
     },
     "metadata": {
      "needs_background": "light"
     },
     "output_type": "display_data"
    },
    {
     "data": {
      "image/png": "[encoded data removed]",
      "text/plain": [
       "<Figure size 432x288 with 1 Axes>"
      ]
     },
     "metadata": {
      "needs_background": "light"
     },
     "output_type": "display_data"
    }
   ],
   "source": [
    "model     = Network()\n",
    "opt       = torch.optim.Adam(model.parameters(), lr=0.1)\n",
    "criterion = Loss()\n",
    "# plot uniformly distributed data\n",
    "x_show = torch.rand((256, 1))\n",
    "plt.hist(x_show.numpy(), bins=16)\n",
    "plt.show()\n",
    "\n",
    "for _ in range(100):\n",
    "    # get uniformly distributed data\n",
    "    x_in  = torch.rand((32, 1))\n",
    "    # transform into normal distributed data\n",
    "    x_out = model(x_in)\n",
    "    # calculate KL divergence\n",
    "    loss = criterion(x_out)\n",
    "    # pytorch things\n",
    "    opt.zero_grad()\n",
    "    loss.backward()\n",
    "    opt.step()\n",
    "    \n",
    "plt.hist(model(x_show).detach().numpy(), bins=16)\n",
    "plt.show()"
   ]
  },
  {
   "cell_type": "code",
   "execution_count": 35,
   "id": "1a4035a5",
   "metadata": {},
   "outputs": [
    {
     "data": {
      "image/png": "[encoded data removed]",
      "text/plain": [
       "<Figure size 432x288 with 1 Axes>"
      ]
     },
     "metadata": {
      "needs_background": "light"
     },
     "output_type": "display_data"
    }
   ],
   "source": [
    "model     = Network()\n",
    "opt       = torch.optim.Adam(model.parameters(), lr=0.01)\n",
    "criterion = SamplesLoss()\n",
    "\n",
    "#x_in = torch.rand((32*32, 1)) - 0.5\n",
    "x_in = torch.randn((32*32, 1)) \n",
    "plt.hist(x_in.numpy(), bins=32, alpha=0.3)\n",
    "# plt.show()\n",
    "\n",
    "target = torch.rand((32* 16, 1)) * 10 - 5\n",
    "plt.hist(target.numpy(), bins=32, alpha=0.3)\n",
    "# plt.show()\n",
    "\n",
    "for _ in range(1000):\n",
    "    # get uniformly distributed data\n",
    "    # x_in  = torch.rand((32, 1))\n",
    "    # transform into normal distributed data\n",
    "    x_out = model(x_in)\n",
    "    # calculate KL divergence\n",
    "    loss = criterion(x_out, target)\n",
    "    # pytorch things\n",
    "    opt.zero_grad()\n",
    "    loss.backward()\n",
    "    opt.step()\n",
    "    \n",
    "plt.hist(model(x_in).detach().numpy(), bins=32, alpha=0.3)\n",
    "plt.show()"
   ]
  },
  {
   "cell_type": "code",
   "execution_count": 6,
   "id": "8f7d44ec",
   "metadata": {},
   "outputs": [
    {
     "data": {
      "image/png": "[encoded data removed]",
      "text/plain": [
       "<Figure size 432x288 with 1 Axes>"
      ]
     },
     "metadata": {
      "needs_background": "light"
     },
     "output_type": "display_data"
    }
   ],
   "source": [
    "plt.hist(model(x_in).detach().numpy(), bins=16)\n",
    "plt.show()"
   ]
  },
  {
   "cell_type": "code",
   "execution_count": 28,
   "id": "271654c3",
   "metadata": {},
   "outputs": [
    {
     "data": {
      "image/png": "[encoded data removed]",
      "text/plain": [
       "<Figure size 432x288 with 1 Axes>"
      ]
     },
     "metadata": {
      "needs_background": "light"
     },
     "output_type": "display_data"
    }
   ],
   "source": [
    "plt.quiver([1, 0, 0], [0,4, 0], [5, -2, 4], [1, 2, -7], angles='xy', scale_units='xy', scale=1)\n",
    "plt.xlim(-10, 10)\n",
    "plt.ylim(-10, 10)\n",
    "plt.show()"
   ]
  },
  {
   "cell_type": "code",
   "execution_count": null,
   "id": "06473203",
   "metadata": {},
   "outputs": [],
   "source": []
  }
 ],
 "metadata": {
  "kernelspec": {
   "display_name": "Python 3 (ipykernel)",
   "language": "python",
   "name": "python3"
  },
  "language_info": {
   "codemirror_mode": {
    "name": "ipython",
    "version": 3
   },
   "file_extension": ".py",
   "mimetype": "text/x-python",
   "name": "python",
   "nbconvert_exporter": "python",
   "pygments_lexer": "ipython3",
   "version": "3.8.13"
  }
 },
 "nbformat": 4,
 "nbformat_minor": 5
}
