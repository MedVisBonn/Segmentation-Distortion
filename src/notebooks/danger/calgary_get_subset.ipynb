{
 "cells": [
  {
   "cell_type": "code",
   "execution_count": null,
   "id": "53583356",
   "metadata": {},
   "outputs": [],
   "source": []
  },
  {
   "cell_type": "code",
   "execution_count": 3,
   "id": "4435eee1",
   "metadata": {},
   "outputs": [],
   "source": [
    "import matplotlib.pyplot as plt\n",
    "plt.show()"
   ]
  },
  {
   "cell_type": "code",
   "execution_count": 20,
   "id": "1ab47e9a",
   "metadata": {},
   "outputs": [],
   "source": [
    "import matplotlib.pyplot as plt\n",
    "import os, sys\n",
    "from typing import Iterable, Dict, List, Callable, Tuple, Union, List\n",
    "\n",
    "import numpy as np\n",
    "import torch\n",
    "from torch import nn, Tensor\n",
    "from torch.utils.data import Dataset, DataLoader\n",
    "import torch.nn.functional as F\n",
    "import matplotlib.pyplot as plt\n",
    "from torchvision.utils import save_image\n",
    "import fiftyone as fo\n",
    "import shutil\n",
    "from torchmetrics import Dice\n",
    "\n",
    "sys.path.append('../../')\n",
    "from dataset import CalgaryCampinasDataset\n",
    "from model.unet import UNet2D\n",
    "from model.ae import AE\n",
    "from model.dae import resDAE, AugResDAE\n",
    "from model.wrapper import Frankenstein, ModelAdapter\n",
    "from losses import DiceScoreCalgary, SurfaceDiceCalgary\n",
    "from utils import  epoch_average, UMapGenerator, volume_collate\n",
    "from trainer.unet_trainer import UNetTrainerCalgary\n",
    "from data_utils import (\n",
    "    slice_selection, \n",
    "    dataset_from_indices,\n",
    "    volume_collate\n",
    ")"
   ]
  },
  {
   "cell_type": "code",
   "execution_count": null,
   "id": "c750a53d",
   "metadata": {},
   "outputs": [],
   "source": []
  },
  {
   "cell_type": "code",
   "execution_count": 5,
   "id": "dfe4f5ff",
   "metadata": {},
   "outputs": [],
   "source": [
    "### Config\n",
    "root = '../../../'\n",
    "data_dir = 'data/conp-dataset/projects/calgary-campinas/CC359/Reconstructed/'\n",
    "data_path = root + data_dir\n",
    "debug = True\n",
    "augment = False\n",
    "site = 4"
   ]
  },
  {
   "cell_type": "code",
   "execution_count": 6,
   "id": "9c29ef87",
   "metadata": {},
   "outputs": [],
   "source": [
    "trainset = CalgaryCampinasDataset(\n",
    "    data_path=data_path, \n",
    "    site=6,\n",
    "    split='train',\n",
    "    augment=augment, \n",
    "    normalize=True, \n",
    "    debug=debug\n",
    ")\n",
    "\n",
    "train_loader = DataLoader(\n",
    "    trainset, \n",
    "    batch_size=1, \n",
    "    shuffle=False, \n",
    "    drop_last=False\n",
    ")"
   ]
  },
  {
   "cell_type": "code",
   "execution_count": null,
   "id": "8a930573",
   "metadata": {},
   "outputs": [],
   "source": []
  },
  {
   "cell_type": "code",
   "execution_count": 24,
   "id": "e09b2ef1",
   "metadata": {},
   "outputs": [],
   "source": [
    "seg_model   = UNet2D(n_chans_in=1, n_chans_out=1, n_filters_init=8)\n",
    "criterion   = nn.BCEWithLogitsLoss(reduction='none')\n",
    "eval_metrics = {\n",
    "    \"Volumetric Dice\": DiceScoreCalgary(),\n",
    "    \"Surface Dice\": SurfaceDiceCalgary()\n",
    "}\n",
    "\n",
    "unet_trainer = UNetTrainerCalgary(\n",
    "    model=seg_model, \n",
    "    criterion=criterion, \n",
    "    train_generator=None, \n",
    "    valid_loader=None, \n",
    "    root=root, \n",
    "    eval_metrics=eval_metrics, \n",
    "    description=f'calgary_unet0_augmented',\n",
    "    log=False\n",
    ")"
   ]
  },
  {
   "cell_type": "code",
   "execution_count": 25,
   "id": "623ed768",
   "metadata": {},
   "outputs": [
    {
     "name": "stdout",
     "output_type": "stream",
     "text": [
      "No metrics found\n"
     ]
    }
   ],
   "source": [
    "unet_trainer.load_model()"
   ]
  },
  {
   "cell_type": "code",
   "execution_count": 59,
   "id": "5433a2bb",
   "metadata": {},
   "outputs": [],
   "source": [
    "from sklearn.cluster import KMeans\n",
    "from sklearn.metrics import pairwise_distances_argmin_min\n",
    "\n",
    "def slice_selection(\n",
    "    dataset: Dataset, \n",
    "    indices: Tensor,\n",
    "    n_cases: int = 10\n",
    ") -> Tensor:\n",
    "    \n",
    "    slices = dataset.__getitem__(indices)['input']\n",
    "    kmeans_in = slices.reshape(len(indices), -1)\n",
    "    kmeans = KMeans(n_clusters=n_cases).fit(kmeans_in)\n",
    "    idx, _ = pairwise_distances_argmin_min(kmeans.cluster_centers_, kmeans_in)\n",
    "    return indices[idx]\n",
    "\n",
    "\n",
    "def dataset_from_indices(\n",
    "    dataset: Dataset, \n",
    "    indices: Tensor\n",
    ") -> DataLoader:\n",
    "    \n",
    "    data = dataset.__getitem__(indices)\n",
    "    \n",
    "    class CustomDataset(Dataset):\n",
    "        \n",
    "        def __init__(self, input: Tensor, labels: Tensor, \n",
    "                     voxel_dim: Tensor):\n",
    "            self.input = input\n",
    "            self.labels = labels\n",
    "            self.voxel_dim = voxel_dim\n",
    "            \n",
    "        def __getitem__(self, idx):\n",
    "            return {'input': self.input[idx],\n",
    "                    'target': self.labels[idx],\n",
    "                    'voxel_dim': self.voxel_dim[idx]}\n",
    "        \n",
    "        def __len__(self):\n",
    "            return self.input.size(0)\n",
    "        \n",
    "    return CustomDataset(*data.values())\n",
    "\n",
    "\n",
    "@torch.no_grad()\n",
    "def get_subset(\n",
    "    dataset: Dataset,\n",
    "    model: UNet2D,\n",
    "    criterion: nn.Module,\n",
    "    device: str = 'cuda:0',\n",
    "    fraction: float = 0.1, \n",
    "    n_cases: int = 10, \n",
    "    part: str = \"tail\",\n",
    "    batch_size: int = 1\n",
    ") -> Dataset:\n",
    "    \"\"\"Selects a subset of the otherwise very large CC-359 Dataset, which\n",
    "        * is in the bottom/top fraction w.r.t. to a criterion and model\n",
    "        * contains n_cases, drawn to be divers w.r.t. to the input space and\n",
    "          defined as k_means cluster centers, one for each case.\n",
    "    \"\"\"\n",
    "    # TODO: cache subset indices for subsequent runs. Cache based on all\n",
    "    # factors that influence selection, i.e. model, criterion, function params etc\n",
    "    dataloader = DataLoader(\n",
    "        dataset, \n",
    "        batch_size=batch_size, \n",
    "        shuffle=False,\n",
    "        drop_last=False\n",
    "    )\n",
    "    \n",
    "    assert criterion.reduction == 'none'\n",
    "    model.eval()\n",
    "    loss_list = []\n",
    "    for batch in dataloader:\n",
    "        input_  = batch['input'].to(device)\n",
    "        target  = batch['target'].to(device)\n",
    "        net_out = model(input_)\n",
    "        loss    = criterion(net_out, target).view(input_.shape[0], -1).mean(1)\n",
    "        loss_list.append(loss)\n",
    "        \n",
    "    loss_tensor = torch.cat(loss_list)\n",
    "    assert len(loss_tensor.shape) == 1\n",
    "    \n",
    "    indices = torch.argsort(loss_tensor, descending=True)\n",
    "    len_ = len(dataset)\n",
    "\n",
    "    devisor = int(1 / fraction)\n",
    "\n",
    "    if part == 'tail':\n",
    "        indices = indices[:len_ // devisor]\n",
    "    elif part == 'head':\n",
    "        indices = indices[-len_ // devisor:]   \n",
    "    \n",
    "    indices_selection = slice_selection(dataset, indices, n_cases=n_cases)\n",
    "    subset            = dataset_from_indices(dataset, indices_selection)\n",
    "\n",
    "    return subset"
   ]
  },
  {
   "cell_type": "code",
   "execution_count": 60,
   "id": "a3d4c8e3",
   "metadata": {},
   "outputs": [],
   "source": [
    "subset = get_subset(trainset, seg_model, criterion, batch_size=22)"
   ]
  },
  {
   "cell_type": "code",
   "execution_count": 61,
   "id": "94d7aa84",
   "metadata": {},
   "outputs": [
    {
     "data": {
      "text/plain": [
       "10"
      ]
     },
     "execution_count": 61,
     "metadata": {},
     "output_type": "execute_result"
    }
   ],
   "source": [
    "len(subset)"
   ]
  },
  {
   "cell_type": "code",
   "execution_count": 18,
   "id": "c684a1b9",
   "metadata": {},
   "outputs": [
    {
     "data": {
      "text/plain": [
       "'mean'"
      ]
     },
     "execution_count": 18,
     "metadata": {},
     "output_type": "execute_result"
    }
   ],
   "source": [
    "criterion.reduction"
   ]
  },
  {
   "cell_type": "code",
   "execution_count": 75,
   "id": "6b0b6d07",
   "metadata": {},
   "outputs": [],
   "source": [
    "tmp = torch.load('../../../results-tmp/results/eval/calgary/pixel/calgary-localAug_multiImgSingleView_res_balanced_same-4-0')"
   ]
  },
  {
   "cell_type": "code",
   "execution_count": 76,
   "id": "7121d404",
   "metadata": {},
   "outputs": [
    {
     "data": {
      "text/plain": [
       "0.5320814251899719"
      ]
     },
     "execution_count": 76,
     "metadata": {},
     "output_type": "execute_result"
    }
   ],
   "source": [
    "tmp.auc_pr"
   ]
  },
  {
   "cell_type": "code",
   "execution_count": 82,
   "id": "e3650a7c",
   "metadata": {},
   "outputs": [],
   "source": [
    "tmp = torch.load('../../../results-tmp/results/eval/calgary/pixel/calgary-base_prob-4-0')"
   ]
  },
  {
   "cell_type": "code",
   "execution_count": 83,
   "id": "287eb1c3",
   "metadata": {},
   "outputs": [
    {
     "data": {
      "text/plain": [
       "0.3275090456008911"
      ]
     },
     "execution_count": 83,
     "metadata": {},
     "output_type": "execute_result"
    }
   ],
   "source": [
    "tmp.auc_pr"
   ]
  },
  {
   "cell_type": "code",
   "execution_count": 88,
   "id": "ecad035c",
   "metadata": {},
   "outputs": [
    {
     "data": {
      "text/plain": [
       "[<matplotlib.lines.Line2D at 0x7ff3e8de0940>]"
      ]
     },
     "execution_count": 88,
     "metadata": {},
     "output_type": "execute_result"
    },
    {
     "data": {
      "image/png": "[encoded data removed]",
      "text/plain": [
       "<Figure size 432x288 with 1 Axes>"
      ]
     },
     "metadata": {
      "needs_background": "light"
     },
     "output_type": "display_data"
    }
   ],
   "source": [
    "plt.plot(tmp.rec, tmp.pre)"
   ]
  },
  {
   "cell_type": "code",
   "execution_count": null,
   "id": "809de7ea",
   "metadata": {},
   "outputs": [],
   "source": []
  }
 ],
 "metadata": {
  "kernelspec": {
   "display_name": "Python 3 (ipykernel)",
   "language": "python",
   "name": "python3"
  },
  "language_info": {
   "codemirror_mode": {
    "name": "ipython",
    "version": 3
   },
   "file_extension": ".py",
   "mimetype": "text/x-python",
   "name": "python",
   "nbconvert_exporter": "python",
   "pygments_lexer": "ipython3",
   "version": "3.8.13"
  }
 },
 "nbformat": 4,
 "nbformat_minor": 5
}
