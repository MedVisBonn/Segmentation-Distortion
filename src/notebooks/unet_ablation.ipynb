{
 "cells": [
  {
   "cell_type": "markdown",
   "id": "3b314801",
   "metadata": {},
   "source": [
    "# U-Net Performance and relevant ablation studies"
   ]
  },
  {
   "cell_type": "markdown",
   "id": "1d57da58",
   "metadata": {},
   "source": []
  },
  {
   "cell_type": "markdown",
   "id": "9bfce692",
   "metadata": {},
   "source": [
    "## Aggregated Results"
   ]
  },
  {
   "cell_type": "code",
   "execution_count": 142,
   "id": "a377036e",
   "metadata": {},
   "outputs": [],
   "source": [
    "import os\n",
    "import torch\n",
    "import pandas as pd\n",
    "import seaborn as sns\n",
    "\n",
    "\n",
    "directory = '../../results/unet/'\n",
    "data = {}\n",
    "for file in os.listdir(directory):\n",
    "    if '.pt' in file:\n",
    "        data[file[:-3]] = torch.load(directory + file)\n",
    "        \n",
    "data['ae_heart'] = np.load(directory+'ae_heart.npy',allow_pickle=True).item()"
   ]
  },
  {
   "cell_type": "code",
   "execution_count": 143,
   "id": "c33826c6",
   "metadata": {},
   "outputs": [
    {
     "data": {
      "text/html": [
       "<div>\n",
       "<style scoped>\n",
       "    .dataframe tbody tr th:only-of-type {\n",
       "        vertical-align: middle;\n",
       "    }\n",
       "\n",
       "    .dataframe tbody tr th {\n",
       "        vertical-align: top;\n",
       "    }\n",
       "\n",
       "    .dataframe thead th {\n",
       "        text-align: right;\n",
       "    }\n",
       "</style>\n",
       "<table border=\"1\" class=\"dataframe\">\n",
       "  <thead>\n",
       "    <tr style=\"text-align: right;\">\n",
       "      <th></th>\n",
       "      <th>organ</th>\n",
       "      <th>domain</th>\n",
       "      <th>model</th>\n",
       "      <th>it</th>\n",
       "      <th>dsc</th>\n",
       "    </tr>\n",
       "  </thead>\n",
       "  <tbody>\n",
       "    <tr>\n",
       "      <th>0</th>\n",
       "      <td>heart</td>\n",
       "      <td>acdc_train</td>\n",
       "      <td>baseline</td>\n",
       "      <td>0</td>\n",
       "      <td>0.923220</td>\n",
       "    </tr>\n",
       "    <tr>\n",
       "      <th>1</th>\n",
       "      <td>heart</td>\n",
       "      <td>acdc_train</td>\n",
       "      <td>baseline</td>\n",
       "      <td>1</td>\n",
       "      <td>0.923347</td>\n",
       "    </tr>\n",
       "    <tr>\n",
       "      <th>2</th>\n",
       "      <td>heart</td>\n",
       "      <td>acdc_train</td>\n",
       "      <td>baseline</td>\n",
       "      <td>2</td>\n",
       "      <td>0.911828</td>\n",
       "    </tr>\n",
       "    <tr>\n",
       "      <th>3</th>\n",
       "      <td>heart</td>\n",
       "      <td>acdc_train</td>\n",
       "      <td>baseline</td>\n",
       "      <td>3</td>\n",
       "      <td>0.911891</td>\n",
       "    </tr>\n",
       "    <tr>\n",
       "      <th>4</th>\n",
       "      <td>heart</td>\n",
       "      <td>acdc_train</td>\n",
       "      <td>baseline</td>\n",
       "      <td>4</td>\n",
       "      <td>0.928071</td>\n",
       "    </tr>\n",
       "  </tbody>\n",
       "</table>\n",
       "</div>"
      ],
      "text/plain": [
       "   organ      domain     model it       dsc\n",
       "0  heart  acdc_train  baseline  0  0.923220\n",
       "1  heart  acdc_train  baseline  1  0.923347\n",
       "2  heart  acdc_train  baseline  2  0.911828\n",
       "3  heart  acdc_train  baseline  3  0.911891\n",
       "4  heart  acdc_train  baseline  4  0.928071"
      ]
     },
     "execution_count": 143,
     "metadata": {},
     "output_type": "execute_result"
    }
   ],
   "source": [
    "# Create a pandas DataFrame from the nested dictionary\n",
    "df = pd.DataFrame(columns=['organ', 'domain', 'model', 'it', 'dsc'])\n",
    "\n",
    "# Parse and populate the DataFrame\n",
    "for top_key, sub_dict in data.items():\n",
    "    model, organ = top_key.split('_')\n",
    "    for domain, values in sub_dict.items():\n",
    "        if isinstance(values, torch.Tensor):\n",
    "            for it, dsc in enumerate(values):\n",
    "                row = pd.DataFrame({\n",
    "                    'organ': organ,\n",
    "                    'domain': domain,\n",
    "                    'model': model,\n",
    "                    'it': it,\n",
    "                    'dsc': dsc.item()\n",
    "                }, index=[0])\n",
    "                df = pd.concat([df, row], ignore_index=True)\n",
    "    \n",
    "        elif isinstance(values, list):\n",
    "            for it, dsc in enumerate(values):\n",
    "                row = pd.DataFrame({\n",
    "                    'organ': organ,\n",
    "                    'domain': domain,\n",
    "                    'model': model,\n",
    "                    'it': it,\n",
    "                    'dsc': dsc\n",
    "                }, index=[0])\n",
    "                df = pd.concat([df, row], ignore_index=True)        \n",
    "                \n",
    "        else:\n",
    "            row = pd.DataFrame({\n",
    "                'organ': organ,\n",
    "                'domain': domain,\n",
    "                'model': model,\n",
    "                'it': 0,\n",
    "                'dsc': values\n",
    "            }, index=[0])\n",
    "            df = pd.concat([df, row], ignore_index=True)\n",
    "\n",
    "df.head()  # Display the first few rows of the DataFrame"
   ]
  },
  {
   "cell_type": "code",
   "execution_count": 151,
   "id": "b0fbd993",
   "metadata": {},
   "outputs": [
    {
     "data": {
      "image/png": "[encoded data removed]",
      "text/plain": [
       "<Figure size 432x288 with 1 Axes>"
      ]
     },
     "metadata": {},
     "output_type": "display_data"
    }
   ],
   "source": [
    "sns.boxplot(\n",
    "    data=df[(df['model'] != 'ablation') & (df['organ'] == 'heart')], \n",
    "    x='domain', \n",
    "    y='dsc',\n",
    "    hue='model'\n",
    ")\n",
    "sns.scatterplot(\n",
    "    data=df[(df['model'] == 'ablation') & (df['organ'] == 'heart')], \n",
    "    x='domain', \n",
    "    y='dsc', \n",
    "    marker=\"o\", \n",
    "    s=100,\n",
    "    c='red',\n",
    "#     hue='domain',\n",
    "    legend=False\n",
    ")\n",
    "\n",
    "plt.xticks(rotation=90)\n",
    "plt.title('Heart')\n",
    "plt.savefig('../../assests/heart_domain_adaptation.png', bbox_inches='tight', dpi=400, transparent=False)"
   ]
  },
  {
   "cell_type": "code",
   "execution_count": 165,
   "id": "e5bd97ab",
   "metadata": {},
   "outputs": [
    {
     "name": "stdout",
     "output_type": "stream",
     "text": [
      "         dsc\n",
      "it          \n",
      "1   0.951932\n",
      "7   0.954599\n",
      "8   0.970577\n",
      "6   0.971160\n",
      "0   0.971397\n",
      "4   0.973400\n",
      "3   0.973850\n",
      "2   0.974122\n",
      "5   0.974726\n",
      "9   0.976184\n",
      "         dsc\n",
      "it          \n",
      "3   0.822882\n",
      "8   0.824735\n",
      "5   0.834156\n",
      "1   0.842794\n",
      "6   0.844521\n",
      "7   0.847788\n",
      "4   0.849588\n",
      "2   0.849634\n",
      "0   0.850756\n",
      "9   0.852914\n"
     ]
    }
   ],
   "source": [
    "# sorting dice scores to find average unet\n",
    "print(df[df['organ'] == 'brain'].groupby('it').mean().sort_values('dsc'))\n",
    "print(df[df['organ'] == 'heart'].groupby('it').mean().sort_values('dsc'))"
   ]
  },
  {
   "cell_type": "code",
   "execution_count": 152,
   "id": "7a28f6d2",
   "metadata": {},
   "outputs": [
    {
     "data": {
      "image/png": "[encoded data removed]",
      "text/plain": [
       "<Figure size 432x288 with 1 Axes>"
      ]
     },
     "metadata": {},
     "output_type": "display_data"
    }
   ],
   "source": [
    "sns.set_style(\"darkgrid\")\n",
    "\n",
    "sns.boxplot(\n",
    "    data=df[(df['model'] != 'ablation') & (df['organ'] == 'brain')], \n",
    "    x='domain', \n",
    "    y='dsc',\n",
    "    hue='model'\n",
    ")\n",
    "sns.scatterplot(\n",
    "    data=df[(df['model'] == 'ablation') & (df['organ'] == 'brain')], \n",
    "    x='domain', \n",
    "    y='dsc', \n",
    "    marker=\"o\", \n",
    "    s=100,\n",
    "    c='red',\n",
    "#     hue='domain',\n",
    "    legend=False\n",
    ")\n",
    "\n",
    "plt.xticks(rotation=90)\n",
    "plt.title('Brain')\n",
    "plt.savefig('../../assests/Brain_domain_adaptation.png', bbox_inches='tight', dpi=400, transparent=False)"
   ]
  },
  {
   "cell_type": "markdown",
   "id": "5d85b330",
   "metadata": {},
   "source": [
    "## Imports and Definitions"
   ]
  },
  {
   "cell_type": "code",
   "execution_count": 132,
   "id": "bd7bd711",
   "metadata": {},
   "outputs": [],
   "source": [
    "import matplotlib.pyplot as plt\n",
    "import os, sys\n",
    "from typing import (\n",
    "    Iterable,\n",
    "    Dict,\n",
    "    List,\n",
    "    Callable,\n",
    "    Tuple,\n",
    "    Union,\n",
    "    List\n",
    ")\n",
    "import numpy as np\n",
    "import torch\n",
    "from torch import nn, Tensor\n",
    "import torch.nn.functional as F\n",
    "from torch.utils.data import DataLoader\n",
    "import matplotlib.pyplot as plt\n",
    "from batchgenerators.dataloading.multi_threaded_augmenter import MultiThreadedAugmenter\n",
    "\n",
    "\n",
    "sys.path.append('../')\n",
    "from dataset import (\n",
    "    CalgaryCampinasDataset, \n",
    "    MNMDataset, \n",
    "    ACDCDataset\n",
    ")\n",
    "from model.unet import UNet2D\n",
    "from losses import (\n",
    "    DiceScoreCalgary,\n",
    "    SurfaceDiceCalgary,\n",
    "    DiceScoreMMS\n",
    ")\n",
    "from utils import epoch_average, volume_collate\n",
    "from trainer.unet_trainer import UNetTrainerCalgary, UNetTrainerACDC\n",
    "from data_utils import (\n",
    "    get_subset,\n",
    "    Transforms,\n",
    "    MultiImageSingleViewDataLoader\n",
    ")\n",
    "from model.dae import AugResDAE\n",
    "from model.wrapper import ModelAdapter"
   ]
  },
  {
   "cell_type": "code",
   "execution_count": 12,
   "id": "57658700",
   "metadata": {},
   "outputs": [],
   "source": [
    "@torch.no_grad()\n",
    "def get_dice_for_brain(\n",
    "    dataset,\n",
    "    model: nn.Module,\n",
    "    criterion: nn.Module,\n",
    "    device: str = 'cuda:0',\n",
    "    batch_size: int = 1\n",
    "):\n",
    "    dataloader = DataLoader(\n",
    "        dataset, \n",
    "        batch_size=batch_size, \n",
    "        shuffle=False,\n",
    "        drop_last=False\n",
    "    )\n",
    "    \n",
    "    # collect evaluation per slice and cache\n",
    "    #assert criterion.reduction == 'none'\n",
    "    model.eval()\n",
    "    loss_list = []\n",
    "    for batch in dataloader:\n",
    "        input_  = batch['input'].to(device)\n",
    "        target  = batch['target'].to(device)\n",
    "        net_out = (torch.sigmoid(model(input_)) > 0.5) * 1\n",
    "        loss    = criterion(\n",
    "            net_out,\n",
    "            target\n",
    "        ).view(input_.shape[0], -1).mean(1)\n",
    "        \n",
    "        loss_list.append(loss)\n",
    "        \n",
    "    return torch.cat(loss_list, dim=0).cpu()\n",
    "\n",
    "\n",
    "\n",
    "@torch.no_grad()\n",
    "def get_dice_for_heart(\n",
    "    dataset,\n",
    "    model: nn.Module, \n",
    "    criterion: nn.Module,\n",
    "    device: str = 'cuda:0',\n",
    "    batch_size: int = 1\n",
    "):   \n",
    "    dataloader = DataLoader(\n",
    "        dataset, \n",
    "        batch_size=batch_size, \n",
    "        shuffle=False,\n",
    "        drop_last=False\n",
    "    )\n",
    "    \n",
    "    model.eval()\n",
    "    # saves batch sizes for each batch for averaging\n",
    "    loss_list = []\n",
    "    for batch in dataloader:\n",
    "        input_ = batch['input'].to(device)\n",
    "        target = batch['target'].to(device)\n",
    "        # convert -1 labels to background\n",
    "        target[target == -1] = 0\n",
    "        # convert to one-hot encoding\n",
    "        target = F.one_hot(target.long(), num_classes=4).squeeze(1).permute(0,3,1,2)\n",
    "        # get model output and compute loss\n",
    "        net_out = model(input_)\n",
    "        loss    = criterion(\n",
    "            net_out,\n",
    "            target\n",
    "        ).view(input_.shape[0], -1).mean(1)\n",
    "        loss_list.append(loss)\n",
    "        \n",
    "    return torch.cat(loss_list, dim=0).cpu()"
   ]
  },
  {
   "cell_type": "markdown",
   "id": "dbaef570",
   "metadata": {},
   "source": [
    "## Calgary Campinas"
   ]
  },
  {
   "cell_type": "markdown",
   "id": "dad9bd8f",
   "metadata": {},
   "source": [
    "### U-Nets"
   ]
  },
  {
   "cell_type": "code",
   "execution_count": 136,
   "id": "5e05e06a",
   "metadata": {},
   "outputs": [
    {
     "data": {
      "text/plain": [
       "<All keys matched successfully>"
      ]
     },
     "execution_count": 136,
     "metadata": {},
     "output_type": "execute_result"
    }
   ],
   "source": [
    "# U-Nets\n",
    "post = ''\n",
    "middle = 'unet'\n",
    "pre = 'calgary'\n",
    "unet_names = [f'{pre}_{middle}{i}' for i in range(10)]\n",
    "unets = []\n",
    "\n",
    "for name in unet_names:\n",
    "    model_path = f'{ROOT}pre-trained/trained_UNets/{name}_best.pt'\n",
    "    state_dict = torch.load(model_path)['model_state_dict']\n",
    "    unet = UNet2D(\n",
    "        n_chans_in=1, \n",
    "        n_chans_out=1, \n",
    "        n_filters_init=8, \n",
    "        dropout=False\n",
    "    )\n",
    "    unet.load_state_dict(state_dict)\n",
    "    unets.append(unet)\n",
    "    \n",
    "\n",
    "model_path = f'{ROOT}pre-trained/trained_UNets/calgary_unet0_ablation_best.pt'\n",
    "state_dict = torch.load(model_path)['model_state_dict']\n",
    "unet_all_transforms = UNet2D(\n",
    "        n_chans_in=1, \n",
    "        n_chans_out=1, \n",
    "        n_filters_init=8, \n",
    "        dropout=False\n",
    "    )\n",
    "unet_all_transforms.load_state_dict(state_dict)"
   ]
  },
  {
   "cell_type": "markdown",
   "id": "e0f09a82",
   "metadata": {},
   "source": [
    "### AEs"
   ]
  },
  {
   "cell_type": "code",
   "execution_count": 137,
   "id": "9d4adebc",
   "metadata": {},
   "outputs": [],
   "source": [
    "disabled_ids = ['shortcut0', 'shortcut1', 'shortcut2']\n",
    "DAEs = nn.ModuleDict(\n",
    "    {'up3': AugResDAE(\n",
    "        in_channels = 64, \n",
    "        in_dim      = 32,\n",
    "        latent_dim  = 256,\n",
    "        depth       = 3,\n",
    "        block_size  = 4)\n",
    "    }\n",
    ")\n",
    "\n",
    "for layer_id in disabled_ids:\n",
    "    DAEs[layer_id] = nn.Identity()\n",
    "\n",
    "aes = []\n",
    "    \n",
    "for i, unet in enumerate(unets):\n",
    "    model = ModelAdapter(\n",
    "        seg_model=unet,\n",
    "        transformations=DAEs,\n",
    "        disabled_ids=disabled_ids,\n",
    "        copy=True\n",
    "    )\n",
    "    \n",
    "    model_path = f'{ROOT}pre-trained-tmp/trained_AEs/calgary_AugResDAE{i}_localAug_multiImgSingleView_res_balanced_same_best.pt'\n",
    "    state_dict = torch.load(model_path)['model_state_dict']\n",
    "    model.load_state_dict(state_dict)\n",
    "    model.hook_inference_transformations(model.transformations, n_samples=-1)\n",
    "    model.eval()\n",
    "    aes.append(model)"
   ]
  },
  {
   "cell_type": "markdown",
   "id": "7667f859",
   "metadata": {},
   "source": [
    "### Full Sets"
   ]
  },
  {
   "cell_type": "code",
   "execution_count": 3,
   "id": "9ea68680",
   "metadata": {},
   "outputs": [],
   "source": [
    "DEBUG = False\n",
    "ROOT = '../../'\n",
    "DATA_PATH = '../../data/conp-dataset/projects/calgary-campinas/CC359/Reconstructed/'\n"
   ]
  },
  {
   "cell_type": "code",
   "execution_count": 139,
   "id": "d7fc72f9",
   "metadata": {},
   "outputs": [],
   "source": [
    "train_and_validation = {\n",
    "    split: CalgaryCampinasDataset(\n",
    "        data_path=DATA_PATH, \n",
    "        site=6,\n",
    "        split=split,\n",
    "        augment=False, \n",
    "        normalize=True, \n",
    "        debug=DEBUG\n",
    "    ) for split in ['train', 'validation']\n",
    "}\n",
    "\n",
    "test = {\n",
    "    str(site): CalgaryCampinasDataset(\n",
    "        data_path=DATA_PATH, \n",
    "        site=site,\n",
    "        split='all',\n",
    "        augment=False, \n",
    "        normalize=True, \n",
    "        debug=DEBUG\n",
    "    ) for site in range(1, 6)\n",
    "}\n",
    "\n",
    "datasets = {**train_and_validation, **test}"
   ]
  },
  {
   "cell_type": "markdown",
   "id": "1bf3363e",
   "metadata": {},
   "source": [
    "### Subsets\n",
    "\n",
    "not needed as of now"
   ]
  },
  {
   "cell_type": "markdown",
   "id": "12cc41ec",
   "metadata": {},
   "source": [
    "### Eval"
   ]
  },
  {
   "cell_type": "code",
   "execution_count": 140,
   "id": "19cbba84",
   "metadata": {},
   "outputs": [
    {
     "name": "stdout",
     "output_type": "stream",
     "text": [
      "tensor([0.9864, 0.9452, 0.9875, 0.9872, 0.9868, 0.9825, 0.9843, 0.9343, 0.9786,\n",
      "        0.9882])\n",
      "tensor([0.9835, 0.9493, 0.9853, 0.9845, 0.9837, 0.9792, 0.9834, 0.9407, 0.9771,\n",
      "        0.9861])\n",
      "tensor([0.9714, 0.9627, 0.9753, 0.9760, 0.9771, 0.9780, 0.9768, 0.9559, 0.9727,\n",
      "        0.9790])\n",
      "tensor([0.9739, 0.9183, 0.9777, 0.9787, 0.9777, 0.9790, 0.9732, 0.9460, 0.9771,\n",
      "        0.9805])\n",
      "tensor([0.9680, 0.9138, 0.9678, 0.9694, 0.9703, 0.9711, 0.9578, 0.9350, 0.9733,\n",
      "        0.9721])\n",
      "tensor([0.9604, 0.8801, 0.9642, 0.9667, 0.9676, 0.9660, 0.9546, 0.9461, 0.9319,\n",
      "        0.9720])\n",
      "tensor([0.9349, 0.9428, 0.9524, 0.9517, 0.9511, 0.9615, 0.9566, 0.8917, 0.9569,\n",
      "        0.9580])\n"
     ]
    }
   ],
   "source": [
    "metrics_ae_brain = {}\n",
    "\n",
    "for key in datasets:\n",
    "    scores = []\n",
    "    for ae in aes:\n",
    "        DSC = get_dice_for_brain(\n",
    "            dataset=datasets[key],\n",
    "            model=ae.cuda(),\n",
    "            criterion=DiceScoreCalgary(),\n",
    "            device='cuda:0',\n",
    "            batch_size = 32\n",
    "        )\n",
    "        scores.append(DSC.mean())\n",
    "\n",
    "    metrics_ae_brain[\n",
    "        f'{datasets[key].folder}_{datasets[key].split}'\n",
    "    ] = torch.tensor(scores)\n",
    "    \n",
    "    print(metrics_ae_brain[f'{datasets[key].folder}_{datasets[key].split}'])"
   ]
  },
  {
   "cell_type": "code",
   "execution_count": 141,
   "id": "4b71f0aa",
   "metadata": {},
   "outputs": [],
   "source": [
    "torch.save(metrics_ae_brain, '../../results/unet/ae_brain.pt')"
   ]
  },
  {
   "cell_type": "code",
   "execution_count": 6,
   "id": "dc5c3110",
   "metadata": {},
   "outputs": [],
   "source": [
    "metrics_baseline_brain = {}\n",
    "\n",
    "for key in datasets:\n",
    "    scores = []\n",
    "    for unet in unets:\n",
    "        DSC = get_dice_for_brain(\n",
    "            dataset=datasets[key],\n",
    "            model=unet.cuda(),\n",
    "            criterion=DiceScoreCalgary(),\n",
    "            device='cuda:0',\n",
    "            batch_size = 32\n",
    "        )\n",
    "        scores.append(DSC.mean())\n",
    "\n",
    "    metrics_baseline_brain[\n",
    "        f'{datasets[key].folder}_{datasets[key].split}'\n",
    "    ] = torch.tensor(scores)\n",
    "    \n",
    "# torch.save(metrics_baseline_brain, '../../results/unet/baseline_performance_brain.pt')"
   ]
  },
  {
   "cell_type": "code",
   "execution_count": 7,
   "id": "95fae2c0",
   "metadata": {},
   "outputs": [],
   "source": [
    "metrics_ablation_brain = {}\n",
    "\n",
    "for key in datasets:\n",
    "    DSC = get_dice_for_brain(\n",
    "        dataset=datasets[key],\n",
    "        model=unet_all_transforms.cuda(),\n",
    "        criterion=DiceScoreCalgary(),\n",
    "        device='cuda:0',\n",
    "        batch_size = 32\n",
    "    )\n",
    "    metrics_ablation_brain[\n",
    "        f'{datasets[key].folder}_{datasets[key].split}'\n",
    "    ] = DSC.mean().item()\n",
    "    \n",
    "# torch.save(metrics_ablation_brain, '../../results/unet/additional_augmentations_brain.pt')"
   ]
  },
  {
   "cell_type": "markdown",
   "id": "ebfa4a4e",
   "metadata": {},
   "source": [
    "### Visualization"
   ]
  },
  {
   "cell_type": "code",
   "execution_count": null,
   "id": "804d5b0d",
   "metadata": {},
   "outputs": [],
   "source": []
  },
  {
   "cell_type": "markdown",
   "id": "794a0cf9",
   "metadata": {},
   "source": [
    "## ACDC / M&M Datasets"
   ]
  },
  {
   "cell_type": "code",
   "execution_count": 22,
   "id": "eb8bdcfa",
   "metadata": {
    "collapsed": true,
    "jupyter": {
     "outputs_hidden": true
    }
   },
   "outputs": [
    {
     "name": "stdout",
     "output_type": "stream",
     "text": [
      "loading dataset\n",
      "loading all case properties\n",
      "loading dataset\n",
      "loading all case properties\n",
      "loading dataset\n",
      "loading all case properties\n",
      "loading dataset\n",
      "loading all case properties\n",
      "loading dataset\n",
      "loading all case properties\n",
      "loading dataset\n",
      "loading all case properties\n"
     ]
    }
   ],
   "source": [
    "### - datasets\n",
    "DEBUG = False\n",
    "datasets = {}\n",
    "# - ACDC train\n",
    "acdc_train = ACDCDataset(data='train', debug=DEBUG)\n",
    "datasets['acdc_train'] = acdc_train\n",
    "# - ACDC val\n",
    "acdc_val = ACDCDataset(data='val', debug=DEBUG)\n",
    "datasets['acdc_val'] = acdc_val\n",
    "# - M&M A\n",
    "mnm_a = MNMDataset(vendor='A', debug=DEBUG)\n",
    "datasets['mnm_siemens'] = mnm_a\n",
    "# - M&M B\n",
    "mnm_b = MNMDataset(vendor='B', debug=DEBUG)\n",
    "datasets['mnm_philips'] = mnm_b\n",
    "# - M&M C\n",
    "mnm_c = MNMDataset(vendor='C', debug=DEBUG)\n",
    "datasets['mnm_ge'] = mnm_c\n",
    "# - M&M D\n",
    "mnm_d = MNMDataset(vendor='D', debug=DEBUG)\n",
    "datasets['mnm_canon'] = mnm_d"
   ]
  },
  {
   "cell_type": "markdown",
   "id": "48744951",
   "metadata": {},
   "source": [
    "## Unets"
   ]
  },
  {
   "cell_type": "code",
   "execution_count": 27,
   "id": "0b8fafc3",
   "metadata": {},
   "outputs": [
    {
     "data": {
      "text/plain": [
       "<All keys matched successfully>"
      ]
     },
     "execution_count": 27,
     "metadata": {},
     "output_type": "execute_result"
    }
   ],
   "source": [
    "# U-Nets\n",
    "post = ''\n",
    "middle = 'unet8_'\n",
    "pre = 'acdc'\n",
    "\n",
    "unet_names = [f'{pre}_{middle}{i}' for i in range(10)]\n",
    "unets = []\n",
    "\n",
    "for name in unet_names:\n",
    "    model_path = f'{ROOT}pre-trained/trained_UNets/{name}_best.pt'\n",
    "    state_dict = torch.load(model_path)['model_state_dict']\n",
    "    unet = UNet2D(\n",
    "        n_chans_in=1, \n",
    "        n_chans_out=4, \n",
    "        n_filters_init=8, \n",
    "        dropout=False\n",
    "    )\n",
    "    unet.load_state_dict(state_dict)\n",
    "    unets.append(unet)\n",
    "    \n",
    "\n",
    "model_path = f'{ROOT}pre-trained/trained_UNets/acdc_unet8_0_ablation_best.pt'\n",
    "state_dict = torch.load(model_path)['model_state_dict']\n",
    "unet_all_transforms = UNet2D(\n",
    "    n_chans_in=1,\n",
    "    n_chans_out=4, \n",
    "    n_filters_init=8, \n",
    "    dropout=False\n",
    ")\n",
    "unet_all_transforms.load_state_dict(state_dict)"
   ]
  },
  {
   "cell_type": "markdown",
   "id": "565e389b",
   "metadata": {},
   "source": [
    "### Eval"
   ]
  },
  {
   "cell_type": "code",
   "execution_count": 24,
   "id": "535dffc9",
   "metadata": {},
   "outputs": [],
   "source": [
    "metrics_baseline_heart = {}\n",
    "\n",
    "for key in datasets:\n",
    "    scores = []\n",
    "    for unet in unets:\n",
    "        DSC = get_dice_for_heart(\n",
    "            dataset=datasets[key],\n",
    "            model=unet.cuda(),\n",
    "            criterion=DiceScoreMMS(),\n",
    "            device='cuda:0',\n",
    "            batch_size = 32\n",
    "        )\n",
    "        scores.append(DSC.mean())\n",
    "\n",
    "    metrics_baseline_heart[f'{key}'] = torch.tensor(scores)\n",
    "    \n",
    "torch.save(metrics_baseline_heart, '../../results/unet/baseline_performance_heart.pt')"
   ]
  },
  {
   "cell_type": "code",
   "execution_count": 39,
   "id": "9458caa5",
   "metadata": {},
   "outputs": [
    {
     "data": {
      "text/plain": [
       "{'acdc_train': 0.9280713200569153,\n",
       " 'acdc_val': 0.8797795176506042,\n",
       " 'mnm_siemens': 0.7932883501052856,\n",
       " 'mnm_philips': 0.8417585492134094,\n",
       " 'mnm_ge': 0.8398064374923706,\n",
       " 'mnm_canon': 0.8420272469520569}"
      ]
     },
     "execution_count": 39,
     "metadata": {},
     "output_type": "execute_result"
    }
   ],
   "source": [
    "{key: metrics_baseline_heart[key].max().item() for key in metrics_baseline_heart}"
   ]
  },
  {
   "cell_type": "code",
   "execution_count": 28,
   "id": "6cddabaf",
   "metadata": {},
   "outputs": [],
   "source": [
    "metrics_ablation_heart = {}\n",
    "\n",
    "for key in datasets:\n",
    "    DSC = get_dice_for_heart(\n",
    "        dataset=datasets[key],\n",
    "        model=unet_all_transforms.cuda(),\n",
    "        criterion=DiceScoreMMS(),\n",
    "        device='cuda:0',\n",
    "        batch_size=32\n",
    "    )\n",
    "    metrics_ablation_heart[f'{key}'] = DSC.mean().item()\n",
    "    "
   ]
  },
  {
   "cell_type": "code",
   "execution_count": 46,
   "id": "6d90a04e",
   "metadata": {},
   "outputs": [],
   "source": [
    "torch.save(metrics_ablation_heart, '../../results/unet/additional_augmentations_heart.pt')"
   ]
  },
  {
   "cell_type": "code",
   "execution_count": 40,
   "id": "29d925b2",
   "metadata": {},
   "outputs": [
    {
     "data": {
      "text/plain": [
       "{'acdc_train': 0.9280713200569153,\n",
       " 'acdc_val': 0.8797795176506042,\n",
       " 'mnm_siemens': 0.7932883501052856,\n",
       " 'mnm_philips': 0.8417585492134094,\n",
       " 'mnm_ge': 0.8398064374923706,\n",
       " 'mnm_canon': 0.8420272469520569}"
      ]
     },
     "execution_count": 40,
     "metadata": {},
     "output_type": "execute_result"
    }
   ],
   "source": [
    "{key: metrics_baseline_heart[key].max().item() for key in metrics_baseline_heart}"
   ]
  },
  {
   "cell_type": "code",
   "execution_count": null,
   "id": "7bbbb99c",
   "metadata": {},
   "outputs": [],
   "source": []
  }
 ],
 "metadata": {
  "kernelspec": {
   "display_name": "Python 3 (ipykernel)",
   "language": "python",
   "name": "python3"
  },
  "language_info": {
   "codemirror_mode": {
    "name": "ipython",
    "version": 3
   },
   "file_extension": ".py",
   "mimetype": "text/x-python",
   "name": "python",
   "nbconvert_exporter": "python",
   "pygments_lexer": "ipython3",
   "version": "3.8.13"
  }
 },
 "nbformat": 4,
 "nbformat_minor": 5
}
