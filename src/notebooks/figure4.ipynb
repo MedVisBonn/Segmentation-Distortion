{
 "cells": [
  {
   "cell_type": "code",
   "execution_count": 1,
   "id": "479632f4",
   "metadata": {},
   "outputs": [],
   "source": [
    "import torch\n",
    "import numpy as np\n",
    "import matplotlib.pyplot as plt\n",
    "import os\n",
    "from torch.utils.data import default_collate\n",
    "import pandas as pd\n",
    "import seaborn as sns\n",
    "import warnings\n",
    "warnings.filterwarnings(\"ignore\")\n",
    "from torchmetrics import SpearmanCorrCoef"
   ]
  },
  {
   "cell_type": "code",
   "execution_count": 2,
   "id": "7a0e7265",
   "metadata": {},
   "outputs": [],
   "source": [
    "def get_image_data(method: str, net_out: str, task: str, scanner: int):\n",
    "    directory = f'../../results-tmp/results/eval/{net_out}/image/'\n",
    "    image_data = []\n",
    "    for file in os.listdir(directory):\n",
    "        if method in file and 'ood' in file and scanner in file[:-2] and 'auroc' in file:\n",
    "            f = torch.load(directory + file)\n",
    "            image_data.append(f) \n",
    "    return default_collate(image_data)"
   ]
  },
  {
   "cell_type": "code",
   "execution_count": 3,
   "id": "1120f42c",
   "metadata": {},
   "outputs": [],
   "source": [
    "df_ood_mms = pd.DataFrame(columns=['method', 'Domain', 'run', 'AUROC'])\n",
    "for method in ['gonzales', 'latents', 'entropy', 'ensemble_tmp', 'ae']:\n",
    "    for scanner in ['val', 'A', 'B', 'C','D']:\n",
    "        \n",
    "        if 'ensemble' in method:\n",
    "            task = 'ood'\n",
    "        else:\n",
    "            task = 'both'\n",
    "        try:\n",
    "            tmp = get_image_data(method=method, \n",
    "                                 net_out='mms', \n",
    "                                 task=task, \n",
    "                                 scanner=str(scanner))\n",
    "\n",
    "            if scanner == 'A':\n",
    "                domain = 'Siemens \\n(M&M)'\n",
    "            if scanner == 'B':\n",
    "                domain = 'Philips'\n",
    "            if scanner == 'C':\n",
    "                domain = 'GE'\n",
    "            if scanner == 'D':\n",
    "                domain = 'Canon'\n",
    "            if scanner == 'val':\n",
    "                continue\n",
    "\n",
    "            if method == 'gonzales':\n",
    "                m = 'Pooling Mahalanobis'\n",
    "            if method == 'entropy':\n",
    "                m = 'Entropy - Single Net'\n",
    "            if method == 'latents':\n",
    "                m = 'Latent Mahalanobis'\n",
    "            if method == 'ae':\n",
    "                m = 'Segmentation Distortion'\n",
    "            if method == 'ensemble_tmp':\n",
    "                m = 'Entropy - Ensemble'\n",
    "\n",
    "            for i, ood in enumerate(tmp['ood']):\n",
    "                row = {'Domain': domain, \n",
    "                       'method': m, \n",
    "                       'run': i, \n",
    "                       'AUROC': ood.numpy().item()}\n",
    "\n",
    "                df_ood_mms = df_ood_mms.append(row, ignore_index=True)\n",
    "        except:\n",
    "            print(f\"\\nPassed {method}{scanner}\\n\")\n"
   ]
  },
  {
   "cell_type": "code",
   "execution_count": 11,
   "id": "5580add2",
   "metadata": {},
   "outputs": [
    {
     "data": {
      "image/png": "[encoded data removed]",
      "text/plain": [
       "<Figure size 360x360 with 1 Axes>"
      ]
     },
     "metadata": {
      "needs_background": "light"
     },
     "output_type": "display_data"
    }
   ],
   "source": [
    "fig, axes = plt.subplots(1, 1, figsize=(5,5),  gridspec_kw={'hspace': 0})\n",
    "axes.set_title('M&M - OOD Detection')\n",
    "\n",
    "sns.boxplot(ax=axes, x=\"Domain\", y=\"AUROC\",\n",
    "        hue=\"method\", data=df_ood_mms)\n",
    "axes.legend().set_title('')\n",
    "axes.set_xlabel(\"\")\n",
    "axes.set_ylim(-0.1, 1.05)\n",
    "axes.set_axisbelow(True)\n",
    "axes.yaxis.grid(True, alpha=0.5, zorder=0)\n",
    "fig.savefig(\"../../results-tmp/results/eval/mms_ood.png\", bbox_inches='tight', dpi=400, transparent=True)"
   ]
  },
  {
   "cell_type": "code",
   "execution_count": 5,
   "id": "544a159f",
   "metadata": {},
   "outputs": [],
   "source": [
    "heart = np.load('../../results-tmp/results/unet/heart_unet_results.npy', allow_pickle=True).item()"
   ]
  },
  {
   "cell_type": "code",
   "execution_count": 6,
   "id": "f19f6b79",
   "metadata": {},
   "outputs": [],
   "source": [
    "df = pd.DataFrame(columns = ['DCS', 'Domain'])\n",
    "for key in heart:\n",
    "    \n",
    "    if 'acdc_train' in key:\n",
    "        continue\n",
    "    if 'acdc_val' in key:\n",
    "        domain = 'Siemens \\n(val)'\n",
    "    \n",
    "    if 'siemens' in key:\n",
    "        domain = 'Siemens'\n",
    "    if 'philips' in key:\n",
    "        domain = 'Philips'\n",
    "    if 'canon' in key:\n",
    "        domain = 'Canon'\n",
    "    if 'ge' in key:\n",
    "        domain = 'GE'\n",
    "    \n",
    "    values = np.array([heart[key], [domain]*10]).T\n",
    "    for value in values:\n",
    "        row = {'DCS': value[0],\n",
    "               'Domain': value[1]}\n",
    "        #print(row)\n",
    "        df = df.append(row, ignore_index=True)\n",
    "    #df.append([heart[key], [key]*10], ignore_index=True)"
   ]
  },
  {
   "cell_type": "code",
   "execution_count": 7,
   "id": "e87c4021",
   "metadata": {},
   "outputs": [],
   "source": [
    "df['DCS'] = df['DCS'].astype(float)"
   ]
  },
  {
   "cell_type": "code",
   "execution_count": 8,
   "id": "aa35ff1e",
   "metadata": {},
   "outputs": [],
   "source": [
    "df = pd.read_csv(\"../../results-tmp/results/eval/mms_dcs.pd\")\n",
    "df['Vendor'] = df['Vendor'].replace(\"M&M - Philips\", \"Philips\")\n",
    "df['Vendor'] = df['Vendor'].replace(\"M&M - GE\", \"GE\")\n",
    "df['Vendor'] = df['Vendor'].replace(\"M&M - Siemens\", \"Siemens \\n(M&M)\")\n",
    "df['Vendor'] = df['Vendor'].replace(\"M&M - Canon\", \"Canon\")\n",
    "df['Vendor'] = df['Vendor'].replace(\"ACDC - Siemens (val)\", \"Siemens \\n(ACDC)\")"
   ]
  },
  {
   "cell_type": "code",
   "execution_count": 10,
   "id": "eca473ee",
   "metadata": {},
   "outputs": [
    {
     "data": {
      "image/png": "[encoded data removed]",
      "text/plain": [
       "<Figure size 360x360 with 1 Axes>"
      ]
     },
     "metadata": {
      "needs_background": "light"
     },
     "output_type": "display_data"
    }
   ],
   "source": [
    "fig, axes = plt.subplots(1, 1, figsize=(5,5),  gridspec_kw={'hspace': 0})\n",
    "\n",
    "sns.boxplot(ax=axes, x=\"Vendor\", y=\"DCS\", data=df, color='tab:blue')\n",
    "axes.set_title(\"Test Domain DCS\")\n",
    "axes.set_xlabel(\"\")\n",
    "axes.set_axisbelow(True)\n",
    "axes.yaxis.grid(True, alpha=0.5, zorder=0)\n",
    "#axes.set_ylim(0.6, 0.9)\n",
    "fig.savefig(\"../../results-tmp/results/unet/mms_dcs.png\", bbox_inches='tight', dpi=400, transparent=True)"
   ]
  }
 ],
 "metadata": {
  "kernelspec": {
   "display_name": "Python 3 (ipykernel)",
   "language": "python",
   "name": "python3"
  },
  "language_info": {
   "codemirror_mode": {
    "name": "ipython",
    "version": 3
   },
   "file_extension": ".py",
   "mimetype": "text/x-python",
   "name": "python",
   "nbconvert_exporter": "python",
   "pygments_lexer": "ipython3",
   "version": "3.8.13"
  }
 },
 "nbformat": 4,
 "nbformat_minor": 5
}
